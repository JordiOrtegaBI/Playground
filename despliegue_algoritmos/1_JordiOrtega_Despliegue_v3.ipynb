{
 "cells": [
  {
   "cell_type": "code",
   "execution_count": 1,
   "metadata": {},
   "outputs": [],
   "source": [
    "##################################################################################################################\n",
    "############################## PRACTICA DESPLIEGUE ALGORITMOS: Jordi Ortega - IA2 ################################\n",
    "##################################################################################################################\n",
    "\n",
    "# 0. Ejercicio 1. Clasificación con Scikit-learn y MLflow\n",
    "\n",
    "# 1. Venv -> Creamos un entorno específico para el modulo de 'despliegue de algoritmos'\n",
    "# 2. Exploración de Datos -> Trabajo realizado en el módulo de NLP. Para más detalle referirse a: https://github.com/JordiOrtegaBI/Playground/tree/master/nlp\n",
    "# 3. Preprocesamiento de Texto -> Trabajo realizado en el módulo de NLP. Para más detalle referirse a: https://github.com/JordiOrtegaBI/Playground/tree/master/nlp\n",
    "# 4. Dataset -> Cargamos el dataset\n",
    "# 5. Entrenamiento del Modelo -> Dividimos el dataset y entrenamos el modelo\n",
    "# 6. Evaluación del Modelo -> Obtenemos las principales métricas y dibujamos una matriz de confusión\n",
    "# 7. Registro de Métricas con MLflow -> Usamos MLflow para testear diverdas métricas mediante diversos paramétros\n",
    "# 8. Conclusiones y pantallazos de MLflow ui"
   ]
  },
  {
   "cell_type": "code",
   "execution_count": 2,
   "metadata": {},
   "outputs": [],
   "source": [
    "##################################################################################################################\n",
    "############################## VENV ##############################################################################\n",
    "##################################################################################################################"
   ]
  },
  {
   "cell_type": "code",
   "execution_count": 3,
   "metadata": {},
   "outputs": [],
   "source": [
    "# Desde cmd: Creamos un entorno virtual específico, lo activamos, instalamos las librerías del requirements y añadimos ipykernel para poder trabajar con ipynb.\n",
    "# python -m venv venv\n",
    "# venv\\Scripts\\activate\n",
    "# pip install -r requirements.txt\n",
    "# pip install ipykernel"
   ]
  },
  {
   "cell_type": "code",
   "execution_count": 4,
   "metadata": {},
   "outputs": [],
   "source": [
    "##################################################################################################################\n",
    "############################## DATASET ###########################################################################\n",
    "##################################################################################################################"
   ]
  },
  {
   "cell_type": "code",
   "execution_count": 7,
   "metadata": {},
   "outputs": [
    {
     "data": {
      "text/html": [
       "<div>\n",
       "<style scoped>\n",
       "    .dataframe tbody tr th:only-of-type {\n",
       "        vertical-align: middle;\n",
       "    }\n",
       "\n",
       "    .dataframe tbody tr th {\n",
       "        vertical-align: top;\n",
       "    }\n",
       "\n",
       "    .dataframe thead th {\n",
       "        text-align: right;\n",
       "    }\n",
       "</style>\n",
       "<table border=\"1\" class=\"dataframe\">\n",
       "  <thead>\n",
       "    <tr style=\"text-align: right;\">\n",
       "      <th></th>\n",
       "      <th>Unnamed: 0</th>\n",
       "      <th>sentiment</th>\n",
       "      <th>title</th>\n",
       "      <th>review</th>\n",
       "      <th>sentiment_label</th>\n",
       "      <th>review_clean</th>\n",
       "    </tr>\n",
       "  </thead>\n",
       "  <tbody>\n",
       "    <tr>\n",
       "      <th>0</th>\n",
       "      <td>0</td>\n",
       "      <td>5.0</td>\n",
       "      <td>Greatly impressed, I recommend these</td>\n",
       "      <td>Ordered a few bags, put some in mine  and my c...</td>\n",
       "      <td>0</td>\n",
       "      <td>['ordered', 'bag', 'put', 'mine', 'child', 'gl...</td>\n",
       "    </tr>\n",
       "    <tr>\n",
       "      <th>1</th>\n",
       "      <td>1</td>\n",
       "      <td>5.0</td>\n",
       "      <td>Great Lures</td>\n",
       "      <td>Nice quality lures heavy duty</td>\n",
       "      <td>0</td>\n",
       "      <td>['nice', 'quality', 'heavy', 'duty']</td>\n",
       "    </tr>\n",
       "    <tr>\n",
       "      <th>2</th>\n",
       "      <td>2</td>\n",
       "      <td>5.0</td>\n",
       "      <td>Perfect for what I needed</td>\n",
       "      <td>Lost mine in a move. Perfect for what I needed.</td>\n",
       "      <td>0</td>\n",
       "      <td>['lost', 'mine', 'move', 'perfect', 'needed']</td>\n",
       "    </tr>\n",
       "    <tr>\n",
       "      <th>3</th>\n",
       "      <td>3</td>\n",
       "      <td>5.0</td>\n",
       "      <td>Great Product</td>\n",
       "      <td>Great quality.  Adjustable from 22lbs-88lbs of...</td>\n",
       "      <td>0</td>\n",
       "      <td>['great', 'quality', 'adjustable', 'tension']</td>\n",
       "    </tr>\n",
       "    <tr>\n",
       "      <th>4</th>\n",
       "      <td>4</td>\n",
       "      <td>5.0</td>\n",
       "      <td>Great box</td>\n",
       "      <td>This mini Tackle box comes with so many fishin...</td>\n",
       "      <td>0</td>\n",
       "      <td>['box', 'come', 'many', 'fishing', 'make', 'fi...</td>\n",
       "    </tr>\n",
       "  </tbody>\n",
       "</table>\n",
       "</div>"
      ],
      "text/plain": [
       "   Unnamed: 0  sentiment                                 title  \\\n",
       "0           0        5.0  Greatly impressed, I recommend these   \n",
       "1           1        5.0                           Great Lures   \n",
       "2           2        5.0             Perfect for what I needed   \n",
       "3           3        5.0                         Great Product   \n",
       "4           4        5.0                             Great box   \n",
       "\n",
       "                                              review  sentiment_label  \\\n",
       "0  Ordered a few bags, put some in mine  and my c...                0   \n",
       "1                      Nice quality lures heavy duty                0   \n",
       "2    Lost mine in a move. Perfect for what I needed.                0   \n",
       "3  Great quality.  Adjustable from 22lbs-88lbs of...                0   \n",
       "4  This mini Tackle box comes with so many fishin...                0   \n",
       "\n",
       "                                        review_clean  \n",
       "0  ['ordered', 'bag', 'put', 'mine', 'child', 'gl...  \n",
       "1               ['nice', 'quality', 'heavy', 'duty']  \n",
       "2      ['lost', 'mine', 'move', 'perfect', 'needed']  \n",
       "3      ['great', 'quality', 'adjustable', 'tension']  \n",
       "4  ['box', 'come', 'many', 'fishing', 'make', 'fi...  "
      ]
     },
     "execution_count": 7,
     "metadata": {},
     "output_type": "execute_result"
    }
   ],
   "source": [
    "import pandas as pd\n",
    "\n",
    "# Este dataset viene preprocesado, balanceado y tokenizado (trabajo realizado en un modulo anterior)\n",
    "df_unigram = pd.read_csv('df_sports_outdoors_unigram.csv')\n",
    "df_unigram.head(5)"
   ]
  },
  {
   "cell_type": "code",
   "execution_count": 11,
   "metadata": {},
   "outputs": [],
   "source": [
    "##################################################################################################################\n",
    "############################## ENTRENAMIENTO DEL MODELO ##########################################################\n",
    "##################################################################################################################"
   ]
  },
  {
   "cell_type": "code",
   "execution_count": 12,
   "metadata": {},
   "outputs": [],
   "source": [
    "from sklearn.model_selection import train_test_split\n",
    "\n",
    "# Determinamos los valores de X e y (siendo X los tokens resultantes del preprocesado)\n",
    "X = df_unigram['review_clean']\n",
    "y = df_unigram['sentiment_label']\n",
    "\n",
    "# Dividimos los datos en entrenamiento y test\n",
    "X_train, X_test, y_train, y_test = train_test_split(X, y, test_size=0.2, random_state=42,  stratify=y)"
   ]
  },
  {
   "cell_type": "code",
   "execution_count": 13,
   "metadata": {},
   "outputs": [
    {
     "name": "stdout",
     "output_type": "stream",
     "text": [
      "['people', 'without', 'hand', 'strength']\n"
     ]
    }
   ],
   "source": [
    "print(X_train.iloc[0])"
   ]
  },
  {
   "cell_type": "code",
   "execution_count": 14,
   "metadata": {},
   "outputs": [],
   "source": [
    "from sklearn.feature_extraction.text import CountVectorizer\n",
    "\n",
    "# Transformamos el texto en representaciones númericas y limitamos a 5K el vocabulario (palabras más frecuentes). El vocabulario quedará por debajo de este límite.\n",
    "def extract_BoW_features(words_train, words_test, vocabulary_size=5000):\n",
    "    vectorizer = CountVectorizer(max_features=vocabulary_size, analyzer='word', tokenizer=None)\n",
    "\n",
    "    # Aprendemos el vocabulario y lo aplicamos en test\n",
    "    features_train = vectorizer.fit_transform(words_train).toarray()\n",
    "    features_test = vectorizer.transform(words_test).toarray()\n",
    "\n",
    "    # Guardamos el vocabulario\n",
    "    vocabulary = vectorizer.vocabulary_\n",
    "\n",
    "    return features_train, features_test, vocabulary\n",
    "\n",
    "# Extraemos las características de Bag of Words\n",
    "features_train, features_test, vocabulary = extract_BoW_features(X_train, X_test)"
   ]
  },
  {
   "cell_type": "code",
   "execution_count": 15,
   "metadata": {},
   "outputs": [
    {
     "name": "stdout",
     "output_type": "stream",
     "text": [
      "Tamaño del vocabulario: 998\n"
     ]
    }
   ],
   "source": [
    "print(\"Tamaño del vocabulario:\", len(vocabulary))"
   ]
  },
  {
   "cell_type": "code",
   "execution_count": 16,
   "metadata": {},
   "outputs": [
    {
     "name": "stdout",
     "output_type": "stream",
     "text": [
      "Vocabulario: {'people': np.int64(596), 'without': np.int64(975), 'hand': np.int64(361), 'strength': np.int64(823), 'price': np.int64(638), 'wrong': np.int64(989), 'need': np.int64(543), 'whistle': np.int64(965), 'use': np.int64(920), 'group': np.int64(354), 'thing': np.int64(863), 'hear': np.int64(370), 'item': np.int64(429), 'soon': np.int64(793), 'put': np.int64(658), 'roller': np.int64(708), 'worked': np.int64(981), 'pretty': np.int64(637), 'well': np.int64(960), 'far': np.int64(281), 'slip': np.int64(775), 'mat': np.int64(506), 'slide': np.int64(773), 'bit': np.int64(86), 'really': np.int64(675), 'big': np.int64(83), 'enough': np.int64(248), 'knee': np.int64(443), 'like': np.int64(471), 'doe': np.int64(221), 'metal': np.int64(516), 'part': np.int64(592), 'product': np.int64(643), 'think': np.int64(864), 'great': np.int64(350), 'heavy': np.int64(374), 'purpose': np.int64(656), 'fine': np.int64(296), 'real': np.int64(674), 'cheap': np.int64(139), 'one': np.int64(567), 'returned': np.int64(698), 'right': np.int64(703), 'away': np.int64(55), 'trust': np.int64(899), 'made': np.int64(498), 'nice': np.int64(549), 'zipper': np.int64(997), 'thicker': np.int64(860), 'expected': np.int64(265), 'comfortable': np.int64(158), 'strong': np.int64(826), 'work': np.int64(980), 'lose': np.int64(489), 'came': np.int64(117), 'riding': np.int64(702), 'day': np.int64(196), 'fall': np.int64(277), 'good': np.int64(346), 'replacement': np.int64(691), 'compact': np.int64(162), 'first': np.int64(299), 'two': np.int64(906), 'keep': np.int64(435), 'home': np.int64(391), 'older': np.int64(566), 'wearing': np.int64(955), 'purchased': np.int64(655), 'new': np.int64(547), 'however': np.int64(403), 'model': np.int64(525), 'old': np.int64(565), 'better': np.int64(82), 'used': np.int64(921), 'know': np.int64(446), 'number': np.int64(561), 'machine': np.int64(497), 'fitbit': np.int64(303), 'burn': np.int64(112), 'step': np.int64(812), 'still': np.int64(815), 'amount': np.int64(32), 'time': np.int64(874), 'wonderful': np.int64(978), 'color': np.int64(155), 'needed': np.int64(544), 'actually': np.int64(8), 'got': np.int64(347), 'mug': np.int64(536), 'going': np.int64(344), 'went': np.int64(961), 'size': np.int64(766), 'probably': np.int64(641), 'end': np.int64(245), 'another': np.int64(35), 'horrible': np.int64(398), 'priced': np.int64(639), 'break': np.int64(104), 'get': np.int64(335), 'tire': np.int64(877), 'loose': np.int64(488), 'thread': np.int64(868), 'wanted': np.int64(942), 'something': np.int64(789), 'place': np.int64(610), 'phone': np.int64(603), 'pocket': np.int64(620), 'small': np.int64(776), 'looked': np.int64(485), 'okay': np.int64(564), 'month': np.int64(528), 'falling': np.int64(278), 'apart': np.int64(40), 'belt': np.int64(79), 'loop': np.int64(487), 'long': np.int64(482), 'broken': np.int64(107), 'material': np.int64(508), 'start': np.int64(807), 'come': np.int64(156), 'hot': np.int64(400), 'fast': np.int64(282), 'life': np.int64(466), 'fill': np.int64(290), 'even': np.int64(253), 'fan': np.int64(280), 'charger': np.int64(137), 'setting': np.int64(745), 'brand': np.int64(103), 'battery': np.int64(72), 'using': np.int64(925), 'charge': np.int64(136), 'either': np.int64(241), 'simply': np.int64(760), 'thought': np.int64(867), 'least': np.int64(456), 'making': np.int64(501), 'order': np.int64(575), 'adjustable': np.int64(14), 'tension': np.int64(853), 'feel': np.int64(285), 'couple': np.int64(183), 'everything': np.int64(257), 'smooth': np.int64(779), 'pull': np.int64(651), 'seat': np.int64(730), 'buy': np.int64(114), 'usually': np.int64(926), 'pay': np.int64(594), 'built': np.int64(110), 'resistance': np.int64(693), 'water': np.int64(951), 'monitor': np.int64(527), 'high': np.int64(380), 'quality': np.int64(660), 'hope': np.int64(396), 'last': np.int64(451), 'year': np.int64(991), 'mostly': np.int64(530), 'yes': np.int64(993), 'unless': np.int64(915), 'floor': np.int64(313), 'extra': np.int64(269), 'cushion': np.int64(188), 'underneath': np.int64(911), 'unfortunately': np.int64(913), 'move': np.int64(534), 'top': np.int64(883), 'important': np.int64(410), 'note': np.int64(556), 'nothing': np.int64(557), 'practice': np.int64(633), 'somewhat': np.int64(791), 'never': np.int64(546), 'perfect': np.int64(598), 'may': np.int64(511), 'issue': np.int64(428), 'forward': np.int64(320), 'foot': np.int64(319), 'hit': np.int64(386), 'want': np.int64(941), 'bottom': np.int64(98), 'line': np.int64(474), 'almost': np.int64(24), 'every': np.int64(255), 'anything': np.int64(37), 'fair': np.int64(275), 'see': np.int64(735), 'much': np.int64(535), 'looking': np.int64(486), 'double': np.int64(226), 'smaller': np.int64(777), 'equipment': np.int64(250), 'terrible': np.int64(855), 'spend': np.int64(798), 'little': np.int64(477), 'returning': np.int64(699), 'mine': np.int64(521), 'enjoy': np.int64(247), 'game': np.int64(331), 'bag': np.int64(61), 'easy': np.int64(238), 'together': np.int64(879), 'leg': np.int64(459), 'position': np.int64(627), 'different': np.int64(213), 'whole': np.int64(967), 'husband': np.int64(406), 'said': np.int64(718), 'screw': np.int64(726), 'feature': np.int64(284), 'pack': np.int64(582), 'flat': np.int64(310), 'filled': np.int64(291), 'type': np.int64(907), 'also': np.int64(27), 'lot': np.int64(491), 'toy': np.int64(888), 'seem': np.int64(736), 'instruction': np.int64(425), 'tell': np.int64(852), 'play': np.int64(613), 'find': np.int64(295), 'person': np.int64(601), 'reading': np.int64(672), 'review': np.int64(700), 'point': np.int64(621), 'hole': np.int64(390), 'middle': np.int64(517), 'lower': np.int64(496), 'overall': np.int64(581), 'fun': np.int64(329), 'look': np.int64(484), 'summer': np.int64(831), 'lightweight': np.int64(470), 'shirt': np.int64(751), 'weather': np.int64(956), 'picture': np.int64(606), 'sizing': np.int64(768), 'run': np.int64(713), 'side': np.int64(756), 'instead': np.int64(424), 'regular': np.int64(686), 'wear': np.int64(954), 'medium': np.int64(514), 'tight': np.int64(872), 'shoulder': np.int64(754), 'fit': np.int64(302), 'key': np.int64(438), 'stop': np.int64(817), 'legging': np.int64(460), 'average': np.int64(54), 'worth': np.int64(986), 'star': np.int64(806), 'found': np.int64(321), 'hard': np.int64(367), 'way': np.int64(953), 'leave': np.int64(457), 'car': np.int64(121), 'wind': np.int64(970), 'around': np.int64(45), 'light': np.int64(468), 'weight': np.int64(958), 'inflate': np.int64(416), 'didn': np.int64(211), 'stick': np.int64(813), 'daughter': np.int64(195), 'face': np.int64(273), 'minute': np.int64(522), 'waste': np.int64(948), 'money': np.int64(526), 'seems': np.int64(738), 'included': np.int64(414), 'strap': np.int64(821), 'feeling': np.int64(286), 'designed': np.int64(207), 'fishing': np.int64(301), 'description': np.int64(205), 'tape': np.int64(849), 'arrived': np.int64(46), 'missing': np.int64(523), 'several': np.int64(746), 'sent': np.int64(741), 'bolt': np.int64(95), 'within': np.int64(974), 'original': np.int64(577), 'box': np.int64(100), 'thickness': np.int64(861), 'seemed': np.int64(737), 'snap': np.int64(781), 'store': np.int64(819), 'unit': np.int64(914), 'take': np.int64(845), 'working': np.int64(982), 'properly': np.int64(645), 'others': np.int64(578), 'problem': np.int64(642), 'advertised': np.int64(17), 'correct': np.int64(180), 'quick': np.int64(661), 'cute': np.int64(191), 'addition': np.int64(11), 'stiff': np.int64(814), 'holder': np.int64(388), 'tried': np.int64(895), 'dark': np.int64(193), 'build': np.int64(109), 'solid': np.int64(787), 'sturdy': np.int64(829), 'bad': np.int64(60), 'handle': np.int64(362), 'bar': np.int64(65), 'brake': np.int64(102), 'speed': np.int64(797), 'level': np.int64(464), 'fold': np.int64(316), 'scooter': np.int64(724), 'button': np.int64(113), 'base': np.int64(67), 'main': np.int64(499), 'difficult': np.int64(214), 'kid': np.int64(440), 'range': np.int64(666), 'system': np.int64(843), 'push': np.int64(657), 'back': np.int64(57), 'release': np.int64(687), 'plastic': np.int64(612), 'wheel': np.int64(964), 'especially': np.int64(251), 'bigger': np.int64(84), 'hang': np.int64(365), 'quickly': np.int64(662), 'might': np.int64(518), 'disappointed': np.int64(216), 'beginner': np.int64(76), 'yet': np.int64(994), 'user': np.int64(924), 'option': np.int64(574), 'amazon': np.int64(31), 'mile': np.int64(519), 'remember': np.int64(688), 'worry': np.int64(985), 'press': np.int64(635), 'left': np.int64(458), 'easier': np.int64(236), 'since': np.int64(761), 'control': np.int64(176), 'child': np.int64(143), 'choice': np.int64(144), 'ready': np.int64(673), 'normal': np.int64(554), 'customer': np.int64(189), 'asin': np.int64(47), 'rate': np.int64(667), 'absolutely': np.int64(2), 'say': np.int64(722), 'seller': np.int64(740), 'many': np.int64(503), 'golf': np.int64(345), 'umbrella': np.int64(909), 'ever': np.int64(254), 'huge': np.int64(404), 'cool': np.int64(177), 'entire': np.int64(249), 'favorite': np.int64(283), 'already': np.int64(26), 'paid': np.int64(587), 'care': np.int64(123), 'less': np.int64(462), 'lol': np.int64(481), 'wife': np.int64(969), 'swimming': np.int64(841), 'waterproof': np.int64(952), 'warm': np.int64(943), 'wet': np.int64(962), 'inside': np.int64(421), 'sized': np.int64(767), 'fact': np.int64(274), 'change': np.int64(135), 'dry': np.int64(230), 'stay': np.int64(810), 'swim': np.int64(840), 'wish': np.int64(973), 'useful': np.int64(922), 'towel': np.int64(887), 'charging': np.int64(138), 'always': np.int64(29), 'turned': np.int64(904), 'red': np.int64(683), 'power': np.int64(632), 'plug': np.int64(618), 'sometimes': np.int64(790), 'fix': np.int64(306), 'shoe': np.int64(752), 'tighten': np.int64(873), 'hook': np.int64(394), 'perfectly': np.int64(599), 'ice': np.int64(407), 'complaint': np.int64(166), 'seam': np.int64(728), 'mean': np.int64(513), 'happy': np.int64(366), 'purchase': np.int64(654), 'though': np.int64(866), 'consider': np.int64(172), 'plus': np.int64(619), 'expensive': np.int64(267), 'per': np.int64(597), 'cost': np.int64(182), 'make': np.int64(500), 'bought': np.int64(99), 'son': np.int64(792), 'friend': np.int64(325), 'love': np.int64(493), 'pole': np.int64(622), 'carry': np.int64(125), 'wait': np.int64(937), 'try': np.int64(900), 'super': np.int64(833), 'idea': np.int64(408), 'block': np.int64(91), 'sun': np.int64(832), 'beach': np.int64(73), 'extremely': np.int64(270), 'tent': np.int64(854), 'three': np.int64(869), 'half': np.int64(360), 'dart': np.int64(194), 'broke': np.int64(106), 'week': np.int64(957), 'basically': np.int64(70), 'useless': np.int64(923), 'return': np.int64(697), 'board': np.int64(93), 'thin': np.int64(862), 'disappointing': np.int64(217), 'blue': np.int64(92), 'attached': np.int64(52), 'front': np.int64(326), 'ride': np.int64(701), 'putting': np.int64(659), 'help': np.int64(378), 'turn': np.int64(903), 'getting': np.int64(336), 'bike': np.int64(85), 'flashlight': np.int64(309), 'handlebar': np.int64(363), 'give': np.int64(338), 'excited': np.int64(261), 'literally': np.int64(476), 'opened': np.int64(571), 'package': np.int64(583), 'often': np.int64(563), 'lost': np.int64(490), 'able': np.int64(1), 'winter': np.int64(972), 'stand': np.int64(804), 'longer': np.int64(483), 'complete': np.int64(167), 'fish': np.int64(300), 'based': np.int64(68), 'reel': np.int64(684), 'felt': np.int64(288), 'nicely': np.int64(550), 'best': np.int64(81), 'rod': np.int64(706), 'quite': np.int64(663), 'spring': np.int64(802), 'plan': np.int64(611), 'taking': np.int64(847), 'along': np.int64(25), 'definitely': np.int64(202), 'anyone': np.int64(36), 'reason': np.int64(677), 'knife': np.int64(444), 'total': np.int64(884), 'fell': np.int64(287), 'tiny': np.int64(875), 'adult': np.int64(16), 'close': np.int64(151), 'past': np.int64(593), 'ball': np.int64(63), 'set': np.int64(744), 'blade': np.int64(89), 'cut': np.int64(190), 'design': np.int64(206), 'provided': np.int64(649), 'ring': np.int64(704), 'handy': np.int64(364), 'string': np.int64(825), 'edge': np.int64(239), 'etc': np.int64(252), 'sure': np.int64(836), 'backpack': np.int64(58), 'spent': np.int64(799), 'hoping': np.int64(397), 'info': np.int64(418), 'decision': np.int64(200), 'safe': np.int64(716), 'everyone': np.int64(256), 'photo': np.int64(604), 'show': np.int64(755), 'compared': np.int64(164), 'case': np.int64(127), 'roll': np.int64(707), 'smoothly': np.int64(780), 'pin': np.int64(609), 'must': np.int64(539), 'finger': np.int64(297), 'trying': np.int64(901), 'someone': np.int64(788), 'sleep': np.int64(770), 'totally': np.int64(885), 'took': np.int64(881), 'carrying': np.int64(126), 'table': np.int64(844), 'else': np.int64(243), 'pump': np.int64(653), 'portable': np.int64(626), 'body': np.int64(94), 'simple': np.int64(759), 'gave': np.int64(333), 'cooler': np.int64(178), 'hour': np.int64(401), 'maybe': np.int64(512), 'whatever': np.int64(963), 'next': np.int64(548), 'helpful': np.int64(379), 'behind': np.int64(77), 'chair': np.int64(133), 'compartment': np.int64(165), 'gear': np.int64(334), 'gift': np.int64(337), 'highly': np.int64(382), 'recommend': np.int64(681), 'thanks': np.int64(858), 'read': np.int64(671), 'information': np.int64(419), 'deal': np.int64(197), 'update': np.int64(916), 'service': np.int64(743), 'grip': np.int64(352), 'gym': np.int64(358), 'ton': np.int64(880), 'larger': np.int64(450), 'clean': np.int64(147), 'done': np.int64(224), 'safety': np.int64(717), 'effort': np.int64(240), 'aid': np.int64(20), 'height': np.int64(375), 'sit': np.int64(763), 'shipping': np.int64(750), 'daily': np.int64(192), 'finally': np.int64(294), 'recently': np.int64(680), 'dog': np.int64(223), 'woman': np.int64(976), 'careful': np.int64(124), 'glove': np.int64(342), 'easily': np.int64(237), 'bright': np.int64(105), 'green': np.int64(351), 'lay': np.int64(454), 'team': np.int64(851), 'cold': np.int64(154), 'function': np.int64(330), 'washed': np.int64(945), 'fabric': np.int64(272), 'touch': np.int64(886), 'soft': np.int64(786), 'thinking': np.int64(865), 'short': np.int64(753), 'later': np.int64(453), 'noticed': np.int64(559), 'opening': np.int64(572), 'cheaply': np.int64(141), 'usb': np.int64(919), 'cable': np.int64(116), 'otherwise': np.int64(579), 'paddle': np.int64(586), 'heavier': np.int64(373), 'playing': np.int64(614), 'perhaps': np.int64(600), 'full': np.int64(327), 'basic': np.int64(69), 'standard': np.int64(805), 'hold': np.int64(387), 'pro': np.int64(640), 'amazing': np.int64(30), 'received': np.int64(679), 'sock': np.int64(785), 'today': np.int64(878), 'boot': np.int64(96), 'videoid': np.int64(935), 'night': np.int64(551), 'impressed': np.int64(411), 'honest': np.int64(392), 'chain': np.int64(132), 'assembly': np.int64(50), 'proof': np.int64(644), 'decided': np.int64(199), 'multiple': np.int64(537), 'expecting': np.int64(266), 'taste': np.int64(850), 'ended': np.int64(246), 'track': np.int64(889), 'heart': np.int64(371), 'treadmill': np.int64(893), 'second': np.int64(731), 'display': np.int64(218), 'annoying': np.int64(34), 'doesn': np.int64(222), 'closed': np.int64(152), 'flag': np.int64(308), 'soccer': np.int64(784), 'air': np.int64(21), 'assemble': np.int64(48), 'experience': np.int64(268), 'duty': np.int64(234), 'trouble': np.int64(897), 'walk': np.int64(938), 'sleeping': np.int64(771), 'guy': np.int64(357), 'stuff': np.int64(828), 'lighter': np.int64(469), 'kit': np.int64(442), 'camping': np.int64(119), 'area': np.int64(43), 'house': np.int64(402), 'emergency': np.int64(244), 'excellent': np.int64(259), 'refund': np.int64(685), 'figure': np.int64(289), 'head': np.int64(369), 'neck': np.int64(542), 'true': np.int64(898), 'sharp': np.int64(748), 'shape': np.int64(747), 'online': np.int64(568), 'except': np.int64(260), 'open': np.int64(570), 'do': np.int64(220), 'nt': np.int64(560), 'anywhere': np.int64(39), 'awesome': np.int64(56), 'provides': np.int64(650), 'lock': np.int64(479), 'thick': np.int64(859), 'buying': np.int64(115), 'bottle': np.int64(97), 'bulky': np.int64(111), 'mind': np.int64(520), 'adjust': np.int64(13), 'rack': np.int64(664), 'pouch': np.int64(630), 'tool': np.int64(882), 'throw': np.int64(870), 'lid': np.int64(465), 'straw': np.int64(822), 'drink': np.int64(227), 'loud': np.int64(492), 'won': np.int64(977), 'non': np.int64(553), 'drinking': np.int64(228), 'glass': np.int64(341), 'sleeve': np.int64(772), 'piece': np.int64(607), 'tube': np.int64(902), 'band': np.int64(64), 'workout': np.int64(983), 'barely': np.int64(66), 'started': np.int64(808), 'exercise': np.int64(262), 'current': np.int64(187), 'hip': np.int64(385), 'kick': np.int64(439), 'fire': np.int64(298), 'glad': np.int64(340), 'hike': np.int64(383), 'direction': np.int64(215), 'watch': np.int64(949), 'video': np.int64(934), 'correctly': np.int64(181), 'saw': np.int64(721), 'wood': np.int64(979), 'mouth': np.int64(533), 'blanket': np.int64(90), 'pad': np.int64(584), 'family': np.int64(279), 'let': np.int64(463), 'support': np.int64(834), 'wash': np.int64(944), 'balance': np.int64(62), 'boy': np.int64(101), 'match': np.int64(507), 'goggles': np.int64(343), 'foam': np.int64(315), 'padding': np.int64(585), 'eye': np.int64(271), 'protection': np.int64(647), 'flimsy': np.int64(312), 'trip': np.int64(896), 'travel': np.int64(892), 'cup': np.int64(186), 'leak': np.int64(455), 'con': np.int64(169), 'hat': np.int64(368), 'fairly': np.int64(276), 'installed': np.int64(423), 'additional': np.int64(12), 'state': np.int64(809), 'save': np.int64(720), 'fitness': np.int64(304), 'app': np.int64(41), 'hurt': np.int64(405), 'exactly': np.int64(258), 'allows': np.int64(23), 'muscle': np.int64(538), 'insert': np.int64(420), 'possible': np.int64(628), 'chance': np.int64(134), 'honestly': np.int64(393), 'surprised': np.int64(838), 'outside': np.int64(580), 'walking': np.int64(939), 'valve': np.int64(928), 'free': np.int64(324), 'ground': np.int64(353), 'inflated': np.int64(417), 'receive': np.int64(678), 'room': np.int64(709), 'elastic': np.int64(242), 'gotten': np.int64(348), 'single': np.int64(762), 'similar': np.int64(758), 'seen': np.int64(739), 'result': np.int64(696), 'space': np.int64(796), 'folding': np.int64(317), 'post': np.int64(629), 'please': np.int64(615), 'concern': np.int64(171), 'secure': np.int64(733), 'upon': np.int64(917), 'provide': np.int64(648), 'thank': np.int64(857), 'assembled': np.int64(49), 'loved': np.int64(494), 'difference': np.int64(212), 'cheaper': np.int64(140), 'tall': np.int64(848), 'decent': np.int64(198), 'attach': np.int64(51), 'helmet': np.int64(377), 'isn': np.int64(427), 'replace': np.int64(690), 'ordered': np.int64(576), 'value': np.int64(927), 'live': np.int64(478), 'hiking': np.int64(384), 'notice': np.int64(558), 'cause': np.int64(129), 'anyway': np.int64(38), 'container': np.int64(175), 'various': np.int64(930), 'low': np.int64(495), 'taken': np.int64(846), 'available': np.int64(53), 'normally': np.int64(555), 'pair': np.int64(590), 'mark': np.int64(504), 'storage': np.int64(818), 'cleaning': np.int64(148), 'durable': np.int64(233), 'stretch': np.int64(824), 'skin': np.int64(769), 'straight': np.int64(820), 'yoga': np.int64(995), 'chose': np.int64(145), 'style': np.int64(830), 'distance': np.int64(219), 'tree': np.int64(894), 'slightly': np.int64(774), 'kept': np.int64(437), 'wall': np.int64(940), 'frame': np.int64(323), 'upper': np.int64(918), 'junk': np.int64(433), 'install': np.int64(422), 'door': np.int64(225), 'wide': np.int64(968), 'higher': np.int64(381), 'prefer': np.int64(634), 'season': np.int64(729), 'large': np.int64(449), 'zip': np.int64(996), 'catch': np.int64(128), 'job': np.int64(431), 'comfort': np.int64(157), 'believe': np.int64(78), 'added': np.int64(10), 'lack': np.int64(447), 'understand': np.int64(912), 'ability': np.int64(0), 'bug': np.int64(108), 'steel': np.int64(811), 'training': np.int64(891), 'although': np.int64(28), 'surface': np.int64(837), 'smell': np.int64(778), 'rating': np.int64(669), 'four': np.int64(322), 'pressure': np.int64(636), 'hair': np.int64(359), 'comfy': np.int64(160), 'grandson': np.int64(349), 'supposed': np.int64(835), 'matter': np.int64(509), 'spin': np.int64(800), 'kind': np.int64(441), 'bladder': np.int64(88), 'jump': np.int64(432), 'requires': np.int64(692), 'seal': np.int64(727), 'ago': np.int64(19), 'logo': np.int64(480), 'likely': np.int64(473), 'expect': np.int64(264), 'food': np.int64(318), 'card': np.int64(122), 'cover': np.int64(185), 'waist': np.int64(936), 'arm': np.int64(44), 'pool': np.int64(623), 'degree': np.int64(203), 'test': np.int64(856), 'heat': np.int64(372), 'comfortably': np.int64(159), 'snug': np.int64(783), 'rather': np.int64(668), 'length': np.int64(461), 'immediately': np.int64(409), 'liquid': np.int64(475), 'completely': np.int64(168), 'inch': np.int64(412), 'wrist': np.int64(988), 'cap': np.int64(120), 'pulled': np.int64(652), 'recommended': np.int64(682), 'knob': np.int64(445), 'round': np.int64(711), 'clear': np.int64(149), 'fully': np.int64(328), 'guess': np.int64(355), 'black': np.int64(87), 'school': np.int64(723), 'jacket': np.int64(430), 'remove': np.int64(689), 'company': np.int64(163), 'garage': np.int64(332), 'mount': np.int64(531), 'stitching': np.int64(816), 'rain': np.int64(665), 'fly': np.int64(314), 'backpacking': np.int64(59), 'stake': np.int64(803), 'due': np.int64(231), 'yard': np.int64(990), 'paint': np.int64(589), 'velcro': np.int64(931), 'adjustment': np.int64(15), 'mattress': np.int64(510), 'liked': np.int64(472), 'described': np.int64(204), 'weird': np.int64(959), 'camp': np.int64(118), 'active': np.int64(5), 'watching': np.int64(950), 'screen': np.int64(725), 'worn': np.int64(984), 'across': np.int64(4), 'version': np.int64(932), 'check': np.int64(142), 'mountain': np.int64(532), 'pedal': np.int64(595), 'pillow': np.int64(608), 'coming': np.int64(161), 'rubber': np.int64(712), 'stuck': np.int64(827), 'sound': np.int64(795), 'pain': np.int64(588), 'fixed': np.int64(307), 'switch': np.int64(842), 'noise': np.int64(552), 'manufacturer': np.int64(502), 'concept': np.int64(170), 'allow': np.int64(22), 'offer': np.int64(562), 'holding': np.int64(389), 'course': np.int64(184), 'keeping': np.int64(436), 'poor': np.int64(624), 'durability': np.int64(232), 'held': np.int64(376), 'mesh': np.int64(515), 'pant': np.int64(591), 'desk': np.int64(208), 'age': np.int64(18), 'road': np.int64(705), 'rear': np.int64(676), 'pound': np.int64(631), 'pop': np.int64(625), 'securely': np.int64(734), 'lift': np.int64(467), 'clip': np.int64(150), 'add': np.int64(9), 'accurate': np.int64(3), 'beautiful': np.int64(74), 'given': np.int64(339), 'christmas': np.int64(146), 'opinion': np.int64(573), 'coffee': np.int64(153), 'ear': np.int64(235), 'kayak': np.int64(434), 'cord': np.int64(179), 'filter': np.int64(292), 'actual': np.int64(7), 'certainly': np.int64(131), 'near': np.int64(541), 'sitting': np.int64(764), 'saddle': np.int64(715), 'pleased': np.int64(616), 'spot': np.int64(801), 'exerciser': np.int64(263), 'yellow': np.int64(992), 'sheet': np.int64(749), 'silicone': np.int64(757), 'center': np.int64(130), 'drop': np.int64(229), 'rope': np.int64(710), 'sand': np.int64(719), 'wrap': np.int64(987), 'despite': np.int64(209), 'five': np.int64(305), 'sweat': np.int64(839), 'intended': np.int64(426), 'wasn': np.int64(947), 'white': np.int64(966), 'typical': np.int64(908), 'twist': np.int64(905), 'including': np.int64(415), 'construction': np.int64(173), 'contact': np.int64(174), 'horse': np.int64(399), 'uncomfortable': np.int64(910), 'personally': np.int64(602), 'lantern': np.int64(448), 'gun': np.int64(356), 'rest': np.int64(695), 'morning': np.int64(529), 'resistant': np.int64(694), 'appreciate': np.int64(42), 'running': np.int64(714), 'plenty': np.int64(617), 'onto': np.int64(569), 'six': np.int64(765), 'mask': np.int64(505), 'sort': np.int64(794), 'include': np.int64(413), 'device': np.int64(210), 'name': np.int64(540), 'section': np.int64(732), 'washing': np.int64(946), 'lasted': np.int64(452), 'net': np.int64(545), 'reach': np.int64(670), 'protect': np.int64(646), 'physical': np.int64(605), 'bench': np.int64(80), 'trail': np.int64(890), 'serious': np.int64(742), 'window': np.int64(971), 'flaw': np.int64(311), 'activity': np.int64(6), 'tie': np.int64(871), 'tip': np.int64(876), 'deep': np.int64(201), 'fin': np.int64(293), 'vest': np.int64(933), 'variety': np.int64(929), 'bed': np.int64(75), 'ankle': np.int64(33), 'basket': np.int64(71), 'hoop': np.int64(395), 'mode': np.int64(524), 'snorkeling': np.int64(782)}\n",
      "Vector BoW para la primera reseña: [0 0 0 0 0 0 0 0 0 0 0 0 0 0 0 0 0 0 0 0 0 0 0 0 0 0 0 0 0 0 0 0 0 0 0 0 0\n",
      " 0 0 0 0 0 0 0 0 0 0 0 0 0 0 0 0 0 0 0 0 0 0 0 0 0 0 0 0 0 0 0 0 0 0 0 0 0\n",
      " 0 0 0 0 0 0 0 0 0 0 0 0 0 0 0 0 0 0 0 0 0 0 0 0 0 0 0 0 0 0 0 0 0 0 0 0 0\n",
      " 0 0 0 0 0 0 0 0 0 0 0 0 0 0 0 0 0 0 0 0 0 0 0 0 0 0 0 0 0 0 0 0 0 0 0 0 0\n",
      " 0 0 0 0 0 0 0 0 0 0 0 0 0 0 0 0 0 0 0 0 0 0 0 0 0 0 0 0 0 0 0 0 0 0 0 0 0\n",
      " 0 0 0 0 0 0 0 0 0 0 0 0 0 0 0 0 0 0 0 0 0 0 0 0 0 0 0 0 0 0 0 0 0 0 0 0 0\n",
      " 0 0 0 0 0 0 0 0 0 0 0 0 0 0 0 0 0 0 0 0 0 0 0 0 0 0 0 0 0 0 0 0 0 0 0 0 0\n",
      " 0 0 0 0 0 0 0 0 0 0 0 0 0 0 0 0 0 0 0 0 0 0 0 0 0 0 0 0 0 0 0 0 0 0 0 0 0\n",
      " 0 0 0 0 0 0 0 0 0 0 0 0 0 0 0 0 0 0 0 0 0 0 0 0 0 0 0 0 0 0 0 0 0 0 0 0 0\n",
      " 0 0 0 0 0 0 0 0 0 0 0 0 0 0 0 0 0 0 0 0 0 0 0 0 0 0 0 0 1 0 0 0 0 0 0 0 0\n",
      " 0 0 0 0 0 0 0 0 0 0 0 0 0 0 0 0 0 0 0 0 0 0 0 0 0 0 0 0 0 0 0 0 0 0 0 0 0\n",
      " 0 0 0 0 0 0 0 0 0 0 0 0 0 0 0 0 0 0 0 0 0 0 0 0 0 0 0 0 0 0 0 0 0 0 0 0 0\n",
      " 0 0 0 0 0 0 0 0 0 0 0 0 0 0 0 0 0 0 0 0 0 0 0 0 0 0 0 0 0 0 0 0 0 0 0 0 0\n",
      " 0 0 0 0 0 0 0 0 0 0 0 0 0 0 0 0 0 0 0 0 0 0 0 0 0 0 0 0 0 0 0 0 0 0 0 0 0\n",
      " 0 0 0 0 0 0 0 0 0 0 0 0 0 0 0 0 0 0 0 0 0 0 0 0 0 0 0 0 0 0 0 0 0 0 0 0 0\n",
      " 0 0 0 0 0 0 0 0 0 0 0 0 0 0 0 0 0 0 0 0 0 0 0 0 0 0 0 0 0 0 0 0 0 0 0 0 0\n",
      " 0 0 0 0 1 0 0 0 0 0 0 0 0 0 0 0 0 0 0 0 0 0 0 0 0 0 0 0 0 0 0 0 0 0 0 0 0\n",
      " 0 0 0 0 0 0 0 0 0 0 0 0 0 0 0 0 0 0 0 0 0 0 0 0 0 0 0 0 0 0 0 0 0 0 0 0 0\n",
      " 0 0 0 0 0 0 0 0 0 0 0 0 0 0 0 0 0 0 0 0 0 0 0 0 0 0 0 0 0 0 0 0 0 0 0 0 0\n",
      " 0 0 0 0 0 0 0 0 0 0 0 0 0 0 0 0 0 0 0 0 0 0 0 0 0 0 0 0 0 0 0 0 0 0 0 0 0\n",
      " 0 0 0 0 0 0 0 0 0 0 0 0 0 0 0 0 0 0 0 0 0 0 0 0 0 0 0 0 0 0 0 0 0 0 0 0 0\n",
      " 0 0 0 0 0 0 0 0 0 0 0 0 0 0 0 0 0 0 0 0 0 0 0 0 0 0 0 0 0 0 0 0 0 0 0 0 0\n",
      " 0 0 0 0 0 0 0 0 0 1 0 0 0 0 0 0 0 0 0 0 0 0 0 0 0 0 0 0 0 0 0 0 0 0 0 0 0\n",
      " 0 0 0 0 0 0 0 0 0 0 0 0 0 0 0 0 0 0 0 0 0 0 0 0 0 0 0 0 0 0 0 0 0 0 0 0 0\n",
      " 0 0 0 0 0 0 0 0 0 0 0 0 0 0 0 0 0 0 0 0 0 0 0 0 0 0 0 0 0 0 0 0 0 0 0 0 0\n",
      " 0 0 0 0 0 0 0 0 0 0 0 0 0 0 0 0 0 0 0 0 0 0 0 0 0 0 0 0 0 0 0 0 0 0 0 0 0\n",
      " 0 0 0 0 0 0 0 0 0 0 0 0 0 1 0 0 0 0 0 0 0 0 0 0 0 0 0 0 0 0 0 0 0 0 0 0]\n",
      "Tokens de la primera reseña: ['people', 'without', 'hand', 'strength']\n",
      "Valor en la posición 975 del vector BoW para la primera reseña: 1\n"
     ]
    }
   ],
   "source": [
    "# Vocabulario aprendido por el vectorizador\n",
    "print(\"Vocabulario:\", vocabulary)\n",
    "\n",
    "# Primer vector BoW\n",
    "print(\"Vector BoW para la primera reseña:\", features_train[0])\n",
    "\n",
    "# Comparamos con los tokens originales\n",
    "print(\"Tokens de la primera reseña:\", X_train.iloc[0])\n",
    "\n",
    "# Accedemos a la palabra 'without' para comprobar que el bector BoW lo recoge correctamente\n",
    "print(\"Valor en la posición 975 del vector BoW para la primera reseña:\", features_train[0][975])"
   ]
  },
  {
   "cell_type": "code",
   "execution_count": 17,
   "metadata": {},
   "outputs": [
    {
     "data": {
      "image/png": "[encoded data removed]",
      "text/plain": [
       "<Figure size 1000x600 with 1 Axes>"
      ]
     },
     "metadata": {},
     "output_type": "display_data"
    }
   ],
   "source": [
    "import matplotlib.pyplot as plt\n",
    "\n",
    "# Graficamos la frecuencia de las palabras para la muestra de la reseña 1 en features_train\n",
    "plt.figure(figsize=(10, 6))\n",
    "plt.plot(features_train[0, :], marker='o', linestyle='-', color='b', alpha=0.7)\n",
    "plt.xlabel('Índice de palabra en el vocabulario')\n",
    "plt.ylabel('Frecuencia')\n",
    "plt.title('Frecuencia de palabras en la primera reseña')\n",
    "plt.grid(True)\n",
    "plt.show()"
   ]
  },
  {
   "cell_type": "code",
   "execution_count": 18,
   "metadata": {},
   "outputs": [],
   "source": [
    "# Vamos a normalizar para asegurar que las características tengan el mismo rango lo que ayudará a los algoritmos\n",
    "import sklearn.preprocessing as pr\n",
    "\n",
    "features_train = pr.normalize(features_train, axis=1)\n",
    "features_test = pr.normalize(features_test, axis=1)"
   ]
  },
  {
   "cell_type": "code",
   "execution_count": 19,
   "metadata": {},
   "outputs": [
    {
     "name": "stdout",
     "output_type": "stream",
     "text": [
      "X_train shape: (3908, 998)\n",
      "X_test shape: (978, 998)\n",
      "y_train shape: (3908,)\n",
      "y_test shape: (978,)\n"
     ]
    }
   ],
   "source": [
    "print(f\"X_train shape: {features_train.shape}\")\n",
    "print(f\"X_test shape: {features_test.shape}\")\n",
    "print(f\"y_train shape: {y_train.shape}\")\n",
    "print(f\"y_test shape: {y_test.shape}\")"
   ]
  },
  {
   "cell_type": "code",
   "execution_count": 21,
   "metadata": {},
   "outputs": [
    {
     "name": "stdout",
     "output_type": "stream",
     "text": [
      "[GradientBoostingClassifier] Accuracy: train = 0.7364380757420675, test = 0.7177914110429447\n"
     ]
    }
   ],
   "source": [
    "from sklearn.ensemble import GradientBoostingClassifier\n",
    "\n",
    "n_estimators = 16\n",
    "learning_rate=0.05\n",
    "max_depth=4\n",
    "\n",
    "def classify_gboost(features_train, features_test, y_train, y_test,n_estimators,learning_rate,max_depth):\n",
    "    clf = GradientBoostingClassifier(n_estimators=n_estimators, learning_rate=learning_rate, max_depth=max_depth, random_state=42)\n",
    "\n",
    "    # Entrenamiento del modelo con los datos numéricos\n",
    "    clf.fit(features_train, y_train)\n",
    "\n",
    "    # Evaluación de precisión (accuracy) con los datos numéricos\n",
    "    print(\"[{}] Accuracy: train = {}, test = {}\".format(\n",
    "            clf.__class__.__name__,\n",
    "            clf.score(features_train, y_train),\n",
    "            clf.score(features_test, y_test)))\n",
    "\n",
    "    return clf\n",
    "\n",
    "# Entrenamos el modelo\n",
    "clf2 = classify_gboost(features_train, features_test, y_train, y_test,n_estimators,learning_rate,max_depth)"
   ]
  },
  {
   "cell_type": "code",
   "execution_count": 21,
   "metadata": {},
   "outputs": [],
   "source": [
    "##################################################################################################################\n",
    "############################## EVALUACIÓN DEL MODELO #############################################################\n",
    "##################################################################################################################"
   ]
  },
  {
   "cell_type": "code",
   "execution_count": 22,
   "metadata": {},
   "outputs": [
    {
     "name": "stdout",
     "output_type": "stream",
     "text": [
      "--- Train Set Metrics ---\n",
      "Precision: 0.6809\n",
      "Recall: 0.7856\n",
      "F1 Score: 0.7295\n",
      "\n",
      "--- Test Set Metrics ---\n",
      "Precision: 0.6647\n",
      "Recall: 0.7579\n",
      "F1 Score: 0.7082\n"
     ]
    }
   ],
   "source": [
    "# Métricas del modelo\n",
    "# - precision_score: Mide la proporción de verdaderos positivos sobre todos los ejemplos clasificados como positivos (es decir, cuántos de los elementos que el modelo clasificó como positivos realmente lo son).\n",
    "# - recall_score: Mide la proporción de verdaderos positivos sobre todos los ejemplos que realmente son positivos (es decir, cuántos de los ejemplos positivos el modelo fue capaz de identificar).\n",
    "# - f1_score: Es la media armónica de la precisión y el recall\n",
    "\n",
    "from sklearn.metrics import precision_score, recall_score, f1_score\n",
    "\n",
    "# Hacemos predicciones\n",
    "y_pred_train = clf2.predict(features_train)\n",
    "y_pred_test = clf2.predict(features_test)\n",
    "\n",
    "# Calculamos las métricas de evaluación para el conjunto de entrenamiento\n",
    "precision_train = precision_score(y_train, y_pred_train)\n",
    "recall_train = recall_score(y_train, y_pred_train)\n",
    "f1_train = f1_score(y_train, y_pred_train)\n",
    "\n",
    "# Calculamos las métricas de evaluación para el conjunto de prueba\n",
    "precision_test = precision_score(y_test, y_pred_test)\n",
    "recall_test = recall_score(y_test, y_pred_test)\n",
    "f1_test = f1_score(y_test, y_pred_test)\n",
    "\n",
    "print(f\"--- Train Set Metrics ---\")\n",
    "print(f\"Precision: {precision_train:.4f}\")\n",
    "print(f\"Recall: {recall_train:.4f}\")\n",
    "print(f\"F1 Score: {f1_train:.4f}\")\n",
    "\n",
    "print(f\"\\n--- Test Set Metrics ---\")\n",
    "print(f\"Precision: {precision_test:.4f}\")\n",
    "print(f\"Recall: {recall_test:.4f}\")\n",
    "print(f\"F1 Score: {f1_test:.4f}\")\n",
    "\n",
    "# Nota la predicción en train se realiza sólo como referencia"
   ]
  },
  {
   "cell_type": "code",
   "execution_count": 23,
   "metadata": {},
   "outputs": [],
   "source": [
    "# Verdadero Positivo (True Positive, TP):\n",
    "# Son los casos en los que el modelo predice que la reseña es negativa (sentiment_label = 1), y realmente es negativa (sentiment_label = 1).\n",
    "\n",
    "# Verdadero Negativo (True Negative, TN):\n",
    "# Son los casos en los que el modelo predice que la reseña es positiva (sentiment_label = 0), y realmente es positiva (sentiment_label = 0).\n",
    "\n",
    "# Falso Positivo (False Positive, FP):\n",
    "# Son los casos en los que el modelo predice que la reseña es negativa (sentiment_label = 1), pero en realidad es positiva (sentiment_label = 0).\n",
    "\n",
    "# Falso Negativo (False Negative, FN):\n",
    "# Son los casos en los que el modelo predice que la reseña es positiva (sentiment_label = 0), pero en realidad es negativa (sentiment_label = 1)."
   ]
  },
  {
   "cell_type": "code",
   "execution_count": 23,
   "metadata": {},
   "outputs": [
    {
     "data": {
      "image/png": "[encoded data removed]",
      "text/plain": [
       "<Figure size 600x400 with 2 Axes>"
      ]
     },
     "metadata": {},
     "output_type": "display_data"
    },
    {
     "name": "stdout",
     "output_type": "stream",
     "text": [
      "Matriz de Confusión:\n",
      "[[367 169]\n",
      " [107 335]]\n"
     ]
    }
   ],
   "source": [
    "from sklearn.metrics import confusion_matrix\n",
    "import seaborn as sns\n",
    "import matplotlib.pyplot as plt\n",
    "\n",
    "# Predicciones del modelo\n",
    "y_pred = clf2.predict(features_test)\n",
    "\n",
    "# Generamos la matriz de confusión\n",
    "cm = confusion_matrix(y_test, y_pred)\n",
    "\n",
    "plt.figure(figsize=(6, 4))\n",
    "sns.heatmap(cm, annot=True, fmt=\"d\", cmap=\"Blues\", xticklabels=[\"Positiva\", \"Negativa\"], yticklabels=[\"Positiva\", \"Negativa\"])\n",
    "plt.xlabel('Predicción')\n",
    "plt.ylabel('Real')\n",
    "plt.title('Matriz de Confusión')\n",
    "plt.show()\n",
    "\n",
    "\n",
    "print(\"Matriz de Confusión:\")\n",
    "print(cm)"
   ]
  },
  {
   "cell_type": "code",
   "execution_count": 25,
   "metadata": {},
   "outputs": [],
   "source": [
    "# Conclusiones del modelo:\n",
    "# 1. El modelo obtiene un buen rendimiento en general (equilibrio entre precisión y recall)\n",
    "# 2. El modelo tiene capacidad para identificar casos positivos (recall)\n",
    "# 3. El modelo tiene una precisión superior en train que en test (\"falsas alarmas\")\n",
    "# 4. Las métricas estan ajustadas en train y test así que descartamos sobreajuste\n",
    "# 5. Deberíamos seguir iterando con el modelo y sus hiperparámetros para mejorar el rendimiento\n",
    "# 6. Podríamos aumentar el dataset usado en los modelos"
   ]
  },
  {
   "cell_type": "code",
   "execution_count": 26,
   "metadata": {},
   "outputs": [],
   "source": [
    "##################################################################################################################\n",
    "############################## REGISTRO MÉTRICAS MLFLOW ##########################################################\n",
    "##################################################################################################################"
   ]
  },
  {
   "cell_type": "code",
   "execution_count": 24,
   "metadata": {},
   "outputs": [
    {
     "data": {
      "text/plain": [
       "{'ccp_alpha': 0.0,\n",
       " 'criterion': 'friedman_mse',\n",
       " 'init': None,\n",
       " 'learning_rate': 0.05,\n",
       " 'loss': 'log_loss',\n",
       " 'max_depth': 4,\n",
       " 'max_features': None,\n",
       " 'max_leaf_nodes': None,\n",
       " 'min_impurity_decrease': 0.0,\n",
       " 'min_samples_leaf': 1,\n",
       " 'min_samples_split': 2,\n",
       " 'min_weight_fraction_leaf': 0.0,\n",
       " 'n_estimators': 16,\n",
       " 'n_iter_no_change': None,\n",
       " 'random_state': 42,\n",
       " 'subsample': 1.0,\n",
       " 'tol': 0.0001,\n",
       " 'validation_fraction': 0.1,\n",
       " 'verbose': 0,\n",
       " 'warm_start': False}"
      ]
     },
     "execution_count": 24,
     "metadata": {},
     "output_type": "execute_result"
    }
   ],
   "source": [
    "clf2.get_params()"
   ]
  },
  {
   "cell_type": "code",
   "execution_count": 25,
   "metadata": {},
   "outputs": [
    {
     "name": "stdout",
     "output_type": "stream",
     "text": [
      "<class 'numpy.ndarray'>\n"
     ]
    }
   ],
   "source": [
    "print(type(features_train))"
   ]
  },
  {
   "cell_type": "code",
   "execution_count": 27,
   "metadata": {},
   "outputs": [
    {
     "name": "stderr",
     "output_type": "stream",
     "text": [
      "c:\\Users\\JordiOrtega\\023.keepcoding\\DespliegueAlgoritmos\\app\\practica\\venv\\lib\\site-packages\\tqdm\\auto.py:21: TqdmWarning: IProgress not found. Please update jupyter and ipywidgets. See https://ipywidgets.readthedocs.io/en/stable/user_install.html\n",
      "  from .autonotebook import tqdm as notebook_tqdm\n",
      "Downloading artifacts: 100%|██████████| 7/7 [00:00<00:00, 1744.30it/s]\n",
      "2025/01/01 22:12:00 INFO mlflow.models.model: Found the following environment variables used during model inference: [SENDGRID_API_KEY]. Please check if you need to set them when deploying the model. To disable this message, set environment variable `MLFLOW_RECORD_ENV_VARS_IN_MODEL_LOGGING` to `false`.\n"
     ]
    }
   ],
   "source": [
    "import mlflow\n",
    "import numpy as np\n",
    "\n",
    "\n",
    "# Testeamos de forma manual diversos parametros y métricas\n",
    "input_example = np.array([features_train[0]])\n",
    "\n",
    "mlflow.set_experiment('Amazon reviews')\n",
    "with mlflow.start_run(run_name='practica despliegue v5'):\n",
    "   \n",
    "    mlflow.log_param('n_estimators', 32)\n",
    "    mlflow.log_param('learning_rate', 1)\n",
    "    mlflow.log_param('max_depth', 12)\n",
    "    mlflow.log_param('random_state', 42)\n",
    "\n",
    "    mlflow.log_metric('precision_train', precision_train)\n",
    "    mlflow.log_metric('recall_train', recall_train)\n",
    "    mlflow.log_metric('f1_train', f1_train)\n",
    "    mlflow.log_metric('precision_test', precision_test)\n",
    "    mlflow.log_metric('recall_test', recall_test)\n",
    "    mlflow.log_metric('f1_test', f1_test)\n",
    "\n",
    "    # Guardamos el modelo\n",
    "    mlflow.sklearn.log_model(clf2, \"xgboost\", input_example=input_example)"
   ]
  },
  {
   "cell_type": "code",
   "execution_count": 30,
   "metadata": {},
   "outputs": [
    {
     "name": "stdout",
     "output_type": "stream",
     "text": [
      "^C\n"
     ]
    }
   ],
   "source": [
    "!mlflow ui"
   ]
  },
  {
   "cell_type": "code",
   "execution_count": 29,
   "metadata": {},
   "outputs": [
    {
     "name": "stderr",
     "output_type": "stream",
     "text": [
      "2025/01/01 22:24:30 INFO mlflow.tracking.fluent: Experiment with name 'practica Amazon reviews loop' does not exist. Creating a new experiment.\n"
     ]
    },
    {
     "name": "stdout",
     "output_type": "stream",
     "text": [
      "[GradientBoostingClassifier] Accuracy: train = 0.5475946775844421, test = 0.5480572597137015\n"
     ]
    },
    {
     "name": "stderr",
     "output_type": "stream",
     "text": [
      "c:\\Users\\JordiOrtega\\023.keepcoding\\DespliegueAlgoritmos\\app\\practica\\venv\\lib\\site-packages\\sklearn\\metrics\\_classification.py:1565: UndefinedMetricWarning: Precision is ill-defined and being set to 0.0 in labels with no predicted samples. Use `zero_division` parameter to control this behavior.\n",
      "  _warn_prf(average, modifier, f\"{metric.capitalize()} is\", len(result))\n",
      "c:\\Users\\JordiOrtega\\023.keepcoding\\DespliegueAlgoritmos\\app\\practica\\venv\\lib\\site-packages\\sklearn\\metrics\\_classification.py:1565: UndefinedMetricWarning: Precision is ill-defined and being set to 0.0 in labels with no predicted samples. Use `zero_division` parameter to control this behavior.\n",
      "  _warn_prf(average, modifier, f\"{metric.capitalize()} is\", len(result))\n",
      "Downloading artifacts: 100%|██████████| 7/7 [00:00<00:00, 999.66it/s] \n"
     ]
    },
    {
     "name": "stdout",
     "output_type": "stream",
     "text": [
      "[GradientBoostingClassifier] Accuracy: train = 0.5562947799385876, test = 0.5480572597137015\n"
     ]
    },
    {
     "name": "stderr",
     "output_type": "stream",
     "text": [
      "Downloading artifacts: 100%|██████████| 7/7 [00:00<00:00, 579.83it/s] \n"
     ]
    },
    {
     "name": "stdout",
     "output_type": "stream",
     "text": [
      "[GradientBoostingClassifier] Accuracy: train = 0.5928863868986693, test = 0.549079754601227\n"
     ]
    },
    {
     "name": "stderr",
     "output_type": "stream",
     "text": [
      "Downloading artifacts: 100%|██████████| 7/7 [00:00<00:00, 779.34it/s] \n"
     ]
    },
    {
     "name": "stdout",
     "output_type": "stream",
     "text": [
      "[GradientBoostingClassifier] Accuracy: train = 0.5475946775844421, test = 0.5480572597137015\n"
     ]
    },
    {
     "name": "stderr",
     "output_type": "stream",
     "text": [
      "c:\\Users\\JordiOrtega\\023.keepcoding\\DespliegueAlgoritmos\\app\\practica\\venv\\lib\\site-packages\\sklearn\\metrics\\_classification.py:1565: UndefinedMetricWarning: Precision is ill-defined and being set to 0.0 in labels with no predicted samples. Use `zero_division` parameter to control this behavior.\n",
      "  _warn_prf(average, modifier, f\"{metric.capitalize()} is\", len(result))\n",
      "c:\\Users\\JordiOrtega\\023.keepcoding\\DespliegueAlgoritmos\\app\\practica\\venv\\lib\\site-packages\\sklearn\\metrics\\_classification.py:1565: UndefinedMetricWarning: Precision is ill-defined and being set to 0.0 in labels with no predicted samples. Use `zero_division` parameter to control this behavior.\n",
      "  _warn_prf(average, modifier, f\"{metric.capitalize()} is\", len(result))\n",
      "Downloading artifacts: 100%|██████████| 7/7 [00:00<00:00, 777.92it/s] \n"
     ]
    },
    {
     "name": "stdout",
     "output_type": "stream",
     "text": [
      "[GradientBoostingClassifier] Accuracy: train = 0.7290174002047083, test = 0.712678936605317\n"
     ]
    },
    {
     "name": "stderr",
     "output_type": "stream",
     "text": [
      "Downloading artifacts: 100%|██████████| 7/7 [00:00<00:00, 609.40it/s] \n"
     ]
    },
    {
     "name": "stdout",
     "output_type": "stream",
     "text": [
      "[GradientBoostingClassifier] Accuracy: train = 0.8111566018423746, test = 0.7249488752556237\n"
     ]
    },
    {
     "name": "stderr",
     "output_type": "stream",
     "text": [
      "Downloading artifacts: 100%|██████████| 7/7 [00:00<00:00, 874.80it/s] \n"
     ]
    },
    {
     "name": "stdout",
     "output_type": "stream",
     "text": [
      "[GradientBoostingClassifier] Accuracy: train = 0.5946775844421699, test = 0.6022494887525562\n"
     ]
    },
    {
     "name": "stderr",
     "output_type": "stream",
     "text": [
      "Downloading artifacts: 100%|██████████| 7/7 [00:00<00:00, 777.65it/s]\n"
     ]
    },
    {
     "name": "stdout",
     "output_type": "stream",
     "text": [
      "[GradientBoostingClassifier] Accuracy: train = 0.7374616171954964, test = 0.7229038854805726\n"
     ]
    },
    {
     "name": "stderr",
     "output_type": "stream",
     "text": [
      "Downloading artifacts: 100%|██████████| 7/7 [00:00<00:00, 777.42it/s] \n"
     ]
    },
    {
     "name": "stdout",
     "output_type": "stream",
     "text": [
      "[GradientBoostingClassifier] Accuracy: train = 0.8055271238485159, test = 0.7300613496932515\n"
     ]
    },
    {
     "name": "stderr",
     "output_type": "stream",
     "text": [
      "Downloading artifacts: 100%|██████████| 7/7 [00:00<00:00, 583.14it/s]\n"
     ]
    },
    {
     "name": "stdout",
     "output_type": "stream",
     "text": [
      "[GradientBoostingClassifier] Accuracy: train = 0.5475946775844421, test = 0.5480572597137015\n"
     ]
    },
    {
     "name": "stderr",
     "output_type": "stream",
     "text": [
      "c:\\Users\\JordiOrtega\\023.keepcoding\\DespliegueAlgoritmos\\app\\practica\\venv\\lib\\site-packages\\sklearn\\metrics\\_classification.py:1565: UndefinedMetricWarning: Precision is ill-defined and being set to 0.0 in labels with no predicted samples. Use `zero_division` parameter to control this behavior.\n",
      "  _warn_prf(average, modifier, f\"{metric.capitalize()} is\", len(result))\n",
      "c:\\Users\\JordiOrtega\\023.keepcoding\\DespliegueAlgoritmos\\app\\practica\\venv\\lib\\site-packages\\sklearn\\metrics\\_classification.py:1565: UndefinedMetricWarning: Precision is ill-defined and being set to 0.0 in labels with no predicted samples. Use `zero_division` parameter to control this behavior.\n",
      "  _warn_prf(average, modifier, f\"{metric.capitalize()} is\", len(result))\n",
      "Downloading artifacts: 100%|██████████| 7/7 [00:00<00:00, 999.53it/s] \n"
     ]
    },
    {
     "name": "stdout",
     "output_type": "stream",
     "text": [
      "[GradientBoostingClassifier] Accuracy: train = 0.7587001023541453, test = 0.7167689161554193\n"
     ]
    },
    {
     "name": "stderr",
     "output_type": "stream",
     "text": [
      "Downloading artifacts: 100%|██████████| 7/7 [00:00<00:00, 874.96it/s]\n"
     ]
    },
    {
     "name": "stdout",
     "output_type": "stream",
     "text": [
      "[GradientBoostingClassifier] Accuracy: train = 0.8334186284544524, test = 0.7229038854805726\n"
     ]
    },
    {
     "name": "stderr",
     "output_type": "stream",
     "text": [
      "Downloading artifacts: 100%|██████████| 7/7 [00:00<00:00, 999.97it/s] \n"
     ]
    },
    {
     "name": "stdout",
     "output_type": "stream",
     "text": [
      "[GradientBoostingClassifier] Accuracy: train = 0.7070112589559877, test = 0.7137014314928425\n"
     ]
    },
    {
     "name": "stderr",
     "output_type": "stream",
     "text": [
      "Downloading artifacts: 100%|██████████| 7/7 [00:00<00:00, 636.45it/s] \n"
     ]
    },
    {
     "name": "stdout",
     "output_type": "stream",
     "text": [
      "[GradientBoostingClassifier] Accuracy: train = 0.8262538382804504, test = 0.7361963190184049\n"
     ]
    },
    {
     "name": "stderr",
     "output_type": "stream",
     "text": [
      "Downloading artifacts: 100%|██████████| 7/7 [00:00<00:00, 876.76it/s] \n"
     ]
    },
    {
     "name": "stdout",
     "output_type": "stream",
     "text": [
      "[GradientBoostingClassifier] Accuracy: train = 0.9201637666325486, test = 0.7433537832310838\n"
     ]
    },
    {
     "name": "stderr",
     "output_type": "stream",
     "text": [
      "Downloading artifacts: 100%|██████████| 7/7 [00:00<00:00, 702.18it/s] \n"
     ]
    },
    {
     "name": "stdout",
     "output_type": "stream",
     "text": [
      "[GradientBoostingClassifier] Accuracy: train = 0.7190378710337769, test = 0.7157464212678937\n"
     ]
    },
    {
     "name": "stderr",
     "output_type": "stream",
     "text": [
      "Downloading artifacts: 100%|██████████| 7/7 [00:00<00:00, 777.79it/s]\n"
     ]
    },
    {
     "name": "stdout",
     "output_type": "stream",
     "text": [
      "[GradientBoostingClassifier] Accuracy: train = 0.8308597748208802, test = 0.7382413087934561\n"
     ]
    },
    {
     "name": "stderr",
     "output_type": "stream",
     "text": [
      "Downloading artifacts: 100%|██████████| 7/7 [00:00<00:00, 784.57it/s] \n"
     ]
    },
    {
     "name": "stdout",
     "output_type": "stream",
     "text": [
      "[GradientBoostingClassifier] Accuracy: train = 0.9091606960081884, test = 0.7361963190184049\n"
     ]
    },
    {
     "name": "stderr",
     "output_type": "stream",
     "text": [
      "Downloading artifacts: 100%|██████████| 7/7 [00:00<00:00, 937.15it/s] \n"
     ]
    },
    {
     "name": "stdout",
     "output_type": "stream",
     "text": [
      "[GradientBoostingClassifier] Accuracy: train = 0.7082906857727738, test = 0.7065439672801636\n"
     ]
    },
    {
     "name": "stderr",
     "output_type": "stream",
     "text": [
      "Downloading artifacts: 100%|██████████| 7/7 [00:00<00:00, 874.80it/s] \n"
     ]
    },
    {
     "name": "stdout",
     "output_type": "stream",
     "text": [
      "[GradientBoostingClassifier] Accuracy: train = 0.8147389969293757, test = 0.7392638036809815\n"
     ]
    },
    {
     "name": "stderr",
     "output_type": "stream",
     "text": [
      "Downloading artifacts: 100%|██████████| 7/7 [00:00<00:00, 778.04it/s] \n"
     ]
    },
    {
     "name": "stdout",
     "output_type": "stream",
     "text": [
      "[GradientBoostingClassifier] Accuracy: train = 0.9035312180143296, test = 0.7535787321063395\n"
     ]
    },
    {
     "name": "stderr",
     "output_type": "stream",
     "text": [
      "Downloading artifacts: 100%|██████████| 7/7 [00:00<00:00, 874.28it/s]\n"
     ]
    },
    {
     "name": "stdout",
     "output_type": "stream",
     "text": [
      "[GradientBoostingClassifier] Accuracy: train = 0.7617707267144319, test = 0.7392638036809815\n"
     ]
    },
    {
     "name": "stderr",
     "output_type": "stream",
     "text": [
      "Downloading artifacts: 100%|██████████| 7/7 [00:00<00:00, 875.22it/s] \n"
     ]
    },
    {
     "name": "stdout",
     "output_type": "stream",
     "text": [
      "[GradientBoostingClassifier] Accuracy: train = 0.9101842374616171, test = 0.7668711656441718\n"
     ]
    },
    {
     "name": "stderr",
     "output_type": "stream",
     "text": [
      "Downloading artifacts: 100%|██████████| 7/7 [00:00<00:00, 699.93it/s] \n"
     ]
    },
    {
     "name": "stdout",
     "output_type": "stream",
     "text": [
      "[GradientBoostingClassifier] Accuracy: train = 0.9895087001023541, test = 0.7576687116564417\n"
     ]
    },
    {
     "name": "stderr",
     "output_type": "stream",
     "text": [
      "Downloading artifacts: 100%|██████████| 7/7 [00:00<00:00, 875.06it/s] \n"
     ]
    },
    {
     "name": "stdout",
     "output_type": "stream",
     "text": [
      "[GradientBoostingClassifier] Accuracy: train = 0.7781473899692938, test = 0.7494887525562373\n"
     ]
    },
    {
     "name": "stderr",
     "output_type": "stream",
     "text": [
      "Downloading artifacts: 100%|██████████| 7/7 [00:00<00:00, 778.80it/s] \n"
     ]
    },
    {
     "name": "stdout",
     "output_type": "stream",
     "text": [
      "[GradientBoostingClassifier] Accuracy: train = 0.9216990788126919, test = 0.7259713701431493\n"
     ]
    },
    {
     "name": "stderr",
     "output_type": "stream",
     "text": [
      "Downloading artifacts: 100%|██████████| 7/7 [00:00<00:00, 876.13it/s] \n"
     ]
    },
    {
     "name": "stdout",
     "output_type": "stream",
     "text": [
      "[GradientBoostingClassifier] Accuracy: train = 0.9948822927328557, test = 0.7321063394683026\n"
     ]
    },
    {
     "name": "stderr",
     "output_type": "stream",
     "text": [
      "Downloading artifacts: 100%|██████████| 7/7 [00:00<00:00, 700.02it/s]\n"
     ]
    }
   ],
   "source": [
    "# Montamos el loop y definimos listas de valores para los parámetros\n",
    "input_example = np.array([features_train[0]])\n",
    "\n",
    "n_estimators_list = [2, 10, 32]\n",
    "learning_rate_list= [0.1,0.5,1]\n",
    "max_depth_list=[1,5,10]\n",
    "\n",
    "mlflow.set_experiment(\"practica Amazon reviews loop\")\n",
    "\n",
    "for n in n_estimators_list:\n",
    "    for lr in learning_rate_list:\n",
    "        for depth in max_depth_list:\n",
    "            with mlflow.start_run(run_name=f\"n_estimators={n}_lr={lr}_max_depth={depth}\") as run:       \n",
    "                clf2 = classify_gboost(\n",
    "                    features_train, features_test, y_train, y_test,\n",
    "                    n,lr,depth\n",
    "                )\n",
    "\n",
    "                # Calculamos métricas\n",
    "                y_pred_train = clf2.predict(features_train)\n",
    "                y_pred_test = clf2.predict(features_test)\n",
    "                \n",
    "                precision_train = precision_score(y_train, y_pred_train, average='weighted')\n",
    "                recall_train = recall_score(y_train, y_pred_train, average='weighted')\n",
    "                f1_train = f1_score(y_train, y_pred_train, average='weighted')\n",
    "                \n",
    "                precision_test = precision_score(y_test, y_pred_test, average='weighted')\n",
    "                recall_test = recall_score(y_test, y_pred_test, average='weighted')\n",
    "                f1_test = f1_score(y_test, y_pred_test, average='weighted')\n",
    "\n",
    "                # Registramos parámetros en MLflow\n",
    "                mlflow.log_param(\"n_estimators\", n)\n",
    "                mlflow.log_param(\"lr\", lr)\n",
    "                mlflow.log_param(\"max_depth\", depth)\n",
    "\n",
    "                # Registramos métricas en MLflow\n",
    "                mlflow.log_metric(\"precision_train\", precision_train)\n",
    "                mlflow.log_metric(\"recall_train\", recall_train)\n",
    "                mlflow.log_metric(\"f1_train\", f1_train)\n",
    "\n",
    "                mlflow.log_metric(\"precision_test\", precision_test)\n",
    "                mlflow.log_metric(\"recall_test\", recall_test)\n",
    "                mlflow.log_metric(\"f1_test\", f1_test)\n",
    "\n",
    "                # Guardamos el modelo\n",
    "                mlflow.sklearn.log_model(clf2, \"xgboost\", input_example=input_example)\n"
   ]
  },
  {
   "cell_type": "code",
   "execution_count": null,
   "metadata": {},
   "outputs": [],
   "source": [
    "##################################################################################################################\n",
    "############################## CONCLUSIONES ######################################################################\n",
    "##################################################################################################################"
   ]
  },
  {
   "cell_type": "code",
   "execution_count": null,
   "metadata": {},
   "outputs": [],
   "source": [
    "# Escoger el mejor modelo dependerá de las exigencias de negocio.\n",
    "# Si estuviéramos ante un problema de diagnóstico médico tal vez interesaría seleccionar el de mejor recall y ante un problema de fraude tal vez el de mejor precisión.\n",
    "# Teniendo un objetivo puramente académico seleccionaremos el modelo n_estimators=32_lr=1_max_depth=1 por ser un modelo con una precisión correcta y que generaliza bien.\n",
    "\n",
    "# Se adjuntan pantallazos de MLflow ui:\n",
    "# practica_mlflow_comparacion.png\n",
    "# practica_mlflow_modelo_generaliza.png\n",
    "# practica_mlflow_registro_modelo.png\n",
    "# practica_mlflow_artifacts_run_predictions.png\n",
    "# practica_mlflow_script.png"
   ]
  }
 ],
 "metadata": {
  "kernelspec": {
   "display_name": "venv",
   "language": "python",
   "name": "python3"
  },
  "language_info": {
   "codemirror_mode": {
    "name": "ipython",
    "version": 3
   },
   "file_extension": ".py",
   "mimetype": "text/x-python",
   "name": "python",
   "nbconvert_exporter": "python",
   "pygments_lexer": "ipython3",
   "version": "3.9.5"
  }
 },
 "nbformat": 4,
 "nbformat_minor": 2
}
