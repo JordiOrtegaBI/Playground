{
 "cells": [
  {
   "cell_type": "code",
   "execution_count": 1,
   "metadata": {},
   "outputs": [
    {
     "name": "stderr",
     "output_type": "stream",
     "text": [
      "c:\\Users\\JordiOrtega\\023.keepcoding\\DespliegueAlgoritmos\\app\\practica\\venv\\lib\\site-packages\\tqdm\\auto.py:21: TqdmWarning: IProgress not found. Please update jupyter and ipywidgets. See https://ipywidgets.readthedocs.io/en/stable/user_install.html\n",
      "  from .autonotebook import tqdm as notebook_tqdm\n"
     ]
    }
   ],
   "source": [
    "##################################################################################################################\n",
    "############################## PRACTICA DESPLIEGUE ALGORITMOS: Jordi Ortega - IA2 ################################\n",
    "##################################################################################################################\n",
    "\n",
    "# 0. Ejercicio 2. Páctica parte FastAPI\n",
    "\n",
    "# 3. Captura de cada uno de los modulos en la llamada https\n",
    "#       3.1 requests_emotion.png\n",
    "#       3.2 requests_summarize.png\n",
    "#       3.3 requests_position.png\n",
    "#       3.4 requests_password.png\n",
    "#       3.5 requests_email.png\n",
    "# 5. Todo el código usado durante el proceso.\n",
    "\n",
    "from fastapi import FastAPI, HTTPException\n",
    "from pydantic import BaseModel\n",
    "from typing import Optional\n",
    "from transformers import pipeline\n",
    "import random\n",
    "import string\n",
    "import re\n",
    "import pandas as pd\n",
    "import requests"
   ]
  },
  {
   "cell_type": "code",
   "execution_count": 13,
   "metadata": {},
   "outputs": [
    {
     "data": {
      "text/plain": [
       "{'label': 'neutral', 'score': 0.3896571397781372}"
      ]
     },
     "execution_count": 13,
     "metadata": {},
     "output_type": "execute_result"
    }
   ],
   "source": [
    "##################################################################################################################\n",
    "############################## HUGGING FACE ######################################################################\n",
    "##################################################################################################################\n",
    "\n",
    "# 1. /emotion\n",
    "data = {'query':'Que pena no tener más horas para seguir profundizando'}\n",
    "\n",
    "url = 'http://127.0.0.1:8000/emotion'\n",
    "response = requests.get(url, params=data)\n",
    "\n",
    "if response.status_code == 200:\n",
    "    response = response.json()\n",
    "else:\n",
    "    print('Ops, something went wrong')\n",
    "\n",
    "response"
   ]
  },
  {
   "cell_type": "code",
   "execution_count": 17,
   "metadata": {},
   "outputs": [
    {
     "data": {
      "text/plain": [
       "' Tiny yet sturdy yet sturdy, and nice size when opened for use . It takes very little water to get them to unfold and open .'"
      ]
     },
     "execution_count": 17,
     "metadata": {},
     "output_type": "execute_result"
    }
   ],
   "source": [
    "# 2. /summarize\n",
    "data = {'query':'Ordered a few bags, put some in mine  and my childrens glove boxes so were are prepared for messes from my grandkids lol.<br />Put some in camping and hiking gear too. We all tried them on an outing that included picnic lunch and hiking. Very handy they are as good as advertised. Tiny yet sturdy, and nice size when opened for use. It takes very little water to get them to unfold and open.<br />PS my grandkids love them sho much that they have  been using them to clean. Maybe you will get that addressed'}\n",
    "\n",
    "url = 'http://127.0.0.1:8000/summarize'\n",
    "response = requests.post(url, params=data)\n",
    "\n",
    "if response.status_code == 200:\n",
    "    response = response.json()\n",
    "else:\n",
    "    print('Ops, something went wrong')\n",
    "\n",
    "response"
   ]
  },
  {
   "cell_type": "code",
   "execution_count": 52,
   "metadata": {},
   "outputs": [
    {
     "data": {
      "text/plain": [
       "{'position': 15,\n",
       " 'record': {'Unnamed: 0': 15,\n",
       "  'sentiment': 2.0,\n",
       "  'title': 'Not thrilled- super thin',\n",
       "  'review': 'This tshirt is very thin and after one wash it’s all crooked.  It will be a night shirt now. Ugh',\n",
       "  'sentiment_label': 1,\n",
       "  'review_clean': \"['thin', 'one', 'wash', 'night', 'shirt']\"}}"
      ]
     },
     "execution_count": 52,
     "metadata": {},
     "output_type": "execute_result"
    }
   ],
   "source": [
    "##################################################################################################################\n",
    "############################## OTROS #############################################################################\n",
    "##################################################################################################################\n",
    "\n",
    "# 3. /data/{position}\n",
    "position=15\n",
    "\n",
    "url = 'http://127.0.0.1:8000/data/' + str(position)\n",
    "response = requests.get(url)\n",
    "\n",
    "if response.status_code == 200:\n",
    "    response = response.json()\n",
    "else:\n",
    "    print('Ops, something went wrong')\n",
    "\n",
    "response"
   ]
  },
  {
   "cell_type": "code",
   "execution_count": 45,
   "metadata": {},
   "outputs": [
    {
     "data": {
      "text/plain": [
       "{'password': 'N;dYDiro^mY,'}"
      ]
     },
     "execution_count": 45,
     "metadata": {},
     "output_type": "execute_result"
    }
   ],
   "source": [
    "# 4. /generate-password\n",
    "length = 12\n",
    "\n",
    "params = {'length': length}\n",
    "\n",
    "url = 'http://127.0.0.1:8000/generate-password'\n",
    "response = requests.get(url, params=params)\n",
    "\n",
    "if response.status_code == 200:\n",
    "    response = response.json()\n",
    "else:\n",
    "    print('Ops, something went wrong')\n",
    "\n",
    "response"
   ]
  },
  {
   "cell_type": "code",
   "execution_count": 43,
   "metadata": {},
   "outputs": [
    {
     "data": {
      "text/plain": [
       "{'email': 'email@emailcom', 'is_valid': False}"
      ]
     },
     "execution_count": 43,
     "metadata": {},
     "output_type": "execute_result"
    }
   ],
   "source": [
    "# 5. /validate-email'\n",
    "data = {'email':'email@emailcom'}\n",
    "\n",
    "url = 'http://127.0.0.1:8000/validate-email'\n",
    "response = requests.get(url, params=data)\n",
    "\n",
    "if response.status_code == 200:\n",
    "    response = response.json()\n",
    "else:\n",
    "    print('Ops, something went wrong')\n",
    "\n",
    "response"
   ]
  }
 ],
 "metadata": {
  "kernelspec": {
   "display_name": "venv",
   "language": "python",
   "name": "python3"
  },
  "language_info": {
   "codemirror_mode": {
    "name": "ipython",
    "version": 3
   },
   "file_extension": ".py",
   "mimetype": "text/x-python",
   "name": "python",
   "nbconvert_exporter": "python",
   "pygments_lexer": "ipython3",
   "version": "3.9.5"
  }
 },
 "nbformat": 4,
 "nbformat_minor": 2
}
