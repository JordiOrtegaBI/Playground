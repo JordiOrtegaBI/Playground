{
  "nbformat": 4,
  "nbformat_minor": 0,
  "metadata": {
    "colab": {
      "provenance": []
    },
    "kernelspec": {
      "name": "python3",
      "display_name": "Python 3"
    },
    "language_info": {
      "name": "python"
    }
  },
  "cells": [
    {
      "cell_type": "code",
      "execution_count": 17,
      "metadata": {
        "id": "loH8r201D6hM"
      },
      "outputs": [],
      "source": [
        "################################################################################################################################\n",
        "############################## PRACTICA Usos IA: Jordi Ortega - IA2 ############################################################\n",
        "################################################################################################################################\n",
        "\n",
        "# 0. Ejercicio 2. Desarrolla la solución al problema\n",
        "\n",
        "# 1. Selecciona la herramienta -> Seleccionamos la IA de OpenAI\n",
        "# 2. Implementación del sistema -> utilizando la ApiKey de OpenAI definimos el prompt\n",
        "# 3. Prueba y validación -> Interactuamos con otros emails/inputs\n",
        "# 4. Bonus: Testeamos LangChain (respuesta personalizada)"
      ]
    },
    {
      "cell_type": "code",
      "source": [
        "################################################################################################################################\n",
        "############################## SELECCIÓN HERRAMIENTA ###########################################################################\n",
        "################################################################################################################################"
      ],
      "metadata": {
        "id": "E_tmD1p7ETzd"
      },
      "execution_count": 18,
      "outputs": []
    },
    {
      "cell_type": "code",
      "source": [
        "# Seleccionamos una closeIA buscando una solución más rápida y efectiva para probar y evaluar los resultados. En caso de que sean óptimos, y si la supuesta empresa de telecomunicaciones\n",
        "# decidiera invertir recursos, se podría pasar la solución a una IA Open Source para tener un control total y máxima adaptabilidad a la idiosincrasia de la propia empresa.\n",
        "\n",
        "# En este caso se hará la practica con OpenAI"
      ],
      "metadata": {
        "id": "5bWj1_7Rmvbi"
      },
      "execution_count": 19,
      "outputs": []
    },
    {
      "cell_type": "code",
      "source": [
        "################################################################################################################################\n",
        "############################## IMPLEMENTACIÓN DEL SISTEMA ######################################################################\n",
        "################################################################################################################################"
      ],
      "metadata": {
        "id": "Clas9JXFmvZL"
      },
      "execution_count": 20,
      "outputs": []
    },
    {
      "cell_type": "code",
      "source": [
        "!pip install openai"
      ],
      "metadata": {
        "colab": {
          "base_uri": "https://localhost:8080/"
        },
        "id": "GyY-uUScS26R",
        "outputId": "60fc201e-6943-4747-b111-48cdf8f1e1dd"
      },
      "execution_count": 21,
      "outputs": [
        {
          "output_type": "stream",
          "name": "stdout",
          "text": [
            "Requirement already satisfied: openai in /usr/local/lib/python3.10/dist-packages (1.57.4)\n",
            "Requirement already satisfied: anyio<5,>=3.5.0 in /usr/local/lib/python3.10/dist-packages (from openai) (3.7.1)\n",
            "Requirement already satisfied: distro<2,>=1.7.0 in /usr/local/lib/python3.10/dist-packages (from openai) (1.9.0)\n",
            "Requirement already satisfied: httpx<1,>=0.23.0 in /usr/local/lib/python3.10/dist-packages (from openai) (0.28.1)\n",
            "Requirement already satisfied: jiter<1,>=0.4.0 in /usr/local/lib/python3.10/dist-packages (from openai) (0.8.2)\n",
            "Requirement already satisfied: pydantic<3,>=1.9.0 in /usr/local/lib/python3.10/dist-packages (from openai) (2.10.3)\n",
            "Requirement already satisfied: sniffio in /usr/local/lib/python3.10/dist-packages (from openai) (1.3.1)\n",
            "Requirement already satisfied: tqdm>4 in /usr/local/lib/python3.10/dist-packages (from openai) (4.67.1)\n",
            "Requirement already satisfied: typing-extensions<5,>=4.11 in /usr/local/lib/python3.10/dist-packages (from openai) (4.12.2)\n",
            "Requirement already satisfied: idna>=2.8 in /usr/local/lib/python3.10/dist-packages (from anyio<5,>=3.5.0->openai) (3.10)\n",
            "Requirement already satisfied: exceptiongroup in /usr/local/lib/python3.10/dist-packages (from anyio<5,>=3.5.0->openai) (1.2.2)\n",
            "Requirement already satisfied: certifi in /usr/local/lib/python3.10/dist-packages (from httpx<1,>=0.23.0->openai) (2024.12.14)\n",
            "Requirement already satisfied: httpcore==1.* in /usr/local/lib/python3.10/dist-packages (from httpx<1,>=0.23.0->openai) (1.0.7)\n",
            "Requirement already satisfied: h11<0.15,>=0.13 in /usr/local/lib/python3.10/dist-packages (from httpcore==1.*->httpx<1,>=0.23.0->openai) (0.14.0)\n",
            "Requirement already satisfied: annotated-types>=0.6.0 in /usr/local/lib/python3.10/dist-packages (from pydantic<3,>=1.9.0->openai) (0.7.0)\n",
            "Requirement already satisfied: pydantic-core==2.27.1 in /usr/local/lib/python3.10/dist-packages (from pydantic<3,>=1.9.0->openai) (2.27.1)\n"
          ]
        }
      ]
    },
    {
      "cell_type": "code",
      "source": [
        "from openai import OpenAI\n",
        "\n",
        "# Declaramos la ApiKey, decidimos el modelo y definimos el mensaje.\n",
        "client = OpenAI(api_key = 'sk-proj-a1xxxxxxxxxxxxxxxxxxxxxxxxxxxxxxxxxxxxxxxxxxxxxxxxxxxxxLtToA')\n",
        "\n",
        "response = client.chat.completions.create(\n",
        "  model=\"gpt-4\",\n",
        "  messages=[\n",
        "    {\"role\": \"system\", \"content\": (\n",
        "        \"Eres un asistente de atención al cliente, sin acceso a bases de datos de clientes, del sector telecomunicaciones especializado en tratar incidencias técnicas.\"\n",
        "        \"Tu misión es redactar correos electrónicos claros, amables y profesionales en respuesta a las consultas más comunes de los clientes. \"\n",
        "        \"Por favor, asegúrate de seguir estas directrices al redactar tus respuestas:\\n\"\n",
        "        \"- Proporciona una respuesta de máximo 200 palabras.\\n\"\n",
        "        \"- Usa un tono profesional y accesible.\\n\"\n",
        "        \"- Divide el texto en párrafos claros para facilitar la lectura.\\n\"\n",
        "        \"- Incluye una lista de acciones recomendadas para resolver la incidencia.\\n\"\n",
        "        \"- Finaliza con un cierre amigable que invite al cliente a contactarnos si necesita más ayuda.\"\n",
        "      )\n",
        "    },\n",
        "    {\"role\": \"user\", \"content\": \"Hola, Llevo 15 minutos sin servicio de red y esto hace que no pueda trabajar. Necesito que me indiquen cómo resolver la incidencia desde mi casa o si se trata de un problema masivo que digan cuando va a estar restaurado el servicio. Mi número de cliente es el 1191283120\"},\n",
        "  ]\n",
        ")\n",
        "print(response.choices[0].message.content)\n"
      ],
      "metadata": {
        "colab": {
          "base_uri": "https://localhost:8080/"
        },
        "id": "4aLMLcvAaDyh",
        "outputId": "05a1fb31-2f29-4ab2-b999-183bdf5de912"
      },
      "execution_count": 22,
      "outputs": [
        {
          "output_type": "stream",
          "name": "stdout",
          "text": [
            "Estimado cliente,\n",
            "\n",
            "Lamento mucho que esté teniendo problemas con su conexión. Comprendo que esto puede causar inconvenientes, especialmente si está trabajando desde casa.\n",
            "\n",
            "Por favor, siga los siguientes pasos para intentar solucionar el problema:\n",
            "\n",
            "1. Reinicie su router o módem. Desconecte el dispositivo de la toma de corriente durante al menos 30 segundos, luego reconéctelo y espere unos minutos hasta que se reinicie completamente.\n",
            "2. Verifique la configuración de su conexión. Asegúrese de que todos los cables estén bien conectados y que su dispositivo esté configurado para conectarse a la red correcta.\n",
            "    \n",
            "Si después de seguir estos pasos sigue sin tener conexión, puede tratarse de un problema más extenso de nuestra red. Lamentablemente, por razones de seguridad no tengo acceso a bases de datos de clientes para comprobar el estado de su conexión específica. Le recomendo contactar a nuestro soporte técnico a través del número que aparece en su factura para resolver de forma óptima su situación.\n",
            "\n",
            "Gracias por su comprensión y paciencia durante este tiempo. No dude en ponerse en contacto con nosotros si necesita más ayuda o tiene otras preguntas.\n",
            "\n",
            "Atentamente,\n",
            "\n",
            "[Su Nombre]\n",
            "Equipo de Atención al Cliente\n",
            "\n"
          ]
        }
      ]
    },
    {
      "cell_type": "code",
      "source": [
        "################################################################################################################################\n",
        "############################## PRUEBA Y VALIDACIÓN #############################################################################\n",
        "################################################################################################################################"
      ],
      "metadata": {
        "id": "9Vdkmrl7mzhb"
      },
      "execution_count": 23,
      "outputs": []
    },
    {
      "cell_type": "code",
      "source": [
        "# Testeamos el prompt definido con inputs distintos. En este caso con un input, de parte del cliente, más corto.\n",
        "response = client.chat.completions.create(\n",
        "  model=\"gpt-4\",\n",
        "  messages=[\n",
        "    {\"role\": \"system\", \"content\": (\n",
        "        \"Eres un asistente de atención al cliente, sin acceso a bases de datos de clientes, del sector telecomunicaciones especializado en tratar incidencias técnicas.\"\n",
        "        \"Tu misión es redactar correos electrónicos claros, amables y profesionales en respuesta a las consultas más comunes de los clientes. \"\n",
        "        \"Por favor, asegúrate de seguir estas directrices al redactar tus respuestas:\\n\"\n",
        "        \"- Proporciona una respuesta de máximo 200 palabras.\\n\"\n",
        "        \"- Usa un tono profesional y accesible.\\n\"\n",
        "        \"- Divide el texto en párrafos claros para facilitar la lectura.\\n\"\n",
        "        \"- Incluye una lista de acciones recomendadas para resolver la incidencia.\\n\"\n",
        "        \"- Finaliza con un cierre amigable que invite al cliente a contactarnos si necesita más ayuda.\"\n",
        "      )\n",
        "    },\n",
        "    {\"role\": \"user\", \"content\": \"Hola, su servicio de contectividad es muy inestable, no puedo confiar en su servicio\"},\n",
        "  ]\n",
        ")\n",
        "print(response.choices[0].message.content)"
      ],
      "metadata": {
        "colab": {
          "base_uri": "https://localhost:8080/"
        },
        "id": "F4NTniqtS8lR",
        "outputId": "b24b1709-8707-428f-e461-3a8cf79fbc41"
      },
      "execution_count": 24,
      "outputs": [
        {
          "output_type": "stream",
          "name": "stdout",
          "text": [
            "Estimado cliente,\n",
            "\n",
            "Lamento mucho los inconvenientes que está experimentando con nuestro servicio de conectividad. Su satisfacción es nuestra principal prioridad y trabajamos continuamente para proporcionar un servicio de alta calidad.\n",
            "\n",
            "Aquí hay algunas acciones que puede realizar para tratar de mejorar su conexión:\n",
            "1. Reinicie su módem y/o router.\n",
            "2. Coloque su router lejos de otros dispositivos electrónicos que puedan interferir con la señal.\n",
            "3. Verifique si hay actualizaciones disponibles para su dispositivo.\n",
            "\n",
            "Si después de seguir estos pasos el problema persiste, le solicitamos que se ponga en contacto con nuestro soporte técnico. Contamos con profesionales altamente capacitados que estarán dispuestos a brindarle una asistencia más individualizada y podrán realizar un diagnóstico más preciso de su problema.\n",
            "\n",
            "Recuerde que estamos aquí para ayudarle y nuestro objetivo es proporcionarle la mejor experiencia posible con nuestro servicio.\n",
            "\n",
            "Si necesita más asistencia, no dude en hacérnoslo saber.\n",
            "\n",
            "Cordialmente,\n",
            "[Aquí tu nombre]\n",
            "\n",
            "Asistente de Atención al Cliente\n",
            "[Aquí su empresa]\n",
            "\n"
          ]
        }
      ]
    },
    {
      "cell_type": "code",
      "source": [
        "# Testeamos como funcionaría si recibimos un input positivo en un asistente especializado en incidencias.\n",
        "response = client.chat.completions.create(\n",
        "  model=\"gpt-4\",\n",
        "  messages=[\n",
        "    {\"role\": \"system\", \"content\": (\n",
        "        \"Eres un asistente de atención al cliente, sin acceso a bases de datos de clientes, del sector telecomunicaciones especializado en tratar incidencias técnicas.\"\n",
        "        \"Tu misión es redactar correos electrónicos claros, amables y profesionales en respuesta a las consultas más comunes de los clientes. \"\n",
        "        \"Por favor, asegúrate de seguir estas directrices al redactar tus respuestas:\\n\"\n",
        "        \"- Proporciona una respuesta de máximo 150 palabras.\\n\"\n",
        "        \"- Usa un tono profesional y accesible.\\n\"\n",
        "        \"- Divide el texto en párrafos claros para facilitar la lectura.\\n\"\n",
        "        \"- Incluye una lista de acciones recomendadas para resolver la incidencia.\\n\"\n",
        "        \"- Finaliza con un cierre amigable que invite al cliente a contactarnos si necesita más ayuda.\"\n",
        "      )\n",
        "    },\n",
        "    {\"role\": \"user\", \"content\": \"Hola, desconozco si este es el canal correcto, pero quería hacerles llegar mi enhorabuena por el buen servicio que prestan a sus clientes\"},\n",
        "  ]\n",
        ")\n",
        "print(response.choices[0].message.content)"
      ],
      "metadata": {
        "colab": {
          "base_uri": "https://localhost:8080/"
        },
        "id": "8vy5lflEjRLt",
        "outputId": "de400c91-6acf-4bd0-c36e-520a6f08316e"
      },
      "execution_count": 25,
      "outputs": [
        {
          "output_type": "stream",
          "name": "stdout",
          "text": [
            "Estimado cliente,\n",
            "\n",
            "Gracias por tomarse el tiempo para enviar su amable mensaje. Apreciamos mucho sus elogios y nos complace saber que está satisfecho con nuestro servicio.\n",
            "\n",
            "Nos esforzamos cada día para proporcionar la mejor experiencia posible a nuestros clientes y comentarios como el suyo nos ayudan a seguir trabajando duro en esa dirección.\n",
            "\n",
            "No dudes en ponerte en contacto con nosotros si necesitas cualquier tipo de asistencia en el futuro. \n",
            "\n",
            "Gracias una vez más por tu mensaje y por ser un valioso miembro de nuestra comunidad.\n",
            "\n",
            "Cordialmente,\n",
            "\n",
            "[Su nombre]\n",
            "[Su posición]\n"
          ]
        }
      ]
    },
    {
      "cell_type": "code",
      "source": [
        "################################################################################################################################\n",
        "############################## LANGCHAIN #######################################################################################\n",
        "################################################################################################################################"
      ],
      "metadata": {
        "id": "ROAcb8V_kVgV"
      },
      "execution_count": 26,
      "outputs": []
    },
    {
      "cell_type": "code",
      "source": [
        "# Aprovechamos el framework LangChain para simular que el prompt consulta a una base de datos externa (BSS de la empresa de telecomunicaciones) y recuerda las iteraciones anteriores con el cliente"
      ],
      "metadata": {
        "id": "IB4t23hzuiDo"
      },
      "execution_count": 27,
      "outputs": []
    },
    {
      "cell_type": "code",
      "source": [
        "!pip install langchain openai"
      ],
      "metadata": {
        "colab": {
          "base_uri": "https://localhost:8080/"
        },
        "id": "8EF0pn-7kqjq",
        "outputId": "f197434a-75c6-48f5-fec3-5abc4ba59a83"
      },
      "execution_count": 28,
      "outputs": [
        {
          "output_type": "stream",
          "name": "stdout",
          "text": [
            "Requirement already satisfied: langchain in /usr/local/lib/python3.10/dist-packages (0.3.13)\n",
            "Requirement already satisfied: openai in /usr/local/lib/python3.10/dist-packages (1.57.4)\n",
            "Requirement already satisfied: PyYAML>=5.3 in /usr/local/lib/python3.10/dist-packages (from langchain) (6.0.2)\n",
            "Requirement already satisfied: SQLAlchemy<3,>=1.4 in /usr/local/lib/python3.10/dist-packages (from langchain) (2.0.36)\n",
            "Requirement already satisfied: aiohttp<4.0.0,>=3.8.3 in /usr/local/lib/python3.10/dist-packages (from langchain) (3.11.10)\n",
            "Requirement already satisfied: async-timeout<5.0.0,>=4.0.0 in /usr/local/lib/python3.10/dist-packages (from langchain) (4.0.3)\n",
            "Requirement already satisfied: langchain-core<0.4.0,>=0.3.26 in /usr/local/lib/python3.10/dist-packages (from langchain) (0.3.28)\n",
            "Requirement already satisfied: langchain-text-splitters<0.4.0,>=0.3.3 in /usr/local/lib/python3.10/dist-packages (from langchain) (0.3.3)\n",
            "Requirement already satisfied: langsmith<0.3,>=0.1.17 in /usr/local/lib/python3.10/dist-packages (from langchain) (0.2.3)\n",
            "Requirement already satisfied: numpy<2,>=1.22.4 in /usr/local/lib/python3.10/dist-packages (from langchain) (1.26.4)\n",
            "Requirement already satisfied: pydantic<3.0.0,>=2.7.4 in /usr/local/lib/python3.10/dist-packages (from langchain) (2.10.3)\n",
            "Requirement already satisfied: requests<3,>=2 in /usr/local/lib/python3.10/dist-packages (from langchain) (2.32.3)\n",
            "Requirement already satisfied: tenacity!=8.4.0,<10,>=8.1.0 in /usr/local/lib/python3.10/dist-packages (from langchain) (9.0.0)\n",
            "Requirement already satisfied: anyio<5,>=3.5.0 in /usr/local/lib/python3.10/dist-packages (from openai) (3.7.1)\n",
            "Requirement already satisfied: distro<2,>=1.7.0 in /usr/local/lib/python3.10/dist-packages (from openai) (1.9.0)\n",
            "Requirement already satisfied: httpx<1,>=0.23.0 in /usr/local/lib/python3.10/dist-packages (from openai) (0.28.1)\n",
            "Requirement already satisfied: jiter<1,>=0.4.0 in /usr/local/lib/python3.10/dist-packages (from openai) (0.8.2)\n",
            "Requirement already satisfied: sniffio in /usr/local/lib/python3.10/dist-packages (from openai) (1.3.1)\n",
            "Requirement already satisfied: tqdm>4 in /usr/local/lib/python3.10/dist-packages (from openai) (4.67.1)\n",
            "Requirement already satisfied: typing-extensions<5,>=4.11 in /usr/local/lib/python3.10/dist-packages (from openai) (4.12.2)\n",
            "Requirement already satisfied: aiohappyeyeballs>=2.3.0 in /usr/local/lib/python3.10/dist-packages (from aiohttp<4.0.0,>=3.8.3->langchain) (2.4.4)\n",
            "Requirement already satisfied: aiosignal>=1.1.2 in /usr/local/lib/python3.10/dist-packages (from aiohttp<4.0.0,>=3.8.3->langchain) (1.3.2)\n",
            "Requirement already satisfied: attrs>=17.3.0 in /usr/local/lib/python3.10/dist-packages (from aiohttp<4.0.0,>=3.8.3->langchain) (24.3.0)\n",
            "Requirement already satisfied: frozenlist>=1.1.1 in /usr/local/lib/python3.10/dist-packages (from aiohttp<4.0.0,>=3.8.3->langchain) (1.5.0)\n",
            "Requirement already satisfied: multidict<7.0,>=4.5 in /usr/local/lib/python3.10/dist-packages (from aiohttp<4.0.0,>=3.8.3->langchain) (6.1.0)\n",
            "Requirement already satisfied: propcache>=0.2.0 in /usr/local/lib/python3.10/dist-packages (from aiohttp<4.0.0,>=3.8.3->langchain) (0.2.1)\n",
            "Requirement already satisfied: yarl<2.0,>=1.17.0 in /usr/local/lib/python3.10/dist-packages (from aiohttp<4.0.0,>=3.8.3->langchain) (1.18.3)\n",
            "Requirement already satisfied: idna>=2.8 in /usr/local/lib/python3.10/dist-packages (from anyio<5,>=3.5.0->openai) (3.10)\n",
            "Requirement already satisfied: exceptiongroup in /usr/local/lib/python3.10/dist-packages (from anyio<5,>=3.5.0->openai) (1.2.2)\n",
            "Requirement already satisfied: certifi in /usr/local/lib/python3.10/dist-packages (from httpx<1,>=0.23.0->openai) (2024.12.14)\n",
            "Requirement already satisfied: httpcore==1.* in /usr/local/lib/python3.10/dist-packages (from httpx<1,>=0.23.0->openai) (1.0.7)\n",
            "Requirement already satisfied: h11<0.15,>=0.13 in /usr/local/lib/python3.10/dist-packages (from httpcore==1.*->httpx<1,>=0.23.0->openai) (0.14.0)\n",
            "Requirement already satisfied: jsonpatch<2.0,>=1.33 in /usr/local/lib/python3.10/dist-packages (from langchain-core<0.4.0,>=0.3.26->langchain) (1.33)\n",
            "Requirement already satisfied: packaging<25,>=23.2 in /usr/local/lib/python3.10/dist-packages (from langchain-core<0.4.0,>=0.3.26->langchain) (24.2)\n",
            "Requirement already satisfied: orjson<4.0.0,>=3.9.14 in /usr/local/lib/python3.10/dist-packages (from langsmith<0.3,>=0.1.17->langchain) (3.10.12)\n",
            "Requirement already satisfied: requests-toolbelt<2.0.0,>=1.0.0 in /usr/local/lib/python3.10/dist-packages (from langsmith<0.3,>=0.1.17->langchain) (1.0.0)\n",
            "Requirement already satisfied: annotated-types>=0.6.0 in /usr/local/lib/python3.10/dist-packages (from pydantic<3.0.0,>=2.7.4->langchain) (0.7.0)\n",
            "Requirement already satisfied: pydantic-core==2.27.1 in /usr/local/lib/python3.10/dist-packages (from pydantic<3.0.0,>=2.7.4->langchain) (2.27.1)\n",
            "Requirement already satisfied: charset-normalizer<4,>=2 in /usr/local/lib/python3.10/dist-packages (from requests<3,>=2->langchain) (3.4.0)\n",
            "Requirement already satisfied: urllib3<3,>=1.21.1 in /usr/local/lib/python3.10/dist-packages (from requests<3,>=2->langchain) (2.2.3)\n",
            "Requirement already satisfied: greenlet!=0.4.17 in /usr/local/lib/python3.10/dist-packages (from SQLAlchemy<3,>=1.4->langchain) (3.1.1)\n",
            "Requirement already satisfied: jsonpointer>=1.9 in /usr/local/lib/python3.10/dist-packages (from jsonpatch<2.0,>=1.33->langchain-core<0.4.0,>=0.3.26->langchain) (3.0.0)\n"
          ]
        }
      ]
    },
    {
      "cell_type": "code",
      "source": [
        "!pip install langchain-community langchain-core langchain openai python-dotenv"
      ],
      "metadata": {
        "colab": {
          "base_uri": "https://localhost:8080/"
        },
        "id": "oo7PNH8dl5Rt",
        "outputId": "5dabb4ff-fcec-47d1-b024-4a51fee87bfa"
      },
      "execution_count": 29,
      "outputs": [
        {
          "output_type": "stream",
          "name": "stdout",
          "text": [
            "Requirement already satisfied: langchain-community in /usr/local/lib/python3.10/dist-packages (0.3.13)\n",
            "Requirement already satisfied: langchain-core in /usr/local/lib/python3.10/dist-packages (0.3.28)\n",
            "Requirement already satisfied: langchain in /usr/local/lib/python3.10/dist-packages (0.3.13)\n",
            "Requirement already satisfied: openai in /usr/local/lib/python3.10/dist-packages (1.57.4)\n",
            "Requirement already satisfied: python-dotenv in /usr/local/lib/python3.10/dist-packages (1.0.1)\n",
            "Requirement already satisfied: PyYAML>=5.3 in /usr/local/lib/python3.10/dist-packages (from langchain-community) (6.0.2)\n",
            "Requirement already satisfied: SQLAlchemy<3,>=1.4 in /usr/local/lib/python3.10/dist-packages (from langchain-community) (2.0.36)\n",
            "Requirement already satisfied: aiohttp<4.0.0,>=3.8.3 in /usr/local/lib/python3.10/dist-packages (from langchain-community) (3.11.10)\n",
            "Requirement already satisfied: dataclasses-json<0.7,>=0.5.7 in /usr/local/lib/python3.10/dist-packages (from langchain-community) (0.6.7)\n",
            "Requirement already satisfied: httpx-sse<0.5.0,>=0.4.0 in /usr/local/lib/python3.10/dist-packages (from langchain-community) (0.4.0)\n",
            "Requirement already satisfied: langsmith<0.3,>=0.1.125 in /usr/local/lib/python3.10/dist-packages (from langchain-community) (0.2.3)\n",
            "Requirement already satisfied: numpy<2,>=1.22.4 in /usr/local/lib/python3.10/dist-packages (from langchain-community) (1.26.4)\n",
            "Requirement already satisfied: pydantic-settings<3.0.0,>=2.4.0 in /usr/local/lib/python3.10/dist-packages (from langchain-community) (2.7.0)\n",
            "Requirement already satisfied: requests<3,>=2 in /usr/local/lib/python3.10/dist-packages (from langchain-community) (2.32.3)\n",
            "Requirement already satisfied: tenacity!=8.4.0,<10,>=8.1.0 in /usr/local/lib/python3.10/dist-packages (from langchain-community) (9.0.0)\n",
            "Requirement already satisfied: jsonpatch<2.0,>=1.33 in /usr/local/lib/python3.10/dist-packages (from langchain-core) (1.33)\n",
            "Requirement already satisfied: packaging<25,>=23.2 in /usr/local/lib/python3.10/dist-packages (from langchain-core) (24.2)\n",
            "Requirement already satisfied: pydantic<3.0.0,>=2.5.2 in /usr/local/lib/python3.10/dist-packages (from langchain-core) (2.10.3)\n",
            "Requirement already satisfied: typing-extensions>=4.7 in /usr/local/lib/python3.10/dist-packages (from langchain-core) (4.12.2)\n",
            "Requirement already satisfied: async-timeout<5.0.0,>=4.0.0 in /usr/local/lib/python3.10/dist-packages (from langchain) (4.0.3)\n",
            "Requirement already satisfied: langchain-text-splitters<0.4.0,>=0.3.3 in /usr/local/lib/python3.10/dist-packages (from langchain) (0.3.3)\n",
            "Requirement already satisfied: anyio<5,>=3.5.0 in /usr/local/lib/python3.10/dist-packages (from openai) (3.7.1)\n",
            "Requirement already satisfied: distro<2,>=1.7.0 in /usr/local/lib/python3.10/dist-packages (from openai) (1.9.0)\n",
            "Requirement already satisfied: httpx<1,>=0.23.0 in /usr/local/lib/python3.10/dist-packages (from openai) (0.28.1)\n",
            "Requirement already satisfied: jiter<1,>=0.4.0 in /usr/local/lib/python3.10/dist-packages (from openai) (0.8.2)\n",
            "Requirement already satisfied: sniffio in /usr/local/lib/python3.10/dist-packages (from openai) (1.3.1)\n",
            "Requirement already satisfied: tqdm>4 in /usr/local/lib/python3.10/dist-packages (from openai) (4.67.1)\n",
            "Requirement already satisfied: aiohappyeyeballs>=2.3.0 in /usr/local/lib/python3.10/dist-packages (from aiohttp<4.0.0,>=3.8.3->langchain-community) (2.4.4)\n",
            "Requirement already satisfied: aiosignal>=1.1.2 in /usr/local/lib/python3.10/dist-packages (from aiohttp<4.0.0,>=3.8.3->langchain-community) (1.3.2)\n",
            "Requirement already satisfied: attrs>=17.3.0 in /usr/local/lib/python3.10/dist-packages (from aiohttp<4.0.0,>=3.8.3->langchain-community) (24.3.0)\n",
            "Requirement already satisfied: frozenlist>=1.1.1 in /usr/local/lib/python3.10/dist-packages (from aiohttp<4.0.0,>=3.8.3->langchain-community) (1.5.0)\n",
            "Requirement already satisfied: multidict<7.0,>=4.5 in /usr/local/lib/python3.10/dist-packages (from aiohttp<4.0.0,>=3.8.3->langchain-community) (6.1.0)\n",
            "Requirement already satisfied: propcache>=0.2.0 in /usr/local/lib/python3.10/dist-packages (from aiohttp<4.0.0,>=3.8.3->langchain-community) (0.2.1)\n",
            "Requirement already satisfied: yarl<2.0,>=1.17.0 in /usr/local/lib/python3.10/dist-packages (from aiohttp<4.0.0,>=3.8.3->langchain-community) (1.18.3)\n",
            "Requirement already satisfied: idna>=2.8 in /usr/local/lib/python3.10/dist-packages (from anyio<5,>=3.5.0->openai) (3.10)\n",
            "Requirement already satisfied: exceptiongroup in /usr/local/lib/python3.10/dist-packages (from anyio<5,>=3.5.0->openai) (1.2.2)\n",
            "Requirement already satisfied: marshmallow<4.0.0,>=3.18.0 in /usr/local/lib/python3.10/dist-packages (from dataclasses-json<0.7,>=0.5.7->langchain-community) (3.23.2)\n",
            "Requirement already satisfied: typing-inspect<1,>=0.4.0 in /usr/local/lib/python3.10/dist-packages (from dataclasses-json<0.7,>=0.5.7->langchain-community) (0.9.0)\n",
            "Requirement already satisfied: certifi in /usr/local/lib/python3.10/dist-packages (from httpx<1,>=0.23.0->openai) (2024.12.14)\n",
            "Requirement already satisfied: httpcore==1.* in /usr/local/lib/python3.10/dist-packages (from httpx<1,>=0.23.0->openai) (1.0.7)\n",
            "Requirement already satisfied: h11<0.15,>=0.13 in /usr/local/lib/python3.10/dist-packages (from httpcore==1.*->httpx<1,>=0.23.0->openai) (0.14.0)\n",
            "Requirement already satisfied: jsonpointer>=1.9 in /usr/local/lib/python3.10/dist-packages (from jsonpatch<2.0,>=1.33->langchain-core) (3.0.0)\n",
            "Requirement already satisfied: orjson<4.0.0,>=3.9.14 in /usr/local/lib/python3.10/dist-packages (from langsmith<0.3,>=0.1.125->langchain-community) (3.10.12)\n",
            "Requirement already satisfied: requests-toolbelt<2.0.0,>=1.0.0 in /usr/local/lib/python3.10/dist-packages (from langsmith<0.3,>=0.1.125->langchain-community) (1.0.0)\n",
            "Requirement already satisfied: annotated-types>=0.6.0 in /usr/local/lib/python3.10/dist-packages (from pydantic<3.0.0,>=2.5.2->langchain-core) (0.7.0)\n",
            "Requirement already satisfied: pydantic-core==2.27.1 in /usr/local/lib/python3.10/dist-packages (from pydantic<3.0.0,>=2.5.2->langchain-core) (2.27.1)\n",
            "Requirement already satisfied: charset-normalizer<4,>=2 in /usr/local/lib/python3.10/dist-packages (from requests<3,>=2->langchain-community) (3.4.0)\n",
            "Requirement already satisfied: urllib3<3,>=1.21.1 in /usr/local/lib/python3.10/dist-packages (from requests<3,>=2->langchain-community) (2.2.3)\n",
            "Requirement already satisfied: greenlet!=0.4.17 in /usr/local/lib/python3.10/dist-packages (from SQLAlchemy<3,>=1.4->langchain-community) (3.1.1)\n",
            "Requirement already satisfied: mypy-extensions>=0.3.0 in /usr/local/lib/python3.10/dist-packages (from typing-inspect<1,>=0.4.0->dataclasses-json<0.7,>=0.5.7->langchain-community) (1.0.0)\n"
          ]
        }
      ]
    },
    {
      "cell_type": "code",
      "source": [
        "from langchain.chat_models import ChatOpenAI\n",
        "from langchain.prompts import SystemMessagePromptTemplate, HumanMessagePromptTemplate, ChatPromptTemplate\n",
        "from langchain.chains import ConversationChain\n",
        "from langchain.memory import ConversationBufferMemory\n",
        "\n",
        "# Función que simula el acceso al BSS de la empresa con información del cliente\n",
        "def consultar_estado_cliente_en_bss(numero_cliente):\n",
        "    datos_cliente = {\n",
        "        \"1191283120\": {\n",
        "            \"nombre\": \"Aran Ortega\",\n",
        "            \"estado_servicio\": \"Activo\",\n",
        "            \"tickets_abiertos\": 0,\n",
        "            \"servicio_contratado\": \"Internet 500 Mbps\"\n",
        "        }\n",
        "    }\n",
        "    return datos_cliente.get(numero_cliente, {\"error\": \"Cliente no encontrado\"})\n",
        "\n",
        "# Declaramos la ApiKey, decidimos el modelo y la temperatura (creatividad)\n",
        "chat = ChatOpenAI(\n",
        "    model=\"gpt-4\",\n",
        "    temperature=0.7,\n",
        "    openai_api_key=\"sk-proj-a1xxxxxxxxxxxxxxxxxxxxxxxxxxxxxxxxxxxxxxxxxxxxxxxxxxxxxLtToA'\"\n",
        ")\n",
        "\n",
        "# Creamos la cadena de conversación con memoria\n",
        "memory = ConversationBufferMemory(return_messages=True)\n",
        "\n",
        "conversation_chain = ConversationChain(\n",
        "    llm=chat,\n",
        "    memory=memory\n",
        ")\n",
        "\n",
        "# Accedemos a los datos del cliente\n",
        "numero_cliente = \"1191283120\"\n",
        "datos_cliente = consultar_estado_cliente_en_bss(numero_cliente)\n",
        "\n",
        "if \"error\" in datos_cliente:\n",
        "    print(\"No se encontró al cliente en el BSS. Responde de forma genérica.\")\n",
        "else:\n",
        "    datos_cliente_texto = (\n",
        "        f\"Nombre: {datos_cliente['nombre']}, \"\n",
        "        f\"Estado del servicio: {datos_cliente['estado_servicio']}, \"\n",
        "        f\"Tickets abiertos: {datos_cliente['tickets_abiertos']}, \"\n",
        "        f\"Servicio contratado: {datos_cliente['servicio_contratado']}\"\n",
        "    )\n",
        "\n",
        "    message = (\n",
        "        \"Eres un asistente de atención al cliente del sector telecomunicaciones especializado en tratar incidencias técnicas.\"\n",
        "        \"Tu misión es redactar correos electrónicos claros, amables y profesionales en respuesta a las consultas más comunes de los clientes. \"\n",
        "        \"Por favor, asegúrate de seguir estas directrices al redactar tus respuestas:\\n\"\n",
        "        \"- Proporciona una respuesta de máximo 200 palabras.\\n\"\n",
        "        \"- Usa un tono profesional y accesible.\\n\"\n",
        "        \"- Divide el texto en párrafos claros para facilitar la lectura.\\n\"\n",
        "        \"- Incluye una lista de acciones recomendadas para resolver la incidencia.\\n\"\n",
        "        \"- Finaliza con un cierre amigable que invite al cliente a contactarnos si necesita más ayuda.\\n\\n\"\n",
        "        f\"Información del cliente: {datos_cliente_texto}\\n\\n\"\n",
        "        \"Historial de conversación: {historial}\"\n",
        "    )\n",
        "\n",
        "    # Inicializamos la memoria\n",
        "    memory.chat_memory.add_ai_message(message)\n",
        "\n",
        "    # Iteración 1 con el cliente\n",
        "    primera_pregunta = \"Hola, llevo 15 minutos sin servicio de red y esto hace que no pueda trabajar. ¿Qué puedo hacer?\"\n",
        "    memory.chat_memory.add_user_message(primera_pregunta)\n",
        "\n",
        "    # Generamos la primera respuesta\n",
        "    respuesta = conversation_chain.run(input=primera_pregunta)\n",
        "    print(\"Respuesta a la primera pregunta:\")\n",
        "    print(respuesta)\n",
        "\n",
        "    # Iteración 2 con el cliente\n",
        "    segunda_pregunta = \"¿Y cuánto tiempo tomará en resolverse este problema?\"\n",
        "    memory.chat_memory.add_user_message(segunda_pregunta)\n",
        "\n",
        "    # Generar la segunda respuesta\n",
        "    respuesta = conversation_chain.run(input=segunda_pregunta)\n",
        "    print(\"\\nRespuesta a la segunda pregunta:\")\n",
        "    print(respuesta)\n",
        "\n"
      ],
      "metadata": {
        "colab": {
          "base_uri": "https://localhost:8080/"
        },
        "id": "hsYhq_KassaL",
        "outputId": "f4d5c0d7-a1be-4ddd-d718-ca7e1240a068"
      },
      "execution_count": 30,
      "outputs": [
        {
          "output_type": "stream",
          "name": "stdout",
          "text": [
            "Respuesta a la primera pregunta:\n",
            "Estimado Aran Ortega,\n",
            "\n",
            "Lamento mucho los inconvenientes que está experimentando con su servicio de internet. Aquí le dejo algunas sugerencias para intentar solucionar el problema:\n",
            "\n",
            "1. Reinicie su módem y enrutador: Desconecte el equipo de la toma de corriente, espere 10 segundos y vuelva a conectarlo. Espere hasta que todas las luces estén encendidas y estables.\n",
            "2. Compruebe si hay alguna interrupción del servicio en su área. Puede hacerlo en nuestra página web o llamando a nuestro servicio al cliente.\n",
            "3. Verifique que todos los cables estén conectados correctamente.\n",
            "\n",
            "Si después de seguir estos pasos, sigue experimentando problemas, por favor, no dude en contactarnos. Estamos aquí para ayudarle.\n",
            "\n",
            "Saludos cordiales.\n",
            "\n",
            "Respuesta a la segunda pregunta:\n",
            "Estimado Aran Ortega,\n",
            "\n",
            "El tiempo de resolución puede variar dependiendo de la causa del problema. Si el problema se resuelve reiniciando su módem y enrutador, debería llevar alrededor de 5-10 minutos para que su servicio se restablezca después del reinicio.\n",
            "\n",
            "Si el problema es debido a una interrupción del servicio en su área, la resolución depende del tipo de problema y de cuánto tiempo lleva solucionarlo. En cualquier caso, estamos comprometidos a resolver cualquier incidencia lo más rápido posible.\n",
            "\n",
            "Si sigue experimentando problemas después de seguir los pasos recomendados, por favor, contactenos para que podamos investigar más a fondo.\n",
            "\n",
            "Siempre estamos aquí para ayudarle.\n",
            "\n",
            "Saludos cordiales.\n"
          ]
        }
      ]
    },
    {
      "cell_type": "code",
      "source": [
        "# Repetimos con un cliente que tiene más tickets abiertos asumiendo que tiene peor servicio pero con el mismo input (mensajes) que el primer ejemplo\n",
        "def consultar_estado_cliente_en_crm(numero_cliente):\n",
        "    datos_cliente = {\n",
        "        \"1191283121\": {\n",
        "            \"nombre\": \"María López\",\n",
        "            \"estado_servicio\": \"Activo\",\n",
        "            \"reclamos_abiertos\": 10,\n",
        "            \"servicio_contratado\": \"Internet 100 Mbps\"\n",
        "        }\n",
        "    }\n",
        "    return datos_cliente.get(numero_cliente, {\"error\": \"Cliente no encontrado\"})\n",
        "\n",
        "chat = ChatOpenAI(\n",
        "    model=\"gpt-4\",\n",
        "    temperature=0.7,\n",
        "    openai_api_key=\"sk-proj-a1xxxxxxxxxxxxxxxxxxxxxxxxxxxxxxxxxxxxxxxxxxxxxxxxxxxxxLtToA'\"\n",
        ")\n",
        "\n",
        "memory = ConversationBufferMemory(return_messages=True)\n",
        "\n",
        "conversation_chain = ConversationChain(\n",
        "    llm=chat,\n",
        "    memory=memory\n",
        ")\n",
        "\n",
        "numero_cliente = \"1191283121\"\n",
        "datos_cliente = consultar_estado_cliente_en_crm(numero_cliente)\n",
        "\n",
        "if \"error\" in datos_cliente:\n",
        "    print(\"No se encontró al cliente en el CRM. Responde de forma genérica.\")\n",
        "else:\n",
        "    datos_cliente_texto = (\n",
        "        f\"Nombre: {datos_cliente['nombre']}, \"\n",
        "        f\"Estado del servicio: {datos_cliente['estado_servicio']}, \"\n",
        "        f\"Reclamos abiertos: {datos_cliente['reclamos_abiertos']}, \"\n",
        "        f\"Servicio contratado: {datos_cliente['servicio_contratado']}\"\n",
        "    )\n",
        "\n",
        "    system_message = (\n",
        "        \"Eres un asistente de atención al cliente del sector telecomunicaciones especializado en tratar incidencias técnicas.\"\n",
        "        \"Tu misión es redactar correos electrónicos claros, amables y profesionales en respuesta a las consultas más comunes de los clientes. \"\n",
        "        \"Por favor, asegúrate de seguir estas directrices al redactar tus respuestas:\\n\"\n",
        "        \"- Proporciona una respuesta de máximo 200 palabras.\\n\"\n",
        "        \"- Usa un tono profesional y accesible.\\n\"\n",
        "        \"- Divide el texto en párrafos claros para facilitar la lectura.\\n\"\n",
        "        \"- Incluye una lista de acciones recomendadas para resolver la incidencia.\\n\"\n",
        "        \"- Finaliza con un cierre amigable que invite al cliente a contactarnos si necesita más ayuda.\\n\\n\"\n",
        "        f\"Información del cliente: {datos_cliente_texto}\\n\\n\"\n",
        "        \"Historial de conversación: {historial}\"\n",
        "    )\n",
        "\n",
        "    memory.chat_memory.add_ai_message(system_message)\n",
        "\n",
        "    primera_pregunta = \"Hola, llevo 15 minutos sin servicio de red y esto hace que no pueda trabajar. ¿Qué puedo hacer?\"\n",
        "    memory.chat_memory.add_user_message(primera_pregunta)\n",
        "\n",
        "    respuesta = conversation_chain.run(input=primera_pregunta)\n",
        "    print(\"Respuesta a la primera pregunta:\")\n",
        "    print(respuesta)\n",
        "\n",
        "    segunda_pregunta = \"¿Y cuánto tiempo tomará en resolverse este problema?\"\n",
        "    memory.chat_memory.add_user_message(segunda_pregunta)\n",
        "\n",
        "    respuesta = conversation_chain.run(input=segunda_pregunta)\n",
        "    print(\"\\nRespuesta a la segunda pregunta:\")\n",
        "    print(respuesta)\n"
      ],
      "metadata": {
        "colab": {
          "base_uri": "https://localhost:8080/"
        },
        "id": "plcML8utt8Dv",
        "outputId": "820d2c34-55b0-483e-ce58-e6093831fc91"
      },
      "execution_count": 31,
      "outputs": [
        {
          "output_type": "stream",
          "name": "stdout",
          "text": [
            "Respuesta a la primera pregunta:\n",
            "Estimada María López,\n",
            "\n",
            "Lamentamos mucho los inconvenientes que está experimentando con su servicio de Internet. Aquí hay algunas acciones que podría intentar para resolver el problema:\n",
            "\n",
            "1. Compruebe si todos los cables de su router están correctamente conectados.\n",
            "2. Reinicie su router desconectándolo de la corriente durante 30 segundos y luego vuelva a enchufarlo.\n",
            "3. Si usa WiFi, pruebe conectarse a través de un cable Ethernet para ver si el problema persiste.\n",
            "\n",
            "Si después de intentar estas acciones el problema persiste, por favor, háganoslo saber. Nuestro equipo técnico está disponible para ayudarle en lo que sea necesario.\n",
            "\n",
            "Gracias por su paciencia y comprensión.\n",
            "\n",
            "Atentamente,\n",
            "Equipo de atención al cliente de Telecomunicaciones\n",
            "\n",
            "Respuesta a la segunda pregunta:\n",
            "Estimada María López,\n",
            "\n",
            "El tiempo de resolución puede variar dependiendo de la causa del problema. Si se resuelve con las acciones que le hemos recomendado, debería volver a tener servicio inmediatamente. Si no es así y es necesario la intervención de nuestro equipo técnico, podría tomar más tiempo. Nos esforzamos por resolver todas las incidencias lo más rápido posible.\n",
            "\n",
            "Gracias por su comprensión.\n",
            "\n",
            "Atentamente,\n",
            "Equipo de atención al cliente de Telecomunicaciones\n"
          ]
        }
      ]
    },
    {
      "cell_type": "code",
      "source": [
        "# Parece que la IA, cuando trata a un cliente que tiene 10 reclamaciones, empatiza más añadiendo frases del tipo \"gracias por su paciencia y comprensión\""
      ],
      "metadata": {
        "id": "H22rFKnavfF3"
      },
      "execution_count": 32,
      "outputs": []
    }
  ]
}