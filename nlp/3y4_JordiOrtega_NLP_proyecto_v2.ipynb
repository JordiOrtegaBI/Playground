{
  "nbformat": 4,
  "nbformat_minor": 0,
  "metadata": {
    "colab": {
      "provenance": []
    },
    "kernelspec": {
      "name": "python3",
      "display_name": "Python 3"
    },
    "language_info": {
      "name": "python"
    }
  },
  "cells": [
    {
      "cell_type": "code",
      "execution_count": 1,
      "metadata": {
        "id": "loH8r201D6hM"
      },
      "outputs": [],
      "source": [
        "################################################################################################################################\n",
        "############################## PRACTICA NLP: Jordi Ortega - IA2 ################################################################\n",
        "################################################################################################################################\n",
        "\n",
        "# 0. Ejercicio 3. Etapa de entrenamiento y testeo de un modelo de análisis de sentimiento\n",
        "# 0. Ejercicio 4. Reporte de métricas y conclusiones\n",
        "\n",
        "# 1. Cargamos el dataset -> Cargamos el dataset ya preprocesado.\n",
        "# 2. Machine Learning -> Aplicamos un xgboost de clasificación binaria\n",
        "# 3. Deep Learning -> Aplicamos una red neuronal con LSTM\n",
        "# 4. Conclusiones"
      ]
    },
    {
      "cell_type": "code",
      "source": [
        "################################################################################################################################\n",
        "############################## CARGAMOS DATASET ################################################################################\n",
        "################################################################################################################################"
      ],
      "metadata": {
        "id": "E_tmD1p7ETzd"
      },
      "execution_count": 2,
      "outputs": []
    },
    {
      "cell_type": "code",
      "source": [
        "# Data Source: https://cseweb.ucsd.edu/~jmcauley/datasets.html#amazon_reviews\n",
        "# 2023 version\n",
        "# Bridging Language and Items for Retrieval and Recommendation\n",
        "# Yupeng Hou, Jiacheng Li, Zhankui He, An Yan, Xiusi Chen, Julian McAuley"
      ],
      "metadata": {
        "id": "rzQL3ggGEVPU"
      },
      "execution_count": 3,
      "outputs": []
    },
    {
      "cell_type": "code",
      "source": [
        "import pandas as pd\n",
        "df_unigram = pd.read_csv('df_sports_outdoors_unigram.csv')\n",
        "df_unigram.head(5)"
      ],
      "metadata": {
        "id": "xhRwa8jfEYMT",
        "colab": {
          "base_uri": "https://localhost:8080/",
          "height": 206
        },
        "outputId": "670037c9-5f21-4246-b0dc-c5830fe9dcae"
      },
      "execution_count": 4,
      "outputs": [
        {
          "output_type": "execute_result",
          "data": {
            "text/plain": [
              "   Unnamed: 0  sentiment                                 title  \\\n",
              "0           0        5.0  Greatly impressed, I recommend these   \n",
              "1           1        5.0                           Great Lures   \n",
              "2           2        5.0             Perfect for what I needed   \n",
              "3           3        5.0                         Great Product   \n",
              "4           4        5.0                             Great box   \n",
              "\n",
              "                                              review  sentiment_label  \\\n",
              "0  Ordered a few bags, put some in mine  and my c...                0   \n",
              "1                      Nice quality lures heavy duty                0   \n",
              "2    Lost mine in a move. Perfect for what I needed.                0   \n",
              "3  Great quality.  Adjustable from 22lbs-88lbs of...                0   \n",
              "4  This mini Tackle box comes with so many fishin...                0   \n",
              "\n",
              "                                        review_clean  \n",
              "0  ['ordered', 'bag', 'put', 'mine', 'child', 'gl...  \n",
              "1               ['nice', 'quality', 'heavy', 'duty']  \n",
              "2      ['lost', 'mine', 'move', 'perfect', 'needed']  \n",
              "3      ['great', 'quality', 'adjustable', 'tension']  \n",
              "4  ['box', 'come', 'many', 'fishing', 'make', 'fi...  "
            ],
            "text/html": [
              "\n",
              "  <div id=\"df-bf00a506-c04b-4171-ab25-af13e8890df1\" class=\"colab-df-container\">\n",
              "    <div>\n",
              "<style scoped>\n",
              "    .dataframe tbody tr th:only-of-type {\n",
              "        vertical-align: middle;\n",
              "    }\n",
              "\n",
              "    .dataframe tbody tr th {\n",
              "        vertical-align: top;\n",
              "    }\n",
              "\n",
              "    .dataframe thead th {\n",
              "        text-align: right;\n",
              "    }\n",
              "</style>\n",
              "<table border=\"1\" class=\"dataframe\">\n",
              "  <thead>\n",
              "    <tr style=\"text-align: right;\">\n",
              "      <th></th>\n",
              "      <th>Unnamed: 0</th>\n",
              "      <th>sentiment</th>\n",
              "      <th>title</th>\n",
              "      <th>review</th>\n",
              "      <th>sentiment_label</th>\n",
              "      <th>review_clean</th>\n",
              "    </tr>\n",
              "  </thead>\n",
              "  <tbody>\n",
              "    <tr>\n",
              "      <th>0</th>\n",
              "      <td>0</td>\n",
              "      <td>5.0</td>\n",
              "      <td>Greatly impressed, I recommend these</td>\n",
              "      <td>Ordered a few bags, put some in mine  and my c...</td>\n",
              "      <td>0</td>\n",
              "      <td>['ordered', 'bag', 'put', 'mine', 'child', 'gl...</td>\n",
              "    </tr>\n",
              "    <tr>\n",
              "      <th>1</th>\n",
              "      <td>1</td>\n",
              "      <td>5.0</td>\n",
              "      <td>Great Lures</td>\n",
              "      <td>Nice quality lures heavy duty</td>\n",
              "      <td>0</td>\n",
              "      <td>['nice', 'quality', 'heavy', 'duty']</td>\n",
              "    </tr>\n",
              "    <tr>\n",
              "      <th>2</th>\n",
              "      <td>2</td>\n",
              "      <td>5.0</td>\n",
              "      <td>Perfect for what I needed</td>\n",
              "      <td>Lost mine in a move. Perfect for what I needed.</td>\n",
              "      <td>0</td>\n",
              "      <td>['lost', 'mine', 'move', 'perfect', 'needed']</td>\n",
              "    </tr>\n",
              "    <tr>\n",
              "      <th>3</th>\n",
              "      <td>3</td>\n",
              "      <td>5.0</td>\n",
              "      <td>Great Product</td>\n",
              "      <td>Great quality.  Adjustable from 22lbs-88lbs of...</td>\n",
              "      <td>0</td>\n",
              "      <td>['great', 'quality', 'adjustable', 'tension']</td>\n",
              "    </tr>\n",
              "    <tr>\n",
              "      <th>4</th>\n",
              "      <td>4</td>\n",
              "      <td>5.0</td>\n",
              "      <td>Great box</td>\n",
              "      <td>This mini Tackle box comes with so many fishin...</td>\n",
              "      <td>0</td>\n",
              "      <td>['box', 'come', 'many', 'fishing', 'make', 'fi...</td>\n",
              "    </tr>\n",
              "  </tbody>\n",
              "</table>\n",
              "</div>\n",
              "    <div class=\"colab-df-buttons\">\n",
              "\n",
              "  <div class=\"colab-df-container\">\n",
              "    <button class=\"colab-df-convert\" onclick=\"convertToInteractive('df-bf00a506-c04b-4171-ab25-af13e8890df1')\"\n",
              "            title=\"Convert this dataframe to an interactive table.\"\n",
              "            style=\"display:none;\">\n",
              "\n",
              "  <svg xmlns=\"http://www.w3.org/2000/svg\" height=\"24px\" viewBox=\"0 -960 960 960\">\n",
              "    <path d=\"M120-120v-720h720v720H120Zm60-500h600v-160H180v160Zm220 220h160v-160H400v160Zm0 220h160v-160H400v160ZM180-400h160v-160H180v160Zm440 0h160v-160H620v160ZM180-180h160v-160H180v160Zm440 0h160v-160H620v160Z\"/>\n",
              "  </svg>\n",
              "    </button>\n",
              "\n",
              "  <style>\n",
              "    .colab-df-container {\n",
              "      display:flex;\n",
              "      gap: 12px;\n",
              "    }\n",
              "\n",
              "    .colab-df-convert {\n",
              "      background-color: #E8F0FE;\n",
              "      border: none;\n",
              "      border-radius: 50%;\n",
              "      cursor: pointer;\n",
              "      display: none;\n",
              "      fill: #1967D2;\n",
              "      height: 32px;\n",
              "      padding: 0 0 0 0;\n",
              "      width: 32px;\n",
              "    }\n",
              "\n",
              "    .colab-df-convert:hover {\n",
              "      background-color: #E2EBFA;\n",
              "      box-shadow: 0px 1px 2px rgba(60, 64, 67, 0.3), 0px 1px 3px 1px rgba(60, 64, 67, 0.15);\n",
              "      fill: #174EA6;\n",
              "    }\n",
              "\n",
              "    .colab-df-buttons div {\n",
              "      margin-bottom: 4px;\n",
              "    }\n",
              "\n",
              "    [theme=dark] .colab-df-convert {\n",
              "      background-color: #3B4455;\n",
              "      fill: #D2E3FC;\n",
              "    }\n",
              "\n",
              "    [theme=dark] .colab-df-convert:hover {\n",
              "      background-color: #434B5C;\n",
              "      box-shadow: 0px 1px 3px 1px rgba(0, 0, 0, 0.15);\n",
              "      filter: drop-shadow(0px 1px 2px rgba(0, 0, 0, 0.3));\n",
              "      fill: #FFFFFF;\n",
              "    }\n",
              "  </style>\n",
              "\n",
              "    <script>\n",
              "      const buttonEl =\n",
              "        document.querySelector('#df-bf00a506-c04b-4171-ab25-af13e8890df1 button.colab-df-convert');\n",
              "      buttonEl.style.display =\n",
              "        google.colab.kernel.accessAllowed ? 'block' : 'none';\n",
              "\n",
              "      async function convertToInteractive(key) {\n",
              "        const element = document.querySelector('#df-bf00a506-c04b-4171-ab25-af13e8890df1');\n",
              "        const dataTable =\n",
              "          await google.colab.kernel.invokeFunction('convertToInteractive',\n",
              "                                                    [key], {});\n",
              "        if (!dataTable) return;\n",
              "\n",
              "        const docLinkHtml = 'Like what you see? Visit the ' +\n",
              "          '<a target=\"_blank\" href=https://colab.research.google.com/notebooks/data_table.ipynb>data table notebook</a>'\n",
              "          + ' to learn more about interactive tables.';\n",
              "        element.innerHTML = '';\n",
              "        dataTable['output_type'] = 'display_data';\n",
              "        await google.colab.output.renderOutput(dataTable, element);\n",
              "        const docLink = document.createElement('div');\n",
              "        docLink.innerHTML = docLinkHtml;\n",
              "        element.appendChild(docLink);\n",
              "      }\n",
              "    </script>\n",
              "  </div>\n",
              "\n",
              "\n",
              "<div id=\"df-58f3befc-e48e-495d-baef-8cd38acf7264\">\n",
              "  <button class=\"colab-df-quickchart\" onclick=\"quickchart('df-58f3befc-e48e-495d-baef-8cd38acf7264')\"\n",
              "            title=\"Suggest charts\"\n",
              "            style=\"display:none;\">\n",
              "\n",
              "<svg xmlns=\"http://www.w3.org/2000/svg\" height=\"24px\"viewBox=\"0 0 24 24\"\n",
              "     width=\"24px\">\n",
              "    <g>\n",
              "        <path d=\"M19 3H5c-1.1 0-2 .9-2 2v14c0 1.1.9 2 2 2h14c1.1 0 2-.9 2-2V5c0-1.1-.9-2-2-2zM9 17H7v-7h2v7zm4 0h-2V7h2v10zm4 0h-2v-4h2v4z\"/>\n",
              "    </g>\n",
              "</svg>\n",
              "  </button>\n",
              "\n",
              "<style>\n",
              "  .colab-df-quickchart {\n",
              "      --bg-color: #E8F0FE;\n",
              "      --fill-color: #1967D2;\n",
              "      --hover-bg-color: #E2EBFA;\n",
              "      --hover-fill-color: #174EA6;\n",
              "      --disabled-fill-color: #AAA;\n",
              "      --disabled-bg-color: #DDD;\n",
              "  }\n",
              "\n",
              "  [theme=dark] .colab-df-quickchart {\n",
              "      --bg-color: #3B4455;\n",
              "      --fill-color: #D2E3FC;\n",
              "      --hover-bg-color: #434B5C;\n",
              "      --hover-fill-color: #FFFFFF;\n",
              "      --disabled-bg-color: #3B4455;\n",
              "      --disabled-fill-color: #666;\n",
              "  }\n",
              "\n",
              "  .colab-df-quickchart {\n",
              "    background-color: var(--bg-color);\n",
              "    border: none;\n",
              "    border-radius: 50%;\n",
              "    cursor: pointer;\n",
              "    display: none;\n",
              "    fill: var(--fill-color);\n",
              "    height: 32px;\n",
              "    padding: 0;\n",
              "    width: 32px;\n",
              "  }\n",
              "\n",
              "  .colab-df-quickchart:hover {\n",
              "    background-color: var(--hover-bg-color);\n",
              "    box-shadow: 0 1px 2px rgba(60, 64, 67, 0.3), 0 1px 3px 1px rgba(60, 64, 67, 0.15);\n",
              "    fill: var(--button-hover-fill-color);\n",
              "  }\n",
              "\n",
              "  .colab-df-quickchart-complete:disabled,\n",
              "  .colab-df-quickchart-complete:disabled:hover {\n",
              "    background-color: var(--disabled-bg-color);\n",
              "    fill: var(--disabled-fill-color);\n",
              "    box-shadow: none;\n",
              "  }\n",
              "\n",
              "  .colab-df-spinner {\n",
              "    border: 2px solid var(--fill-color);\n",
              "    border-color: transparent;\n",
              "    border-bottom-color: var(--fill-color);\n",
              "    animation:\n",
              "      spin 1s steps(1) infinite;\n",
              "  }\n",
              "\n",
              "  @keyframes spin {\n",
              "    0% {\n",
              "      border-color: transparent;\n",
              "      border-bottom-color: var(--fill-color);\n",
              "      border-left-color: var(--fill-color);\n",
              "    }\n",
              "    20% {\n",
              "      border-color: transparent;\n",
              "      border-left-color: var(--fill-color);\n",
              "      border-top-color: var(--fill-color);\n",
              "    }\n",
              "    30% {\n",
              "      border-color: transparent;\n",
              "      border-left-color: var(--fill-color);\n",
              "      border-top-color: var(--fill-color);\n",
              "      border-right-color: var(--fill-color);\n",
              "    }\n",
              "    40% {\n",
              "      border-color: transparent;\n",
              "      border-right-color: var(--fill-color);\n",
              "      border-top-color: var(--fill-color);\n",
              "    }\n",
              "    60% {\n",
              "      border-color: transparent;\n",
              "      border-right-color: var(--fill-color);\n",
              "    }\n",
              "    80% {\n",
              "      border-color: transparent;\n",
              "      border-right-color: var(--fill-color);\n",
              "      border-bottom-color: var(--fill-color);\n",
              "    }\n",
              "    90% {\n",
              "      border-color: transparent;\n",
              "      border-bottom-color: var(--fill-color);\n",
              "    }\n",
              "  }\n",
              "</style>\n",
              "\n",
              "  <script>\n",
              "    async function quickchart(key) {\n",
              "      const quickchartButtonEl =\n",
              "        document.querySelector('#' + key + ' button');\n",
              "      quickchartButtonEl.disabled = true;  // To prevent multiple clicks.\n",
              "      quickchartButtonEl.classList.add('colab-df-spinner');\n",
              "      try {\n",
              "        const charts = await google.colab.kernel.invokeFunction(\n",
              "            'suggestCharts', [key], {});\n",
              "      } catch (error) {\n",
              "        console.error('Error during call to suggestCharts:', error);\n",
              "      }\n",
              "      quickchartButtonEl.classList.remove('colab-df-spinner');\n",
              "      quickchartButtonEl.classList.add('colab-df-quickchart-complete');\n",
              "    }\n",
              "    (() => {\n",
              "      let quickchartButtonEl =\n",
              "        document.querySelector('#df-58f3befc-e48e-495d-baef-8cd38acf7264 button');\n",
              "      quickchartButtonEl.style.display =\n",
              "        google.colab.kernel.accessAllowed ? 'block' : 'none';\n",
              "    })();\n",
              "  </script>\n",
              "</div>\n",
              "\n",
              "    </div>\n",
              "  </div>\n"
            ],
            "application/vnd.google.colaboratory.intrinsic+json": {
              "type": "dataframe",
              "variable_name": "df_unigram",
              "summary": "{\n  \"name\": \"df_unigram\",\n  \"rows\": 4886,\n  \"fields\": [\n    {\n      \"column\": \"Unnamed: 0\",\n      \"properties\": {\n        \"dtype\": \"number\",\n        \"std\": 1444,\n        \"min\": 0,\n        \"max\": 4999,\n        \"num_unique_values\": 4886,\n        \"samples\": [\n          1163,\n          400,\n          1283\n        ],\n        \"semantic_type\": \"\",\n        \"description\": \"\"\n      }\n    },\n    {\n      \"column\": \"sentiment\",\n      \"properties\": {\n        \"dtype\": \"number\",\n        \"std\": 1.478387787423193,\n        \"min\": 1.0,\n        \"max\": 5.0,\n        \"num_unique_values\": 5,\n        \"samples\": [\n          4.0,\n          3.0,\n          1.0\n        ],\n        \"semantic_type\": \"\",\n        \"description\": \"\"\n      }\n    },\n    {\n      \"column\": \"title\",\n      \"properties\": {\n        \"dtype\": \"string\",\n        \"num_unique_values\": 4283,\n        \"samples\": [\n          \"Soft, giftable, no pilling\",\n          \"Inexpensive light didn't meet my expectations, returned for a refund.....\",\n          \"Works but not for me\"\n        ],\n        \"semantic_type\": \"\",\n        \"description\": \"\"\n      }\n    },\n    {\n      \"column\": \"review\",\n      \"properties\": {\n        \"dtype\": \"string\",\n        \"num_unique_values\": 4886,\n        \"samples\": [\n          \"I am an old skater. Started out skating in the roller rinks in the 60's 70's. Switched to roller blades in the 80's 90's. In 2022 I am now in my 60's and I can no longer roller blade outside for fear of falling and breaking something. This board brought it all back to me. I get the feeling of skating again and the exercise is phenomenal to say the least. Don't waste your money on the cheap roll ups, go for the real deal. This board is good quality and I can hide it away by sliding it very nicely under my couch. I just slide it out and watch my living room TV while I am sliding. It is wonderful!\",\n          \"Great gift idea\",\n          \"Just 1.5 miles from the trailhead on a six-day trek over the Gallatin Range in Wyoming, the stitching on the sternum strap of my brand-new Osprey Aether AG 70 pack suddenly failed, leaving me with just the shoulder straps to balance 50+ pounds of gear and food for the remaining 31.5 miles. If the stitching had failed at some more crucial support point, I would have been screwed. As it was, I just suffered from too-sore shoulders. When you pay top dollar for a top-rated pack, things like this shouldn't happen. Otherwise, this seems like a very good pack, and the other members of my group seemed happy with theirs.\"\n        ],\n        \"semantic_type\": \"\",\n        \"description\": \"\"\n      }\n    },\n    {\n      \"column\": \"sentiment_label\",\n      \"properties\": {\n        \"dtype\": \"number\",\n        \"std\": 0,\n        \"min\": 0,\n        \"max\": 1,\n        \"num_unique_values\": 2,\n        \"samples\": [\n          1,\n          0\n        ],\n        \"semantic_type\": \"\",\n        \"description\": \"\"\n      }\n    },\n    {\n      \"column\": \"review_clean\",\n      \"properties\": {\n        \"dtype\": \"string\",\n        \"num_unique_values\": 4793,\n        \"samples\": [\n          \"['kid', 'excited', 'big', 'great', 'though', 'small', 'think', 'great', 'kid', 'playing', 'took', 'star', 'little', 'issue', 'overall', 'though', 'loved', 'fun', 'pretty', 'good', 'deal']\",\n          \"['always', 'good', 'choice', 'one', 'good', 'choice', 'bike', 'brake', 'pull', 'brake', 'insert', 'good', 'even', 'power', 'easy', 'surface', 'work', 'well', 'wet', 'weather']\"\n        ],\n        \"semantic_type\": \"\",\n        \"description\": \"\"\n      }\n    }\n  ]\n}"
            }
          },
          "metadata": {},
          "execution_count": 4
        }
      ]
    },
    {
      "cell_type": "code",
      "source": [
        "################################################################################################################################\n",
        "############################## MACHINE LEARNING ################################################################################\n",
        "################################################################################################################################"
      ],
      "metadata": {
        "id": "a1_hUcJwFVNm"
      },
      "execution_count": 5,
      "outputs": []
    },
    {
      "cell_type": "code",
      "source": [
        "from sklearn.model_selection import train_test_split\n",
        "\n",
        "# Determinamos los valores de X e y (siendo X los tokens resultantes del preprocesado)\n",
        "X = df_unigram['review_clean']\n",
        "y = df_unigram['sentiment_label']\n",
        "\n",
        "# Dividimos los datos en entrenamiento y test\n",
        "X_train, X_test, y_train, y_test = train_test_split(X, y, test_size=0.2, random_state=42,  stratify=y)"
      ],
      "metadata": {
        "id": "w1NnCE_lFNzd"
      },
      "execution_count": 6,
      "outputs": []
    },
    {
      "cell_type": "code",
      "source": [
        "print(X_train.iloc[0])"
      ],
      "metadata": {
        "colab": {
          "base_uri": "https://localhost:8080/"
        },
        "id": "RSHWz1Z_Fr29",
        "outputId": "bdf728ad-8b6a-4547-b1aa-aaa5fedbcf32"
      },
      "execution_count": 7,
      "outputs": [
        {
          "output_type": "stream",
          "name": "stdout",
          "text": [
            "['people', 'without', 'hand', 'strength']\n"
          ]
        }
      ]
    },
    {
      "cell_type": "code",
      "source": [
        "from sklearn.feature_extraction.text import CountVectorizer\n",
        "\n",
        "# Transformamos el texto en representaciones númericas y limitamos a 5K el vocabulario (palabras más frecuentes). El vocabulario quedará por debajo de este límite.\n",
        "def extract_BoW_features(words_train, words_test, vocabulary_size=5000):\n",
        "    vectorizer = CountVectorizer(max_features=vocabulary_size, analyzer='word', tokenizer=None)\n",
        "\n",
        "    # Aprendemos el vocabulario y lo aplicamos en test\n",
        "    features_train = vectorizer.fit_transform(words_train).toarray()\n",
        "    features_test = vectorizer.transform(words_test).toarray()\n",
        "\n",
        "    # Guardamos el vocabulario\n",
        "    vocabulary = vectorizer.vocabulary_\n",
        "\n",
        "    return features_train, features_test, vocabulary\n",
        "\n",
        "# Extraemos las características de Bag of Words\n",
        "features_train, features_test, vocabulary = extract_BoW_features(X_train, X_test)"
      ],
      "metadata": {
        "id": "kPvaEF0fFgm4"
      },
      "execution_count": 8,
      "outputs": []
    },
    {
      "cell_type": "code",
      "source": [
        "print(\"Tamaño del vocabulario:\", len(vocabulary))"
      ],
      "metadata": {
        "colab": {
          "base_uri": "https://localhost:8080/"
        },
        "id": "c6xHCEoJESxb",
        "outputId": "15d26748-76a5-4441-9af0-5a7dcc17c619"
      },
      "execution_count": 9,
      "outputs": [
        {
          "output_type": "stream",
          "name": "stdout",
          "text": [
            "Tamaño del vocabulario: 998\n"
          ]
        }
      ]
    },
    {
      "cell_type": "code",
      "source": [
        "# Vocabulario aprendido por el vectorizador\n",
        "print(\"Vocabulario:\", vocabulary)\n",
        "\n",
        "# Primer vector BoW\n",
        "print(\"Vector BoW para la primera reseña:\", features_train[0])\n",
        "\n",
        "# Comparamos con los tokens originales\n",
        "print(\"Tokens de la primera reseña:\", X_train.iloc[0])\n",
        "\n",
        "# Accedemos a la palabra 'without' para comprobar que el bector BoW lo recoge correctamente\n",
        "print(\"Valor en la posición 975 del vector BoW para la primera reseña:\", features_train[0][975])"
      ],
      "metadata": {
        "colab": {
          "base_uri": "https://localhost:8080/"
        },
        "id": "Dxnog5Gl9TWy",
        "outputId": "3d85da38-740b-4bb0-b85f-c3e02784196c"
      },
      "execution_count": 10,
      "outputs": [
        {
          "output_type": "stream",
          "name": "stdout",
          "text": [
            "Vocabulario: {'people': 596, 'without': 975, 'hand': 361, 'strength': 823, 'price': 638, 'wrong': 989, 'need': 543, 'whistle': 965, 'use': 920, 'group': 354, 'thing': 863, 'hear': 370, 'item': 429, 'soon': 793, 'put': 658, 'roller': 708, 'worked': 981, 'pretty': 637, 'well': 960, 'far': 281, 'slip': 775, 'mat': 506, 'slide': 773, 'bit': 86, 'really': 675, 'big': 83, 'enough': 248, 'knee': 443, 'like': 471, 'doe': 221, 'metal': 516, 'part': 592, 'product': 643, 'think': 864, 'great': 350, 'heavy': 374, 'purpose': 656, 'fine': 296, 'real': 674, 'cheap': 139, 'one': 567, 'returned': 698, 'right': 703, 'away': 55, 'trust': 899, 'made': 498, 'nice': 549, 'zipper': 997, 'thicker': 860, 'expected': 265, 'comfortable': 158, 'strong': 826, 'work': 980, 'lose': 489, 'came': 117, 'riding': 702, 'day': 196, 'fall': 277, 'good': 346, 'replacement': 691, 'compact': 162, 'first': 299, 'two': 906, 'keep': 435, 'home': 391, 'older': 566, 'wearing': 955, 'purchased': 655, 'new': 547, 'however': 403, 'model': 525, 'old': 565, 'better': 82, 'used': 921, 'know': 446, 'number': 561, 'machine': 497, 'fitbit': 303, 'burn': 112, 'step': 812, 'still': 815, 'amount': 32, 'time': 874, 'wonderful': 978, 'color': 155, 'needed': 544, 'actually': 8, 'got': 347, 'mug': 536, 'going': 344, 'went': 961, 'size': 766, 'probably': 641, 'end': 245, 'another': 35, 'horrible': 398, 'priced': 639, 'break': 104, 'get': 335, 'tire': 877, 'loose': 488, 'thread': 868, 'wanted': 942, 'something': 789, 'place': 610, 'phone': 603, 'pocket': 620, 'small': 776, 'looked': 485, 'okay': 564, 'month': 528, 'falling': 278, 'apart': 40, 'belt': 79, 'loop': 487, 'long': 482, 'broken': 107, 'material': 508, 'start': 807, 'come': 156, 'hot': 400, 'fast': 282, 'life': 466, 'fill': 290, 'even': 253, 'fan': 280, 'charger': 137, 'setting': 745, 'brand': 103, 'battery': 72, 'using': 925, 'charge': 136, 'either': 241, 'simply': 760, 'thought': 867, 'least': 456, 'making': 501, 'order': 575, 'adjustable': 14, 'tension': 853, 'feel': 285, 'couple': 183, 'everything': 257, 'smooth': 779, 'pull': 651, 'seat': 730, 'buy': 114, 'usually': 926, 'pay': 594, 'built': 110, 'resistance': 693, 'water': 951, 'monitor': 527, 'high': 380, 'quality': 660, 'hope': 396, 'last': 451, 'year': 991, 'mostly': 530, 'yes': 993, 'unless': 915, 'floor': 313, 'extra': 269, 'cushion': 188, 'underneath': 911, 'unfortunately': 913, 'move': 534, 'top': 883, 'important': 410, 'note': 556, 'nothing': 557, 'practice': 633, 'somewhat': 791, 'never': 546, 'perfect': 598, 'may': 511, 'issue': 428, 'forward': 320, 'foot': 319, 'hit': 386, 'want': 941, 'bottom': 98, 'line': 474, 'almost': 24, 'every': 255, 'anything': 37, 'fair': 275, 'see': 735, 'much': 535, 'looking': 486, 'double': 226, 'smaller': 777, 'equipment': 250, 'terrible': 855, 'spend': 798, 'little': 477, 'returning': 699, 'mine': 521, 'enjoy': 247, 'game': 331, 'bag': 61, 'easy': 238, 'together': 879, 'leg': 459, 'position': 627, 'different': 213, 'whole': 967, 'husband': 406, 'said': 718, 'screw': 726, 'feature': 284, 'pack': 582, 'flat': 310, 'filled': 291, 'type': 907, 'also': 27, 'lot': 491, 'toy': 888, 'seem': 736, 'instruction': 425, 'tell': 852, 'play': 613, 'find': 295, 'person': 601, 'reading': 672, 'review': 700, 'point': 621, 'hole': 390, 'middle': 517, 'lower': 496, 'overall': 581, 'fun': 329, 'look': 484, 'summer': 831, 'lightweight': 470, 'shirt': 751, 'weather': 956, 'picture': 606, 'sizing': 768, 'run': 713, 'side': 756, 'instead': 424, 'regular': 686, 'wear': 954, 'medium': 514, 'tight': 872, 'shoulder': 754, 'fit': 302, 'key': 438, 'stop': 817, 'legging': 460, 'average': 54, 'worth': 986, 'star': 806, 'found': 321, 'hard': 367, 'way': 953, 'leave': 457, 'car': 121, 'wind': 970, 'around': 45, 'light': 468, 'weight': 958, 'inflate': 416, 'didn': 211, 'stick': 813, 'daughter': 195, 'face': 273, 'minute': 522, 'waste': 948, 'money': 526, 'seems': 738, 'included': 414, 'strap': 821, 'feeling': 286, 'designed': 207, 'fishing': 301, 'description': 205, 'tape': 849, 'arrived': 46, 'missing': 523, 'several': 746, 'sent': 741, 'bolt': 95, 'within': 974, 'original': 577, 'box': 100, 'thickness': 861, 'seemed': 737, 'snap': 781, 'store': 819, 'unit': 914, 'take': 845, 'working': 982, 'properly': 645, 'others': 578, 'problem': 642, 'advertised': 17, 'correct': 180, 'quick': 661, 'cute': 191, 'addition': 11, 'stiff': 814, 'holder': 388, 'tried': 895, 'dark': 193, 'build': 109, 'solid': 787, 'sturdy': 829, 'bad': 60, 'handle': 362, 'bar': 65, 'brake': 102, 'speed': 797, 'level': 464, 'fold': 316, 'scooter': 724, 'button': 113, 'base': 67, 'main': 499, 'difficult': 214, 'kid': 440, 'range': 666, 'system': 843, 'push': 657, 'back': 57, 'release': 687, 'plastic': 612, 'wheel': 964, 'especially': 251, 'bigger': 84, 'hang': 365, 'quickly': 662, 'might': 518, 'disappointed': 216, 'beginner': 76, 'yet': 994, 'user': 924, 'option': 574, 'amazon': 31, 'mile': 519, 'remember': 688, 'worry': 985, 'press': 635, 'left': 458, 'easier': 236, 'since': 761, 'control': 176, 'child': 143, 'choice': 144, 'ready': 673, 'normal': 554, 'customer': 189, 'asin': 47, 'rate': 667, 'absolutely': 2, 'say': 722, 'seller': 740, 'many': 503, 'golf': 345, 'umbrella': 909, 'ever': 254, 'huge': 404, 'cool': 177, 'entire': 249, 'favorite': 283, 'already': 26, 'paid': 587, 'care': 123, 'less': 462, 'lol': 481, 'wife': 969, 'swimming': 841, 'waterproof': 952, 'warm': 943, 'wet': 962, 'inside': 421, 'sized': 767, 'fact': 274, 'change': 135, 'dry': 230, 'stay': 810, 'swim': 840, 'wish': 973, 'useful': 922, 'towel': 887, 'charging': 138, 'always': 29, 'turned': 904, 'red': 683, 'power': 632, 'plug': 618, 'sometimes': 790, 'fix': 306, 'shoe': 752, 'tighten': 873, 'hook': 394, 'perfectly': 599, 'ice': 407, 'complaint': 166, 'seam': 728, 'mean': 513, 'happy': 366, 'purchase': 654, 'though': 866, 'consider': 172, 'plus': 619, 'expensive': 267, 'per': 597, 'cost': 182, 'make': 500, 'bought': 99, 'son': 792, 'friend': 325, 'love': 493, 'pole': 622, 'carry': 125, 'wait': 937, 'try': 900, 'super': 833, 'idea': 408, 'block': 91, 'sun': 832, 'beach': 73, 'extremely': 270, 'tent': 854, 'three': 869, 'half': 360, 'dart': 194, 'broke': 106, 'week': 957, 'basically': 70, 'useless': 923, 'return': 697, 'board': 93, 'thin': 862, 'disappointing': 217, 'blue': 92, 'attached': 52, 'front': 326, 'ride': 701, 'putting': 659, 'help': 378, 'turn': 903, 'getting': 336, 'bike': 85, 'flashlight': 309, 'handlebar': 363, 'give': 338, 'excited': 261, 'literally': 476, 'opened': 571, 'package': 583, 'often': 563, 'lost': 490, 'able': 1, 'winter': 972, 'stand': 804, 'longer': 483, 'complete': 167, 'fish': 300, 'based': 68, 'reel': 684, 'felt': 288, 'nicely': 550, 'best': 81, 'rod': 706, 'quite': 663, 'spring': 802, 'plan': 611, 'taking': 847, 'along': 25, 'definitely': 202, 'anyone': 36, 'reason': 677, 'knife': 444, 'total': 884, 'fell': 287, 'tiny': 875, 'adult': 16, 'close': 151, 'past': 593, 'ball': 63, 'set': 744, 'blade': 89, 'cut': 190, 'design': 206, 'provided': 649, 'ring': 704, 'handy': 364, 'string': 825, 'edge': 239, 'etc': 252, 'sure': 836, 'backpack': 58, 'spent': 799, 'hoping': 397, 'info': 418, 'decision': 200, 'safe': 716, 'everyone': 256, 'photo': 604, 'show': 755, 'compared': 164, 'case': 127, 'roll': 707, 'smoothly': 780, 'pin': 609, 'must': 539, 'finger': 297, 'trying': 901, 'someone': 788, 'sleep': 770, 'totally': 885, 'took': 881, 'carrying': 126, 'table': 844, 'else': 243, 'pump': 653, 'portable': 626, 'body': 94, 'simple': 759, 'gave': 333, 'cooler': 178, 'hour': 401, 'maybe': 512, 'whatever': 963, 'next': 548, 'helpful': 379, 'behind': 77, 'chair': 133, 'compartment': 165, 'gear': 334, 'gift': 337, 'highly': 382, 'recommend': 681, 'thanks': 858, 'read': 671, 'information': 419, 'deal': 197, 'update': 916, 'service': 743, 'grip': 352, 'gym': 358, 'ton': 880, 'larger': 450, 'clean': 147, 'done': 224, 'safety': 717, 'effort': 240, 'aid': 20, 'height': 375, 'sit': 763, 'shipping': 750, 'daily': 192, 'finally': 294, 'recently': 680, 'dog': 223, 'woman': 976, 'careful': 124, 'glove': 342, 'easily': 237, 'bright': 105, 'green': 351, 'lay': 454, 'team': 851, 'cold': 154, 'function': 330, 'washed': 945, 'fabric': 272, 'touch': 886, 'soft': 786, 'thinking': 865, 'short': 753, 'later': 453, 'noticed': 559, 'opening': 572, 'cheaply': 141, 'usb': 919, 'cable': 116, 'otherwise': 579, 'paddle': 586, 'heavier': 373, 'playing': 614, 'perhaps': 600, 'full': 327, 'basic': 69, 'standard': 805, 'hold': 387, 'pro': 640, 'amazing': 30, 'received': 679, 'sock': 785, 'today': 878, 'boot': 96, 'videoid': 935, 'night': 551, 'impressed': 411, 'honest': 392, 'chain': 132, 'assembly': 50, 'proof': 644, 'decided': 199, 'multiple': 537, 'expecting': 266, 'taste': 850, 'ended': 246, 'track': 889, 'heart': 371, 'treadmill': 893, 'second': 731, 'display': 218, 'annoying': 34, 'doesn': 222, 'closed': 152, 'flag': 308, 'soccer': 784, 'air': 21, 'assemble': 48, 'experience': 268, 'duty': 234, 'trouble': 897, 'walk': 938, 'sleeping': 771, 'guy': 357, 'stuff': 828, 'lighter': 469, 'kit': 442, 'camping': 119, 'area': 43, 'house': 402, 'emergency': 244, 'excellent': 259, 'refund': 685, 'figure': 289, 'head': 369, 'neck': 542, 'true': 898, 'sharp': 748, 'shape': 747, 'online': 568, 'except': 260, 'open': 570, 'do': 220, 'nt': 560, 'anywhere': 39, 'awesome': 56, 'provides': 650, 'lock': 479, 'thick': 859, 'buying': 115, 'bottle': 97, 'bulky': 111, 'mind': 520, 'adjust': 13, 'rack': 664, 'pouch': 630, 'tool': 882, 'throw': 870, 'lid': 465, 'straw': 822, 'drink': 227, 'loud': 492, 'won': 977, 'non': 553, 'drinking': 228, 'glass': 341, 'sleeve': 772, 'piece': 607, 'tube': 902, 'band': 64, 'workout': 983, 'barely': 66, 'started': 808, 'exercise': 262, 'current': 187, 'hip': 385, 'kick': 439, 'fire': 298, 'glad': 340, 'hike': 383, 'direction': 215, 'watch': 949, 'video': 934, 'correctly': 181, 'saw': 721, 'wood': 979, 'mouth': 533, 'blanket': 90, 'pad': 584, 'family': 279, 'let': 463, 'support': 834, 'wash': 944, 'balance': 62, 'boy': 101, 'match': 507, 'goggles': 343, 'foam': 315, 'padding': 585, 'eye': 271, 'protection': 647, 'flimsy': 312, 'trip': 896, 'travel': 892, 'cup': 186, 'leak': 455, 'con': 169, 'hat': 368, 'fairly': 276, 'installed': 423, 'additional': 12, 'state': 809, 'save': 720, 'fitness': 304, 'app': 41, 'hurt': 405, 'exactly': 258, 'allows': 23, 'muscle': 538, 'insert': 420, 'possible': 628, 'chance': 134, 'honestly': 393, 'surprised': 838, 'outside': 580, 'walking': 939, 'valve': 928, 'free': 324, 'ground': 353, 'inflated': 417, 'receive': 678, 'room': 709, 'elastic': 242, 'gotten': 348, 'single': 762, 'similar': 758, 'seen': 739, 'result': 696, 'space': 796, 'folding': 317, 'post': 629, 'please': 615, 'concern': 171, 'secure': 733, 'upon': 917, 'provide': 648, 'thank': 857, 'assembled': 49, 'loved': 494, 'difference': 212, 'cheaper': 140, 'tall': 848, 'decent': 198, 'attach': 51, 'helmet': 377, 'isn': 427, 'replace': 690, 'ordered': 576, 'value': 927, 'live': 478, 'hiking': 384, 'notice': 558, 'cause': 129, 'anyway': 38, 'container': 175, 'various': 930, 'low': 495, 'taken': 846, 'available': 53, 'normally': 555, 'pair': 590, 'mark': 504, 'storage': 818, 'cleaning': 148, 'durable': 233, 'stretch': 824, 'skin': 769, 'straight': 820, 'yoga': 995, 'chose': 145, 'style': 830, 'distance': 219, 'tree': 894, 'slightly': 774, 'kept': 437, 'wall': 940, 'frame': 323, 'upper': 918, 'junk': 433, 'install': 422, 'door': 225, 'wide': 968, 'higher': 381, 'prefer': 634, 'season': 729, 'large': 449, 'zip': 996, 'catch': 128, 'job': 431, 'comfort': 157, 'believe': 78, 'added': 10, 'lack': 447, 'understand': 912, 'ability': 0, 'bug': 108, 'steel': 811, 'training': 891, 'although': 28, 'surface': 837, 'smell': 778, 'rating': 669, 'four': 322, 'pressure': 636, 'hair': 359, 'comfy': 160, 'grandson': 349, 'supposed': 835, 'matter': 509, 'spin': 800, 'kind': 441, 'bladder': 88, 'jump': 432, 'requires': 692, 'seal': 727, 'ago': 19, 'logo': 480, 'likely': 473, 'expect': 264, 'food': 318, 'card': 122, 'cover': 185, 'waist': 936, 'arm': 44, 'pool': 623, 'degree': 203, 'test': 856, 'heat': 372, 'comfortably': 159, 'snug': 783, 'rather': 668, 'length': 461, 'immediately': 409, 'liquid': 475, 'completely': 168, 'inch': 412, 'wrist': 988, 'cap': 120, 'pulled': 652, 'recommended': 682, 'knob': 445, 'round': 711, 'clear': 149, 'fully': 328, 'guess': 355, 'black': 87, 'school': 723, 'jacket': 430, 'remove': 689, 'company': 163, 'garage': 332, 'mount': 531, 'stitching': 816, 'rain': 665, 'fly': 314, 'backpacking': 59, 'stake': 803, 'due': 231, 'yard': 990, 'paint': 589, 'velcro': 931, 'adjustment': 15, 'mattress': 510, 'liked': 472, 'described': 204, 'weird': 959, 'camp': 118, 'active': 5, 'watching': 950, 'screen': 725, 'worn': 984, 'across': 4, 'version': 932, 'check': 142, 'mountain': 532, 'pedal': 595, 'pillow': 608, 'coming': 161, 'rubber': 712, 'stuck': 827, 'sound': 795, 'pain': 588, 'fixed': 307, 'switch': 842, 'noise': 552, 'manufacturer': 502, 'concept': 170, 'allow': 22, 'offer': 562, 'holding': 389, 'course': 184, 'keeping': 436, 'poor': 624, 'durability': 232, 'held': 376, 'mesh': 515, 'pant': 591, 'desk': 208, 'age': 18, 'road': 705, 'rear': 676, 'pound': 631, 'pop': 625, 'securely': 734, 'lift': 467, 'clip': 150, 'add': 9, 'accurate': 3, 'beautiful': 74, 'given': 339, 'christmas': 146, 'opinion': 573, 'coffee': 153, 'ear': 235, 'kayak': 434, 'cord': 179, 'filter': 292, 'actual': 7, 'certainly': 131, 'near': 541, 'sitting': 764, 'saddle': 715, 'pleased': 616, 'spot': 801, 'exerciser': 263, 'yellow': 992, 'sheet': 749, 'silicone': 757, 'center': 130, 'drop': 229, 'rope': 710, 'sand': 719, 'wrap': 987, 'despite': 209, 'five': 305, 'sweat': 839, 'intended': 426, 'wasn': 947, 'white': 966, 'typical': 908, 'twist': 905, 'including': 415, 'construction': 173, 'contact': 174, 'horse': 399, 'uncomfortable': 910, 'personally': 602, 'lantern': 448, 'gun': 356, 'rest': 695, 'morning': 529, 'resistant': 694, 'appreciate': 42, 'running': 714, 'plenty': 617, 'onto': 569, 'six': 765, 'mask': 505, 'sort': 794, 'include': 413, 'device': 210, 'name': 540, 'section': 732, 'washing': 946, 'lasted': 452, 'net': 545, 'reach': 670, 'protect': 646, 'physical': 605, 'bench': 80, 'trail': 890, 'serious': 742, 'window': 971, 'flaw': 311, 'activity': 6, 'tie': 871, 'tip': 876, 'deep': 201, 'fin': 293, 'vest': 933, 'variety': 929, 'bed': 75, 'ankle': 33, 'basket': 71, 'hoop': 395, 'mode': 524, 'snorkeling': 782}\n",
            "Vector BoW para la primera reseña: [0 0 0 0 0 0 0 0 0 0 0 0 0 0 0 0 0 0 0 0 0 0 0 0 0 0 0 0 0 0 0 0 0 0 0 0 0\n",
            " 0 0 0 0 0 0 0 0 0 0 0 0 0 0 0 0 0 0 0 0 0 0 0 0 0 0 0 0 0 0 0 0 0 0 0 0 0\n",
            " 0 0 0 0 0 0 0 0 0 0 0 0 0 0 0 0 0 0 0 0 0 0 0 0 0 0 0 0 0 0 0 0 0 0 0 0 0\n",
            " 0 0 0 0 0 0 0 0 0 0 0 0 0 0 0 0 0 0 0 0 0 0 0 0 0 0 0 0 0 0 0 0 0 0 0 0 0\n",
            " 0 0 0 0 0 0 0 0 0 0 0 0 0 0 0 0 0 0 0 0 0 0 0 0 0 0 0 0 0 0 0 0 0 0 0 0 0\n",
            " 0 0 0 0 0 0 0 0 0 0 0 0 0 0 0 0 0 0 0 0 0 0 0 0 0 0 0 0 0 0 0 0 0 0 0 0 0\n",
            " 0 0 0 0 0 0 0 0 0 0 0 0 0 0 0 0 0 0 0 0 0 0 0 0 0 0 0 0 0 0 0 0 0 0 0 0 0\n",
            " 0 0 0 0 0 0 0 0 0 0 0 0 0 0 0 0 0 0 0 0 0 0 0 0 0 0 0 0 0 0 0 0 0 0 0 0 0\n",
            " 0 0 0 0 0 0 0 0 0 0 0 0 0 0 0 0 0 0 0 0 0 0 0 0 0 0 0 0 0 0 0 0 0 0 0 0 0\n",
            " 0 0 0 0 0 0 0 0 0 0 0 0 0 0 0 0 0 0 0 0 0 0 0 0 0 0 0 0 1 0 0 0 0 0 0 0 0\n",
            " 0 0 0 0 0 0 0 0 0 0 0 0 0 0 0 0 0 0 0 0 0 0 0 0 0 0 0 0 0 0 0 0 0 0 0 0 0\n",
            " 0 0 0 0 0 0 0 0 0 0 0 0 0 0 0 0 0 0 0 0 0 0 0 0 0 0 0 0 0 0 0 0 0 0 0 0 0\n",
            " 0 0 0 0 0 0 0 0 0 0 0 0 0 0 0 0 0 0 0 0 0 0 0 0 0 0 0 0 0 0 0 0 0 0 0 0 0\n",
            " 0 0 0 0 0 0 0 0 0 0 0 0 0 0 0 0 0 0 0 0 0 0 0 0 0 0 0 0 0 0 0 0 0 0 0 0 0\n",
            " 0 0 0 0 0 0 0 0 0 0 0 0 0 0 0 0 0 0 0 0 0 0 0 0 0 0 0 0 0 0 0 0 0 0 0 0 0\n",
            " 0 0 0 0 0 0 0 0 0 0 0 0 0 0 0 0 0 0 0 0 0 0 0 0 0 0 0 0 0 0 0 0 0 0 0 0 0\n",
            " 0 0 0 0 1 0 0 0 0 0 0 0 0 0 0 0 0 0 0 0 0 0 0 0 0 0 0 0 0 0 0 0 0 0 0 0 0\n",
            " 0 0 0 0 0 0 0 0 0 0 0 0 0 0 0 0 0 0 0 0 0 0 0 0 0 0 0 0 0 0 0 0 0 0 0 0 0\n",
            " 0 0 0 0 0 0 0 0 0 0 0 0 0 0 0 0 0 0 0 0 0 0 0 0 0 0 0 0 0 0 0 0 0 0 0 0 0\n",
            " 0 0 0 0 0 0 0 0 0 0 0 0 0 0 0 0 0 0 0 0 0 0 0 0 0 0 0 0 0 0 0 0 0 0 0 0 0\n",
            " 0 0 0 0 0 0 0 0 0 0 0 0 0 0 0 0 0 0 0 0 0 0 0 0 0 0 0 0 0 0 0 0 0 0 0 0 0\n",
            " 0 0 0 0 0 0 0 0 0 0 0 0 0 0 0 0 0 0 0 0 0 0 0 0 0 0 0 0 0 0 0 0 0 0 0 0 0\n",
            " 0 0 0 0 0 0 0 0 0 1 0 0 0 0 0 0 0 0 0 0 0 0 0 0 0 0 0 0 0 0 0 0 0 0 0 0 0\n",
            " 0 0 0 0 0 0 0 0 0 0 0 0 0 0 0 0 0 0 0 0 0 0 0 0 0 0 0 0 0 0 0 0 0 0 0 0 0\n",
            " 0 0 0 0 0 0 0 0 0 0 0 0 0 0 0 0 0 0 0 0 0 0 0 0 0 0 0 0 0 0 0 0 0 0 0 0 0\n",
            " 0 0 0 0 0 0 0 0 0 0 0 0 0 0 0 0 0 0 0 0 0 0 0 0 0 0 0 0 0 0 0 0 0 0 0 0 0\n",
            " 0 0 0 0 0 0 0 0 0 0 0 0 0 1 0 0 0 0 0 0 0 0 0 0 0 0 0 0 0 0 0 0 0 0 0 0]\n",
            "Tokens de la primera reseña: ['people', 'without', 'hand', 'strength']\n",
            "Valor en la posición 975 del vector BoW para la primera reseña: 1\n"
          ]
        }
      ]
    },
    {
      "cell_type": "code",
      "source": [
        "import matplotlib.pyplot as plt\n",
        "\n",
        "# Graficamos la frecuencia de las palabras para la muestra de la reseña 1 en features_train\n",
        "plt.figure(figsize=(10, 6))\n",
        "plt.plot(features_train[0, :], marker='o', linestyle='-', color='b', alpha=0.7)\n",
        "plt.xlabel('Índice de palabra en el vocabulario')\n",
        "plt.ylabel('Frecuencia')\n",
        "plt.title('Frecuencia de palabras en la primera reseña')\n",
        "plt.grid(True)\n",
        "plt.show()"
      ],
      "metadata": {
        "colab": {
          "base_uri": "https://localhost:8080/",
          "height": 566
        },
        "id": "xlkworoaMEsX",
        "outputId": "325715a9-b2e8-4557-c1c5-f39947234639"
      },
      "execution_count": 11,
      "outputs": [
        {
          "output_type": "display_data",
          "data": {
            "text/plain": [
              "<Figure size 1000x600 with 1 Axes>"
            ],
            "image/png": "[encoded data removed]"
          },
          "metadata": {}
        }
      ]
    },
    {
      "cell_type": "code",
      "source": [
        "# Vamos a normalizar para asegurar que las características tengan el mismo rango lo que ayudará a los algoritmos\n",
        "import sklearn.preprocessing as pr\n",
        "\n",
        "features_train = pr.normalize(features_train, axis=1)\n",
        "features_test = pr.normalize(features_test, axis=1)"
      ],
      "metadata": {
        "id": "Rq-TJp4aMId2"
      },
      "execution_count": 12,
      "outputs": []
    },
    {
      "cell_type": "code",
      "source": [
        "print(f\"X_train shape: {features_train.shape}\")\n",
        "print(f\"X_test shape: {features_test.shape}\")\n",
        "print(f\"y_train shape: {y_train.shape}\")\n",
        "print(f\"y_test shape: {y_test.shape}\")"
      ],
      "metadata": {
        "colab": {
          "base_uri": "https://localhost:8080/"
        },
        "id": "MspPntEFSyyn",
        "outputId": "c0bfb70c-4f82-4523-de80-ea346e8c9087"
      },
      "execution_count": 13,
      "outputs": [
        {
          "output_type": "stream",
          "name": "stdout",
          "text": [
            "X_train shape: (3908, 998)\n",
            "X_test shape: (978, 998)\n",
            "y_train shape: (3908,)\n",
            "y_test shape: (978,)\n"
          ]
        }
      ]
    },
    {
      "cell_type": "code",
      "source": [
        "from sklearn.ensemble import GradientBoostingClassifier\n",
        "\n",
        "n_estimators = 32\n",
        "\n",
        "def classify_gboost(features_train, features_test, y_train, y_test):\n",
        "    clf = GradientBoostingClassifier(n_estimators=n_estimators, learning_rate=1.0, max_depth=1, random_state=42)\n",
        "\n",
        "    # Entrenamiento del modelo con los datos numéricos\n",
        "    clf.fit(features_train, y_train)\n",
        "\n",
        "    # Evaluación de precisión (accuracy) con los datos numéricos\n",
        "    print(\"[{}] Accuracy: train = {}, test = {}\".format(\n",
        "            clf.__class__.__name__,\n",
        "            clf.score(features_train, y_train),\n",
        "            clf.score(features_test, y_test)))\n",
        "\n",
        "    return clf\n",
        "\n",
        "# Entrenamos el modelo\n",
        "clf2 = classify_gboost(features_train, features_test, y_train, y_test)"
      ],
      "metadata": {
        "colab": {
          "base_uri": "https://localhost:8080/"
        },
        "id": "Up5-Hwl6MI1Y",
        "outputId": "7edb687c-5a54-4084-94a3-6606dff152ef"
      },
      "execution_count": 14,
      "outputs": [
        {
          "output_type": "stream",
          "name": "stdout",
          "text": [
            "[GradientBoostingClassifier] Accuracy: train = 0.7781473899692938, test = 0.7494887525562373\n"
          ]
        }
      ]
    },
    {
      "cell_type": "code",
      "source": [
        "# Métricas del modelo\n",
        "# - precision_score: Mide la proporción de verdaderos positivos sobre todos los ejemplos clasificados como positivos (es decir, cuántos de los elementos que el modelo clasificó como positivos realmente lo son).\n",
        "# - recall_score: Mide la proporción de verdaderos positivos sobre todos los ejemplos que realmente son positivos (es decir, cuántos de los ejemplos positivos el modelo fue capaz de identificar).\n",
        "# - f1_score: Es la media armónica de la precisión y el recall\n",
        "\n",
        "from sklearn.metrics import precision_score, recall_score, f1_score\n",
        "\n",
        "# Hacemos predicciones\n",
        "y_pred_train = clf2.predict(features_train)\n",
        "y_pred_test = clf2.predict(features_test)\n",
        "\n",
        "# Calculamos las métricas de evaluación para el conjunto de entrenamiento\n",
        "precision_train = precision_score(y_train, y_pred_train)\n",
        "recall_train = recall_score(y_train, y_pred_train)\n",
        "f1_train = f1_score(y_train, y_pred_train)\n",
        "\n",
        "# Calculamos las métricas de evaluación para el conjunto de prueba\n",
        "precision_test = precision_score(y_test, y_pred_test)\n",
        "recall_test = recall_score(y_test, y_pred_test)\n",
        "f1_test = f1_score(y_test, y_pred_test)\n",
        "\n",
        "print(f\"--- Train Set Metrics ---\")\n",
        "print(f\"Precision: {precision_train:.4f}\")\n",
        "print(f\"Recall: {recall_train:.4f}\")\n",
        "print(f\"F1 Score: {f1_train:.4f}\")\n",
        "\n",
        "print(f\"\\n--- Test Set Metrics ---\")\n",
        "print(f\"Precision: {precision_test:.4f}\")\n",
        "print(f\"Recall: {recall_test:.4f}\")\n",
        "print(f\"F1 Score: {f1_test:.4f}\")\n",
        "\n",
        "# Nota la predicción en train se realiza sólo como referencia"
      ],
      "metadata": {
        "colab": {
          "base_uri": "https://localhost:8080/"
        },
        "id": "poSaYw8CX0c-",
        "outputId": "b83f2bc7-354c-43b5-8ec1-2eeec1939910"
      },
      "execution_count": 15,
      "outputs": [
        {
          "output_type": "stream",
          "name": "stdout",
          "text": [
            "--- Train Set Metrics ---\n",
            "Precision: 0.7290\n",
            "Recall: 0.8111\n",
            "F1 Score: 0.7679\n",
            "\n",
            "--- Test Set Metrics ---\n",
            "Precision: 0.7006\n",
            "Recall: 0.7783\n",
            "F1 Score: 0.7374\n"
          ]
        }
      ]
    },
    {
      "cell_type": "code",
      "source": [
        "# Verdadero Positivo (True Positive, TP):\n",
        "# Son los casos en los que el modelo predice que la reseña es negativa (sentiment_label = 1), y realmente es negativa (sentiment_label = 1).\n",
        "\n",
        "# Verdadero Negativo (True Negative, TN):\n",
        "# Son los casos en los que el modelo predice que la reseña es positiva (sentiment_label = 0), y realmente es positiva (sentiment_label = 0).\n",
        "\n",
        "# Falso Positivo (False Positive, FP):\n",
        "# Son los casos en los que el modelo predice que la reseña es negativa (sentiment_label = 1), pero en realidad es positiva (sentiment_label = 0).\n",
        "\n",
        "# Falso Negativo (False Negative, FN):\n",
        "# Son los casos en los que el modelo predice que la reseña es positiva (sentiment_label = 0), pero en realidad es negativa (sentiment_label = 1)."
      ],
      "metadata": {
        "id": "z1gAILW6aC7U"
      },
      "execution_count": 16,
      "outputs": []
    },
    {
      "cell_type": "code",
      "source": [
        "from sklearn.metrics import confusion_matrix\n",
        "import seaborn as sns\n",
        "import matplotlib.pyplot as plt\n",
        "\n",
        "# Predicciones del modelo\n",
        "y_pred = clf2.predict(features_test)\n",
        "\n",
        "# Generamos la matriz de confusión\n",
        "cm = confusion_matrix(y_test, y_pred)\n",
        "\n",
        "plt.figure(figsize=(6, 4))\n",
        "sns.heatmap(cm, annot=True, fmt=\"d\", cmap=\"Blues\", xticklabels=[\"Positiva\", \"Negativa\"], yticklabels=[\"Positiva\", \"Negativa\"])\n",
        "plt.xlabel('Predicción')\n",
        "plt.ylabel('Real')\n",
        "plt.title('Matriz de Confusión')\n",
        "plt.show()\n",
        "\n",
        "\n",
        "print(\"Matriz de Confusión:\")\n",
        "print(cm)"
      ],
      "metadata": {
        "colab": {
          "base_uri": "https://localhost:8080/",
          "height": 462
        },
        "id": "eOIouFZEaSYQ",
        "outputId": "e21cd02d-651a-4224-e958-3c4679ff31b5"
      },
      "execution_count": 17,
      "outputs": [
        {
          "output_type": "display_data",
          "data": {
            "text/plain": [
              "<Figure size 600x400 with 2 Axes>"
            ],
            "image/png": "[encoded data removed]"
          },
          "metadata": {}
        },
        {
          "output_type": "stream",
          "name": "stdout",
          "text": [
            "Matriz de Confusión:\n",
            "[[389 147]\n",
            " [ 98 344]]\n"
          ]
        }
      ]
    },
    {
      "cell_type": "code",
      "source": [
        "# Conclusiones del modelo:\n",
        "# 1. El modelo obtiene un buen rendimiento en general (equilibrio entre precisión y recall)\n",
        "# 2. El modelo tiene capacidad para identificar casos positivos (recall)\n",
        "# 3. El modelo tiene una precisión superior en train que en test (\"falsas alarmas\")\n",
        "# 4. Las métricas estan ajustadas en train y test así que descartamos sobreajuste\n",
        "# 5. Deberíamos seguir iterando con el modelo y sus hiperparámetros para mejorar el rendimiento\n",
        "# 6. Podríamos aumentar el dataset usado en los modelos"
      ],
      "metadata": {
        "id": "4UHT2NbFYIe5"
      },
      "execution_count": 18,
      "outputs": []
    },
    {
      "cell_type": "code",
      "source": [
        "################################################################################################################################\n",
        "############################## DEEP LEARNING ###################################################################################\n",
        "################################################################################################################################"
      ],
      "metadata": {
        "id": "HjgMVgJSFgfT"
      },
      "execution_count": 19,
      "outputs": []
    },
    {
      "cell_type": "code",
      "source": [
        "# En DL no se valora el trabajo con n-gramas ya que los propios algoritmos aprenden dependencias contextuales."
      ],
      "metadata": {
        "id": "3Em4C0DXczuV"
      },
      "execution_count": 20,
      "outputs": []
    },
    {
      "cell_type": "code",
      "source": [
        "# Volvemos a cargar el dataset\n",
        "import pandas as pd\n",
        "df_unigram = pd.read_csv('df_sports_outdoors_unigram.csv')\n",
        "df_unigram.head(5)"
      ],
      "metadata": {
        "id": "4C7rbHTNXLPo",
        "colab": {
          "base_uri": "https://localhost:8080/",
          "height": 206
        },
        "outputId": "e633db40-5afc-4b22-8f40-3b7df228845e"
      },
      "execution_count": 21,
      "outputs": [
        {
          "output_type": "execute_result",
          "data": {
            "text/plain": [
              "   Unnamed: 0  sentiment                                 title  \\\n",
              "0           0        5.0  Greatly impressed, I recommend these   \n",
              "1           1        5.0                           Great Lures   \n",
              "2           2        5.0             Perfect for what I needed   \n",
              "3           3        5.0                         Great Product   \n",
              "4           4        5.0                             Great box   \n",
              "\n",
              "                                              review  sentiment_label  \\\n",
              "0  Ordered a few bags, put some in mine  and my c...                0   \n",
              "1                      Nice quality lures heavy duty                0   \n",
              "2    Lost mine in a move. Perfect for what I needed.                0   \n",
              "3  Great quality.  Adjustable from 22lbs-88lbs of...                0   \n",
              "4  This mini Tackle box comes with so many fishin...                0   \n",
              "\n",
              "                                        review_clean  \n",
              "0  ['ordered', 'bag', 'put', 'mine', 'child', 'gl...  \n",
              "1               ['nice', 'quality', 'heavy', 'duty']  \n",
              "2      ['lost', 'mine', 'move', 'perfect', 'needed']  \n",
              "3      ['great', 'quality', 'adjustable', 'tension']  \n",
              "4  ['box', 'come', 'many', 'fishing', 'make', 'fi...  "
            ],
            "text/html": [
              "\n",
              "  <div id=\"df-6e7f89d3-8a6b-47d6-a3cd-a2d641c065b8\" class=\"colab-df-container\">\n",
              "    <div>\n",
              "<style scoped>\n",
              "    .dataframe tbody tr th:only-of-type {\n",
              "        vertical-align: middle;\n",
              "    }\n",
              "\n",
              "    .dataframe tbody tr th {\n",
              "        vertical-align: top;\n",
              "    }\n",
              "\n",
              "    .dataframe thead th {\n",
              "        text-align: right;\n",
              "    }\n",
              "</style>\n",
              "<table border=\"1\" class=\"dataframe\">\n",
              "  <thead>\n",
              "    <tr style=\"text-align: right;\">\n",
              "      <th></th>\n",
              "      <th>Unnamed: 0</th>\n",
              "      <th>sentiment</th>\n",
              "      <th>title</th>\n",
              "      <th>review</th>\n",
              "      <th>sentiment_label</th>\n",
              "      <th>review_clean</th>\n",
              "    </tr>\n",
              "  </thead>\n",
              "  <tbody>\n",
              "    <tr>\n",
              "      <th>0</th>\n",
              "      <td>0</td>\n",
              "      <td>5.0</td>\n",
              "      <td>Greatly impressed, I recommend these</td>\n",
              "      <td>Ordered a few bags, put some in mine  and my c...</td>\n",
              "      <td>0</td>\n",
              "      <td>['ordered', 'bag', 'put', 'mine', 'child', 'gl...</td>\n",
              "    </tr>\n",
              "    <tr>\n",
              "      <th>1</th>\n",
              "      <td>1</td>\n",
              "      <td>5.0</td>\n",
              "      <td>Great Lures</td>\n",
              "      <td>Nice quality lures heavy duty</td>\n",
              "      <td>0</td>\n",
              "      <td>['nice', 'quality', 'heavy', 'duty']</td>\n",
              "    </tr>\n",
              "    <tr>\n",
              "      <th>2</th>\n",
              "      <td>2</td>\n",
              "      <td>5.0</td>\n",
              "      <td>Perfect for what I needed</td>\n",
              "      <td>Lost mine in a move. Perfect for what I needed.</td>\n",
              "      <td>0</td>\n",
              "      <td>['lost', 'mine', 'move', 'perfect', 'needed']</td>\n",
              "    </tr>\n",
              "    <tr>\n",
              "      <th>3</th>\n",
              "      <td>3</td>\n",
              "      <td>5.0</td>\n",
              "      <td>Great Product</td>\n",
              "      <td>Great quality.  Adjustable from 22lbs-88lbs of...</td>\n",
              "      <td>0</td>\n",
              "      <td>['great', 'quality', 'adjustable', 'tension']</td>\n",
              "    </tr>\n",
              "    <tr>\n",
              "      <th>4</th>\n",
              "      <td>4</td>\n",
              "      <td>5.0</td>\n",
              "      <td>Great box</td>\n",
              "      <td>This mini Tackle box comes with so many fishin...</td>\n",
              "      <td>0</td>\n",
              "      <td>['box', 'come', 'many', 'fishing', 'make', 'fi...</td>\n",
              "    </tr>\n",
              "  </tbody>\n",
              "</table>\n",
              "</div>\n",
              "    <div class=\"colab-df-buttons\">\n",
              "\n",
              "  <div class=\"colab-df-container\">\n",
              "    <button class=\"colab-df-convert\" onclick=\"convertToInteractive('df-6e7f89d3-8a6b-47d6-a3cd-a2d641c065b8')\"\n",
              "            title=\"Convert this dataframe to an interactive table.\"\n",
              "            style=\"display:none;\">\n",
              "\n",
              "  <svg xmlns=\"http://www.w3.org/2000/svg\" height=\"24px\" viewBox=\"0 -960 960 960\">\n",
              "    <path d=\"M120-120v-720h720v720H120Zm60-500h600v-160H180v160Zm220 220h160v-160H400v160Zm0 220h160v-160H400v160ZM180-400h160v-160H180v160Zm440 0h160v-160H620v160ZM180-180h160v-160H180v160Zm440 0h160v-160H620v160Z\"/>\n",
              "  </svg>\n",
              "    </button>\n",
              "\n",
              "  <style>\n",
              "    .colab-df-container {\n",
              "      display:flex;\n",
              "      gap: 12px;\n",
              "    }\n",
              "\n",
              "    .colab-df-convert {\n",
              "      background-color: #E8F0FE;\n",
              "      border: none;\n",
              "      border-radius: 50%;\n",
              "      cursor: pointer;\n",
              "      display: none;\n",
              "      fill: #1967D2;\n",
              "      height: 32px;\n",
              "      padding: 0 0 0 0;\n",
              "      width: 32px;\n",
              "    }\n",
              "\n",
              "    .colab-df-convert:hover {\n",
              "      background-color: #E2EBFA;\n",
              "      box-shadow: 0px 1px 2px rgba(60, 64, 67, 0.3), 0px 1px 3px 1px rgba(60, 64, 67, 0.15);\n",
              "      fill: #174EA6;\n",
              "    }\n",
              "\n",
              "    .colab-df-buttons div {\n",
              "      margin-bottom: 4px;\n",
              "    }\n",
              "\n",
              "    [theme=dark] .colab-df-convert {\n",
              "      background-color: #3B4455;\n",
              "      fill: #D2E3FC;\n",
              "    }\n",
              "\n",
              "    [theme=dark] .colab-df-convert:hover {\n",
              "      background-color: #434B5C;\n",
              "      box-shadow: 0px 1px 3px 1px rgba(0, 0, 0, 0.15);\n",
              "      filter: drop-shadow(0px 1px 2px rgba(0, 0, 0, 0.3));\n",
              "      fill: #FFFFFF;\n",
              "    }\n",
              "  </style>\n",
              "\n",
              "    <script>\n",
              "      const buttonEl =\n",
              "        document.querySelector('#df-6e7f89d3-8a6b-47d6-a3cd-a2d641c065b8 button.colab-df-convert');\n",
              "      buttonEl.style.display =\n",
              "        google.colab.kernel.accessAllowed ? 'block' : 'none';\n",
              "\n",
              "      async function convertToInteractive(key) {\n",
              "        const element = document.querySelector('#df-6e7f89d3-8a6b-47d6-a3cd-a2d641c065b8');\n",
              "        const dataTable =\n",
              "          await google.colab.kernel.invokeFunction('convertToInteractive',\n",
              "                                                    [key], {});\n",
              "        if (!dataTable) return;\n",
              "\n",
              "        const docLinkHtml = 'Like what you see? Visit the ' +\n",
              "          '<a target=\"_blank\" href=https://colab.research.google.com/notebooks/data_table.ipynb>data table notebook</a>'\n",
              "          + ' to learn more about interactive tables.';\n",
              "        element.innerHTML = '';\n",
              "        dataTable['output_type'] = 'display_data';\n",
              "        await google.colab.output.renderOutput(dataTable, element);\n",
              "        const docLink = document.createElement('div');\n",
              "        docLink.innerHTML = docLinkHtml;\n",
              "        element.appendChild(docLink);\n",
              "      }\n",
              "    </script>\n",
              "  </div>\n",
              "\n",
              "\n",
              "<div id=\"df-c2ee691a-262a-4911-8601-3cb82a5671ad\">\n",
              "  <button class=\"colab-df-quickchart\" onclick=\"quickchart('df-c2ee691a-262a-4911-8601-3cb82a5671ad')\"\n",
              "            title=\"Suggest charts\"\n",
              "            style=\"display:none;\">\n",
              "\n",
              "<svg xmlns=\"http://www.w3.org/2000/svg\" height=\"24px\"viewBox=\"0 0 24 24\"\n",
              "     width=\"24px\">\n",
              "    <g>\n",
              "        <path d=\"M19 3H5c-1.1 0-2 .9-2 2v14c0 1.1.9 2 2 2h14c1.1 0 2-.9 2-2V5c0-1.1-.9-2-2-2zM9 17H7v-7h2v7zm4 0h-2V7h2v10zm4 0h-2v-4h2v4z\"/>\n",
              "    </g>\n",
              "</svg>\n",
              "  </button>\n",
              "\n",
              "<style>\n",
              "  .colab-df-quickchart {\n",
              "      --bg-color: #E8F0FE;\n",
              "      --fill-color: #1967D2;\n",
              "      --hover-bg-color: #E2EBFA;\n",
              "      --hover-fill-color: #174EA6;\n",
              "      --disabled-fill-color: #AAA;\n",
              "      --disabled-bg-color: #DDD;\n",
              "  }\n",
              "\n",
              "  [theme=dark] .colab-df-quickchart {\n",
              "      --bg-color: #3B4455;\n",
              "      --fill-color: #D2E3FC;\n",
              "      --hover-bg-color: #434B5C;\n",
              "      --hover-fill-color: #FFFFFF;\n",
              "      --disabled-bg-color: #3B4455;\n",
              "      --disabled-fill-color: #666;\n",
              "  }\n",
              "\n",
              "  .colab-df-quickchart {\n",
              "    background-color: var(--bg-color);\n",
              "    border: none;\n",
              "    border-radius: 50%;\n",
              "    cursor: pointer;\n",
              "    display: none;\n",
              "    fill: var(--fill-color);\n",
              "    height: 32px;\n",
              "    padding: 0;\n",
              "    width: 32px;\n",
              "  }\n",
              "\n",
              "  .colab-df-quickchart:hover {\n",
              "    background-color: var(--hover-bg-color);\n",
              "    box-shadow: 0 1px 2px rgba(60, 64, 67, 0.3), 0 1px 3px 1px rgba(60, 64, 67, 0.15);\n",
              "    fill: var(--button-hover-fill-color);\n",
              "  }\n",
              "\n",
              "  .colab-df-quickchart-complete:disabled,\n",
              "  .colab-df-quickchart-complete:disabled:hover {\n",
              "    background-color: var(--disabled-bg-color);\n",
              "    fill: var(--disabled-fill-color);\n",
              "    box-shadow: none;\n",
              "  }\n",
              "\n",
              "  .colab-df-spinner {\n",
              "    border: 2px solid var(--fill-color);\n",
              "    border-color: transparent;\n",
              "    border-bottom-color: var(--fill-color);\n",
              "    animation:\n",
              "      spin 1s steps(1) infinite;\n",
              "  }\n",
              "\n",
              "  @keyframes spin {\n",
              "    0% {\n",
              "      border-color: transparent;\n",
              "      border-bottom-color: var(--fill-color);\n",
              "      border-left-color: var(--fill-color);\n",
              "    }\n",
              "    20% {\n",
              "      border-color: transparent;\n",
              "      border-left-color: var(--fill-color);\n",
              "      border-top-color: var(--fill-color);\n",
              "    }\n",
              "    30% {\n",
              "      border-color: transparent;\n",
              "      border-left-color: var(--fill-color);\n",
              "      border-top-color: var(--fill-color);\n",
              "      border-right-color: var(--fill-color);\n",
              "    }\n",
              "    40% {\n",
              "      border-color: transparent;\n",
              "      border-right-color: var(--fill-color);\n",
              "      border-top-color: var(--fill-color);\n",
              "    }\n",
              "    60% {\n",
              "      border-color: transparent;\n",
              "      border-right-color: var(--fill-color);\n",
              "    }\n",
              "    80% {\n",
              "      border-color: transparent;\n",
              "      border-right-color: var(--fill-color);\n",
              "      border-bottom-color: var(--fill-color);\n",
              "    }\n",
              "    90% {\n",
              "      border-color: transparent;\n",
              "      border-bottom-color: var(--fill-color);\n",
              "    }\n",
              "  }\n",
              "</style>\n",
              "\n",
              "  <script>\n",
              "    async function quickchart(key) {\n",
              "      const quickchartButtonEl =\n",
              "        document.querySelector('#' + key + ' button');\n",
              "      quickchartButtonEl.disabled = true;  // To prevent multiple clicks.\n",
              "      quickchartButtonEl.classList.add('colab-df-spinner');\n",
              "      try {\n",
              "        const charts = await google.colab.kernel.invokeFunction(\n",
              "            'suggestCharts', [key], {});\n",
              "      } catch (error) {\n",
              "        console.error('Error during call to suggestCharts:', error);\n",
              "      }\n",
              "      quickchartButtonEl.classList.remove('colab-df-spinner');\n",
              "      quickchartButtonEl.classList.add('colab-df-quickchart-complete');\n",
              "    }\n",
              "    (() => {\n",
              "      let quickchartButtonEl =\n",
              "        document.querySelector('#df-c2ee691a-262a-4911-8601-3cb82a5671ad button');\n",
              "      quickchartButtonEl.style.display =\n",
              "        google.colab.kernel.accessAllowed ? 'block' : 'none';\n",
              "    })();\n",
              "  </script>\n",
              "</div>\n",
              "\n",
              "    </div>\n",
              "  </div>\n"
            ],
            "application/vnd.google.colaboratory.intrinsic+json": {
              "type": "dataframe",
              "variable_name": "df_unigram",
              "summary": "{\n  \"name\": \"df_unigram\",\n  \"rows\": 4886,\n  \"fields\": [\n    {\n      \"column\": \"Unnamed: 0\",\n      \"properties\": {\n        \"dtype\": \"number\",\n        \"std\": 1444,\n        \"min\": 0,\n        \"max\": 4999,\n        \"num_unique_values\": 4886,\n        \"samples\": [\n          1163,\n          400,\n          1283\n        ],\n        \"semantic_type\": \"\",\n        \"description\": \"\"\n      }\n    },\n    {\n      \"column\": \"sentiment\",\n      \"properties\": {\n        \"dtype\": \"number\",\n        \"std\": 1.478387787423193,\n        \"min\": 1.0,\n        \"max\": 5.0,\n        \"num_unique_values\": 5,\n        \"samples\": [\n          4.0,\n          3.0,\n          1.0\n        ],\n        \"semantic_type\": \"\",\n        \"description\": \"\"\n      }\n    },\n    {\n      \"column\": \"title\",\n      \"properties\": {\n        \"dtype\": \"string\",\n        \"num_unique_values\": 4283,\n        \"samples\": [\n          \"Soft, giftable, no pilling\",\n          \"Inexpensive light didn't meet my expectations, returned for a refund.....\",\n          \"Works but not for me\"\n        ],\n        \"semantic_type\": \"\",\n        \"description\": \"\"\n      }\n    },\n    {\n      \"column\": \"review\",\n      \"properties\": {\n        \"dtype\": \"string\",\n        \"num_unique_values\": 4886,\n        \"samples\": [\n          \"I am an old skater. Started out skating in the roller rinks in the 60's 70's. Switched to roller blades in the 80's 90's. In 2022 I am now in my 60's and I can no longer roller blade outside for fear of falling and breaking something. This board brought it all back to me. I get the feeling of skating again and the exercise is phenomenal to say the least. Don't waste your money on the cheap roll ups, go for the real deal. This board is good quality and I can hide it away by sliding it very nicely under my couch. I just slide it out and watch my living room TV while I am sliding. It is wonderful!\",\n          \"Great gift idea\",\n          \"Just 1.5 miles from the trailhead on a six-day trek over the Gallatin Range in Wyoming, the stitching on the sternum strap of my brand-new Osprey Aether AG 70 pack suddenly failed, leaving me with just the shoulder straps to balance 50+ pounds of gear and food for the remaining 31.5 miles. If the stitching had failed at some more crucial support point, I would have been screwed. As it was, I just suffered from too-sore shoulders. When you pay top dollar for a top-rated pack, things like this shouldn't happen. Otherwise, this seems like a very good pack, and the other members of my group seemed happy with theirs.\"\n        ],\n        \"semantic_type\": \"\",\n        \"description\": \"\"\n      }\n    },\n    {\n      \"column\": \"sentiment_label\",\n      \"properties\": {\n        \"dtype\": \"number\",\n        \"std\": 0,\n        \"min\": 0,\n        \"max\": 1,\n        \"num_unique_values\": 2,\n        \"samples\": [\n          1,\n          0\n        ],\n        \"semantic_type\": \"\",\n        \"description\": \"\"\n      }\n    },\n    {\n      \"column\": \"review_clean\",\n      \"properties\": {\n        \"dtype\": \"string\",\n        \"num_unique_values\": 4793,\n        \"samples\": [\n          \"['kid', 'excited', 'big', 'great', 'though', 'small', 'think', 'great', 'kid', 'playing', 'took', 'star', 'little', 'issue', 'overall', 'though', 'loved', 'fun', 'pretty', 'good', 'deal']\",\n          \"['always', 'good', 'choice', 'one', 'good', 'choice', 'bike', 'brake', 'pull', 'brake', 'insert', 'good', 'even', 'power', 'easy', 'surface', 'work', 'well', 'wet', 'weather']\"\n        ],\n        \"semantic_type\": \"\",\n        \"description\": \"\"\n      }\n    }\n  ]\n}"
            }
          },
          "metadata": {},
          "execution_count": 21
        }
      ]
    },
    {
      "cell_type": "code",
      "source": [
        "# Seleccionamos datos\n",
        "X = df_unigram['review_clean']\n",
        "y = df_unigram['sentiment_label']\n",
        "\n",
        "X_train, X_test, y_train, y_test = train_test_split(X, y, test_size=0.2, random_state=42,  stratify=y)"
      ],
      "metadata": {
        "id": "EHV25_086Lvt"
      },
      "execution_count": 22,
      "outputs": []
    },
    {
      "cell_type": "code",
      "source": [
        "print(X_train.iloc[0])"
      ],
      "metadata": {
        "colab": {
          "base_uri": "https://localhost:8080/"
        },
        "id": "JekT3nV2Jyv0",
        "outputId": "af94457a-208f-4ee6-f0b7-7812285541f9"
      },
      "execution_count": 23,
      "outputs": [
        {
          "output_type": "stream",
          "name": "stdout",
          "text": [
            "['people', 'without', 'hand', 'strength']\n"
          ]
        }
      ]
    },
    {
      "cell_type": "code",
      "source": [
        "import numpy as np\n",
        "\n",
        "# Establecemos el tamaño de las neuronas, como tamaño de la neurona usaremos una media una vez ubicado el percentil\n",
        "max_length = 0\n",
        "mean = []\n",
        "\n",
        "for example in X_train:\n",
        "    length = len(example)\n",
        "    mean.append(length)\n",
        "    if length > max_length:\n",
        "        max_length = length\n",
        "\n",
        "average = sum(mean) / len(mean)\n",
        "print(\"Media:\", average)\n",
        "\n",
        "p95 = np.percentile(mean, 95)\n",
        "print(\"Percentil 95:\", p95)\n",
        "\n",
        "filtered_lengths = [length for length in mean if length <= p95]\n",
        "filtered_mean = sum(filtered_lengths) / len(filtered_lengths)\n",
        "print(\"Media después del percentil 95:\", filtered_mean)\n",
        "\n",
        "print(\"El tamaño máximo:\", max_length)"
      ],
      "metadata": {
        "colab": {
          "base_uri": "https://localhost:8080/"
        },
        "id": "fZ0ERgH1G3vw",
        "outputId": "3e12efd6-0023-4c2a-a471-e2af9f13e554"
      },
      "execution_count": 24,
      "outputs": [
        {
          "output_type": "stream",
          "name": "stdout",
          "text": [
            "Media: 231.22697031729786\n",
            "Percentil 95: 772.2999999999993\n",
            "Media después del percentil 95: 177.63577586206895\n",
            "El tamaño máximo: 4188\n"
          ]
        }
      ]
    },
    {
      "cell_type": "code",
      "source": [
        "import ast\n",
        "\n",
        "# Creamos el vocabulario único\n",
        "vocabulario_unico = set()\n",
        "\n",
        "for review in df_unigram['review_clean']:\n",
        "    tokens = ast.literal_eval(review)\n",
        "    vocabulario_unico.update(tokens)\n",
        "\n",
        "print(\"Número de palabras únicas:\", len(vocabulario_unico))\n",
        "print(\"Primeras 10 palabras del vocabulario:\", list(vocabulario_unico)[:10])"
      ],
      "metadata": {
        "colab": {
          "base_uri": "https://localhost:8080/"
        },
        "id": "f18c03eOKhJ2",
        "outputId": "35da780f-d88b-4023-83b0-2a3bfb58c257"
      },
      "execution_count": 25,
      "outputs": [
        {
          "output_type": "stream",
          "name": "stdout",
          "text": [
            "Número de palabras únicas: 998\n",
            "Primeras 10 palabras del vocabulario: ['especially', 'bug', 'house', 'valve', 'offer', 'average', 'second', 'wife', 'cover', 'built']\n"
          ]
        }
      ]
    },
    {
      "cell_type": "code",
      "source": [
        "!pip install keras\n",
        "!pip install cartopy\n",
        "import cartopy"
      ],
      "metadata": {
        "colab": {
          "base_uri": "https://localhost:8080/"
        },
        "id": "6VLYAjFcJ3f8",
        "outputId": "f1f2062c-f052-4c53-813e-be6c533d09c1"
      },
      "execution_count": 26,
      "outputs": [
        {
          "output_type": "stream",
          "name": "stdout",
          "text": [
            "Requirement already satisfied: keras in /usr/local/lib/python3.10/dist-packages (3.5.0)\n",
            "Requirement already satisfied: absl-py in /usr/local/lib/python3.10/dist-packages (from keras) (1.4.0)\n",
            "Requirement already satisfied: numpy in /usr/local/lib/python3.10/dist-packages (from keras) (1.26.4)\n",
            "Requirement already satisfied: rich in /usr/local/lib/python3.10/dist-packages (from keras) (13.9.4)\n",
            "Requirement already satisfied: namex in /usr/local/lib/python3.10/dist-packages (from keras) (0.0.8)\n",
            "Requirement already satisfied: h5py in /usr/local/lib/python3.10/dist-packages (from keras) (3.12.1)\n",
            "Requirement already satisfied: optree in /usr/local/lib/python3.10/dist-packages (from keras) (0.13.1)\n",
            "Requirement already satisfied: ml-dtypes in /usr/local/lib/python3.10/dist-packages (from keras) (0.4.1)\n",
            "Requirement already satisfied: packaging in /usr/local/lib/python3.10/dist-packages (from keras) (24.2)\n",
            "Requirement already satisfied: typing-extensions>=4.5.0 in /usr/local/lib/python3.10/dist-packages (from optree->keras) (4.12.2)\n",
            "Requirement already satisfied: markdown-it-py>=2.2.0 in /usr/local/lib/python3.10/dist-packages (from rich->keras) (3.0.0)\n",
            "Requirement already satisfied: pygments<3.0.0,>=2.13.0 in /usr/local/lib/python3.10/dist-packages (from rich->keras) (2.18.0)\n",
            "Requirement already satisfied: mdurl~=0.1 in /usr/local/lib/python3.10/dist-packages (from markdown-it-py>=2.2.0->rich->keras) (0.1.2)\n",
            "Collecting cartopy\n",
            "  Downloading Cartopy-0.24.1-cp310-cp310-manylinux_2_17_x86_64.manylinux2014_x86_64.whl.metadata (7.9 kB)\n",
            "Requirement already satisfied: numpy>=1.23 in /usr/local/lib/python3.10/dist-packages (from cartopy) (1.26.4)\n",
            "Requirement already satisfied: matplotlib>=3.6 in /usr/local/lib/python3.10/dist-packages (from cartopy) (3.8.0)\n",
            "Requirement already satisfied: shapely>=1.8 in /usr/local/lib/python3.10/dist-packages (from cartopy) (2.0.6)\n",
            "Requirement already satisfied: packaging>=21 in /usr/local/lib/python3.10/dist-packages (from cartopy) (24.2)\n",
            "Requirement already satisfied: pyshp>=2.3 in /usr/local/lib/python3.10/dist-packages (from cartopy) (2.3.1)\n",
            "Requirement already satisfied: pyproj>=3.3.1 in /usr/local/lib/python3.10/dist-packages (from cartopy) (3.7.0)\n",
            "Requirement already satisfied: contourpy>=1.0.1 in /usr/local/lib/python3.10/dist-packages (from matplotlib>=3.6->cartopy) (1.3.1)\n",
            "Requirement already satisfied: cycler>=0.10 in /usr/local/lib/python3.10/dist-packages (from matplotlib>=3.6->cartopy) (0.12.1)\n",
            "Requirement already satisfied: fonttools>=4.22.0 in /usr/local/lib/python3.10/dist-packages (from matplotlib>=3.6->cartopy) (4.55.1)\n",
            "Requirement already satisfied: kiwisolver>=1.0.1 in /usr/local/lib/python3.10/dist-packages (from matplotlib>=3.6->cartopy) (1.4.7)\n",
            "Requirement already satisfied: pillow>=6.2.0 in /usr/local/lib/python3.10/dist-packages (from matplotlib>=3.6->cartopy) (11.0.0)\n",
            "Requirement already satisfied: pyparsing>=2.3.1 in /usr/local/lib/python3.10/dist-packages (from matplotlib>=3.6->cartopy) (3.2.0)\n",
            "Requirement already satisfied: python-dateutil>=2.7 in /usr/local/lib/python3.10/dist-packages (from matplotlib>=3.6->cartopy) (2.8.2)\n",
            "Requirement already satisfied: certifi in /usr/local/lib/python3.10/dist-packages (from pyproj>=3.3.1->cartopy) (2024.8.30)\n",
            "Requirement already satisfied: six>=1.5 in /usr/local/lib/python3.10/dist-packages (from python-dateutil>=2.7->matplotlib>=3.6->cartopy) (1.16.0)\n",
            "Downloading Cartopy-0.24.1-cp310-cp310-manylinux_2_17_x86_64.manylinux2014_x86_64.whl (11.7 MB)\n",
            "\u001b[2K   \u001b[90m━━━━━━━━━━━━━━━━━━━━━━━━━━━━━━━━━━━━━━━━\u001b[0m \u001b[32m11.7/11.7 MB\u001b[0m \u001b[31m83.6 MB/s\u001b[0m eta \u001b[36m0:00:00\u001b[0m\n",
            "\u001b[?25hInstalling collected packages: cartopy\n",
            "Successfully installed cartopy-0.24.1\n"
          ]
        }
      ]
    },
    {
      "cell_type": "code",
      "source": [
        "from keras.layers import Embedding, LSTM, Dense, Dropout, SimpleRNN\n",
        "from keras.models import Sequential\n",
        "from keras.layers import Embedding, LSTM, Dense, Dropout, GRU, SimpleRNN\n",
        "\n",
        "vocabulary_size = 998 # Tamaño máximo de vocabulario disponible\n",
        "max_words=177 # Longitud de cada reseña (estimación en paso anterior)\n",
        "embedding_size = 32 # Vector denso de 32 dimensiones que define cada palabra\n",
        "\n",
        "model = Sequential()\n",
        "model.add(Embedding(vocabulary_size , embedding_size, input_length=max_words))\n",
        "model.add(LSTM(100)) # número de neuronas en la capa LSTM\n",
        "model.add(Dense(1, activation='sigmoid'))\n",
        "\n",
        "print(model.summary())"
      ],
      "metadata": {
        "colab": {
          "base_uri": "https://localhost:8080/",
          "height": 290
        },
        "id": "7g6s61LCKJA4",
        "outputId": "4f628f02-acc4-49ce-aca1-820dc645cde3"
      },
      "execution_count": 27,
      "outputs": [
        {
          "output_type": "stream",
          "name": "stderr",
          "text": [
            "/usr/local/lib/python3.10/dist-packages/keras/src/layers/core/embedding.py:90: UserWarning: Argument `input_length` is deprecated. Just remove it.\n",
            "  warnings.warn(\n"
          ]
        },
        {
          "output_type": "display_data",
          "data": {
            "text/plain": [
              "\u001b[1mModel: \"sequential\"\u001b[0m\n"
            ],
            "text/html": [
              "<pre style=\"white-space:pre;overflow-x:auto;line-height:normal;font-family:Menlo,'DejaVu Sans Mono',consolas,'Courier New',monospace\"><span style=\"font-weight: bold\">Model: \"sequential\"</span>\n",
              "</pre>\n"
            ]
          },
          "metadata": {}
        },
        {
          "output_type": "display_data",
          "data": {
            "text/plain": [
              "┏━━━━━━━━━━━━━━━━━━━━━━━━━━━━━━━━━━━━━━┳━━━━━━━━━━━━━━━━━━━━━━━━━━━━━┳━━━━━━━━━━━━━━━━━┓\n",
              "┃\u001b[1m \u001b[0m\u001b[1mLayer (type)                        \u001b[0m\u001b[1m \u001b[0m┃\u001b[1m \u001b[0m\u001b[1mOutput Shape               \u001b[0m\u001b[1m \u001b[0m┃\u001b[1m \u001b[0m\u001b[1m        Param #\u001b[0m\u001b[1m \u001b[0m┃\n",
              "┡━━━━━━━━━━━━━━━━━━━━━━━━━━━━━━━━━━━━━━╇━━━━━━━━━━━━━━━━━━━━━━━━━━━━━╇━━━━━━━━━━━━━━━━━┩\n",
              "│ embedding (\u001b[38;5;33mEmbedding\u001b[0m)                │ ?                           │     \u001b[38;5;34m0\u001b[0m (unbuilt) │\n",
              "├──────────────────────────────────────┼─────────────────────────────┼─────────────────┤\n",
              "│ lstm (\u001b[38;5;33mLSTM\u001b[0m)                          │ ?                           │     \u001b[38;5;34m0\u001b[0m (unbuilt) │\n",
              "├──────────────────────────────────────┼─────────────────────────────┼─────────────────┤\n",
              "│ dense (\u001b[38;5;33mDense\u001b[0m)                        │ ?                           │     \u001b[38;5;34m0\u001b[0m (unbuilt) │\n",
              "└──────────────────────────────────────┴─────────────────────────────┴─────────────────┘\n"
            ],
            "text/html": [
              "<pre style=\"white-space:pre;overflow-x:auto;line-height:normal;font-family:Menlo,'DejaVu Sans Mono',consolas,'Courier New',monospace\">┏━━━━━━━━━━━━━━━━━━━━━━━━━━━━━━━━━━━━━━┳━━━━━━━━━━━━━━━━━━━━━━━━━━━━━┳━━━━━━━━━━━━━━━━━┓\n",
              "┃<span style=\"font-weight: bold\"> Layer (type)                         </span>┃<span style=\"font-weight: bold\"> Output Shape                </span>┃<span style=\"font-weight: bold\">         Param # </span>┃\n",
              "┡━━━━━━━━━━━━━━━━━━━━━━━━━━━━━━━━━━━━━━╇━━━━━━━━━━━━━━━━━━━━━━━━━━━━━╇━━━━━━━━━━━━━━━━━┩\n",
              "│ embedding (<span style=\"color: #0087ff; text-decoration-color: #0087ff\">Embedding</span>)                │ ?                           │     <span style=\"color: #00af00; text-decoration-color: #00af00\">0</span> (unbuilt) │\n",
              "├──────────────────────────────────────┼─────────────────────────────┼─────────────────┤\n",
              "│ lstm (<span style=\"color: #0087ff; text-decoration-color: #0087ff\">LSTM</span>)                          │ ?                           │     <span style=\"color: #00af00; text-decoration-color: #00af00\">0</span> (unbuilt) │\n",
              "├──────────────────────────────────────┼─────────────────────────────┼─────────────────┤\n",
              "│ dense (<span style=\"color: #0087ff; text-decoration-color: #0087ff\">Dense</span>)                        │ ?                           │     <span style=\"color: #00af00; text-decoration-color: #00af00\">0</span> (unbuilt) │\n",
              "└──────────────────────────────────────┴─────────────────────────────┴─────────────────┘\n",
              "</pre>\n"
            ]
          },
          "metadata": {}
        },
        {
          "output_type": "display_data",
          "data": {
            "text/plain": [
              "\u001b[1m Total params: \u001b[0m\u001b[38;5;34m0\u001b[0m (0.00 B)\n"
            ],
            "text/html": [
              "<pre style=\"white-space:pre;overflow-x:auto;line-height:normal;font-family:Menlo,'DejaVu Sans Mono',consolas,'Courier New',monospace\"><span style=\"font-weight: bold\"> Total params: </span><span style=\"color: #00af00; text-decoration-color: #00af00\">0</span> (0.00 B)\n",
              "</pre>\n"
            ]
          },
          "metadata": {}
        },
        {
          "output_type": "display_data",
          "data": {
            "text/plain": [
              "\u001b[1m Trainable params: \u001b[0m\u001b[38;5;34m0\u001b[0m (0.00 B)\n"
            ],
            "text/html": [
              "<pre style=\"white-space:pre;overflow-x:auto;line-height:normal;font-family:Menlo,'DejaVu Sans Mono',consolas,'Courier New',monospace\"><span style=\"font-weight: bold\"> Trainable params: </span><span style=\"color: #00af00; text-decoration-color: #00af00\">0</span> (0.00 B)\n",
              "</pre>\n"
            ]
          },
          "metadata": {}
        },
        {
          "output_type": "display_data",
          "data": {
            "text/plain": [
              "\u001b[1m Non-trainable params: \u001b[0m\u001b[38;5;34m0\u001b[0m (0.00 B)\n"
            ],
            "text/html": [
              "<pre style=\"white-space:pre;overflow-x:auto;line-height:normal;font-family:Menlo,'DejaVu Sans Mono',consolas,'Courier New',monospace\"><span style=\"font-weight: bold\"> Non-trainable params: </span><span style=\"color: #00af00; text-decoration-color: #00af00\">0</span> (0.00 B)\n",
              "</pre>\n"
            ]
          },
          "metadata": {}
        },
        {
          "output_type": "stream",
          "name": "stdout",
          "text": [
            "None\n"
          ]
        }
      ]
    },
    {
      "cell_type": "code",
      "source": [
        "# Definimos las métricas del modelo\n",
        "model.compile(loss='binary_crossentropy', optimizer='adam', metrics=['accuracy'])"
      ],
      "metadata": {
        "id": "C1zZIa2VLMVz"
      },
      "execution_count": 28,
      "outputs": []
    },
    {
      "cell_type": "code",
      "source": [
        "from tensorflow.keras.preprocessing.text import Tokenizer\n",
        "from tensorflow.keras.preprocessing.sequence import pad_sequences\n",
        "\n",
        "# Tokenizamos\n",
        "tokenizer = Tokenizer(num_words=998)\n",
        "tokenizer.fit_on_texts(X_train)\n",
        "\n",
        "# Convertimos las palabras a índices\n",
        "X_train_seq = tokenizer.texts_to_sequences(X_train)\n",
        "X_test_seq = tokenizer.texts_to_sequences(X_test)\n",
        "\n",
        "# Rellenamos las secuencias para que tengan la misma longitud definida anteriormente\n",
        "X_train_pad = pad_sequences(X_train_seq, maxlen=max_words)\n",
        "X_test_pad = pad_sequences(X_test_seq, maxlen=max_words)"
      ],
      "metadata": {
        "id": "0IMcg18LVzCV"
      },
      "execution_count": 29,
      "outputs": []
    },
    {
      "cell_type": "code",
      "source": [
        "batch_size = 64\n",
        "num_epochs = 1\n",
        "\n",
        "# Separamos un conjunto de validación del 10% de los datos\n",
        "val_size = int(0.1 * len(X_train_pad))\n",
        "X_valid, y_valid = X_train_pad[:val_size], y_train[:val_size]\n",
        "X_train_pad2, y_train2 = X_train_pad[val_size:], y_train[val_size:]\n",
        "\n",
        "model.fit(X_train_pad2, y_train2,\n",
        "          validation_data=(X_valid, y_valid),\n",
        "          batch_size=batch_size, epochs=num_epochs)"
      ],
      "metadata": {
        "colab": {
          "base_uri": "https://localhost:8080/"
        },
        "id": "Cm-xUmCDLMSZ",
        "outputId": "7f2f7141-22db-4e13-a02f-cdf573db738a"
      },
      "execution_count": 30,
      "outputs": [
        {
          "output_type": "stream",
          "name": "stdout",
          "text": [
            "\u001b[1m55/55\u001b[0m \u001b[32m━━━━━━━━━━━━━━━━━━━━\u001b[0m\u001b[37m\u001b[0m \u001b[1m33s\u001b[0m 523ms/step - accuracy: 0.5595 - loss: 0.6820 - val_accuracy: 0.6846 - val_loss: 0.6061\n"
          ]
        },
        {
          "output_type": "execute_result",
          "data": {
            "text/plain": [
              "<keras.src.callbacks.history.History at 0x7be5a432a0e0>"
            ]
          },
          "metadata": {},
          "execution_count": 30
        }
      ]
    },
    {
      "cell_type": "code",
      "source": [
        "# El modelo tiene poco accuracy en train como en val, con lo que aumentamos epocas.\n",
        "\n",
        "batch_size = 64\n",
        "num_epochs = 10\n",
        "\n",
        "val_size = int(0.1 * len(X_train_pad))\n",
        "X_valid, y_valid = X_train_pad[:val_size], y_train[:val_size]\n",
        "X_train_pad2, y_train2 = X_train_pad[val_size:], y_train[val_size:]\n",
        "\n",
        "model.fit(X_train_pad2, y_train2,\n",
        "          validation_data=(X_valid, y_valid),\n",
        "          batch_size=batch_size, epochs=num_epochs)\n",
        "\n",
        "# El modelo mejora notablemente el resultado"
      ],
      "metadata": {
        "colab": {
          "base_uri": "https://localhost:8080/"
        },
        "id": "j3U2A_IQY90d",
        "outputId": "a1195c8d-a44a-4823-8efc-712226e0a640"
      },
      "execution_count": 31,
      "outputs": [
        {
          "output_type": "stream",
          "name": "stdout",
          "text": [
            "Epoch 1/10\n",
            "\u001b[1m55/55\u001b[0m \u001b[32m━━━━━━━━━━━━━━━━━━━━\u001b[0m\u001b[37m\u001b[0m \u001b[1m15s\u001b[0m 264ms/step - accuracy: 0.7417 - loss: 0.5487 - val_accuracy: 0.7641 - val_loss: 0.5168\n",
            "Epoch 2/10\n",
            "\u001b[1m55/55\u001b[0m \u001b[32m━━━━━━━━━━━━━━━━━━━━\u001b[0m\u001b[37m\u001b[0m \u001b[1m20s\u001b[0m 258ms/step - accuracy: 0.8175 - loss: 0.4205 - val_accuracy: 0.7641 - val_loss: 0.5237\n",
            "Epoch 3/10\n",
            "\u001b[1m55/55\u001b[0m \u001b[32m━━━━━━━━━━━━━━━━━━━━\u001b[0m\u001b[37m\u001b[0m \u001b[1m21s\u001b[0m 265ms/step - accuracy: 0.8478 - loss: 0.3532 - val_accuracy: 0.7615 - val_loss: 0.5359\n",
            "Epoch 4/10\n",
            "\u001b[1m55/55\u001b[0m \u001b[32m━━━━━━━━━━━━━━━━━━━━\u001b[0m\u001b[37m\u001b[0m \u001b[1m21s\u001b[0m 275ms/step - accuracy: 0.8764 - loss: 0.2963 - val_accuracy: 0.7462 - val_loss: 0.5616\n",
            "Epoch 5/10\n",
            "\u001b[1m55/55\u001b[0m \u001b[32m━━━━━━━━━━━━━━━━━━━━\u001b[0m\u001b[37m\u001b[0m \u001b[1m17s\u001b[0m 305ms/step - accuracy: 0.8859 - loss: 0.2778 - val_accuracy: 0.7590 - val_loss: 0.5850\n",
            "Epoch 6/10\n",
            "\u001b[1m55/55\u001b[0m \u001b[32m━━━━━━━━━━━━━━━━━━━━\u001b[0m\u001b[37m\u001b[0m \u001b[1m15s\u001b[0m 266ms/step - accuracy: 0.8969 - loss: 0.2557 - val_accuracy: 0.7590 - val_loss: 0.5876\n",
            "Epoch 7/10\n",
            "\u001b[1m55/55\u001b[0m \u001b[32m━━━━━━━━━━━━━━━━━━━━\u001b[0m\u001b[37m\u001b[0m \u001b[1m20s\u001b[0m 264ms/step - accuracy: 0.9148 - loss: 0.2270 - val_accuracy: 0.7564 - val_loss: 0.6510\n",
            "Epoch 8/10\n",
            "\u001b[1m55/55\u001b[0m \u001b[32m━━━━━━━━━━━━━━━━━━━━\u001b[0m\u001b[37m\u001b[0m \u001b[1m20s\u001b[0m 264ms/step - accuracy: 0.9121 - loss: 0.2243 - val_accuracy: 0.7333 - val_loss: 0.6945\n",
            "Epoch 9/10\n",
            "\u001b[1m55/55\u001b[0m \u001b[32m━━━━━━━━━━━━━━━━━━━━\u001b[0m\u001b[37m\u001b[0m \u001b[1m21s\u001b[0m 267ms/step - accuracy: 0.9290 - loss: 0.1929 - val_accuracy: 0.7359 - val_loss: 0.6571\n",
            "Epoch 10/10\n",
            "\u001b[1m55/55\u001b[0m \u001b[32m━━━━━━━━━━━━━━━━━━━━\u001b[0m\u001b[37m\u001b[0m \u001b[1m20s\u001b[0m 266ms/step - accuracy: 0.9308 - loss: 0.1887 - val_accuracy: 0.7333 - val_loss: 0.7298\n"
          ]
        },
        {
          "output_type": "execute_result",
          "data": {
            "text/plain": [
              "<keras.src.callbacks.history.History at 0x7be53b539870>"
            ]
          },
          "metadata": {},
          "execution_count": 31
        }
      ]
    },
    {
      "cell_type": "code",
      "source": [
        "import os\n",
        "model.save('./lstm_model.keras')"
      ],
      "metadata": {
        "id": "A-1_Y-H1aFkM"
      },
      "execution_count": 32,
      "outputs": []
    },
    {
      "cell_type": "code",
      "source": [
        "scores = model.evaluate(X_test_pad, y_test, verbose=0)\n",
        "print(\"Test accuracy:\", scores[1])"
      ],
      "metadata": {
        "colab": {
          "base_uri": "https://localhost:8080/"
        },
        "id": "YVD3PqRSaIq2",
        "outputId": "d965d029-8f32-4d7a-b86f-eed8948006cb"
      },
      "execution_count": 33,
      "outputs": [
        {
          "output_type": "stream",
          "name": "stdout",
          "text": [
            "Test accuracy: 0.765848696231842\n"
          ]
        }
      ]
    },
    {
      "cell_type": "code",
      "source": [
        "from sklearn.metrics import precision_score, recall_score, f1_score\n",
        "\n",
        "# Obtenemos las predicciones\n",
        "y_pred_train = model.predict(X_train_pad)\n",
        "y_pred_test = model.predict(X_test_pad)\n",
        "\n",
        "# Asignamos el umbral\n",
        "y_pred_train = (y_pred_train > 0.5).astype(\"int32\")\n",
        "y_pred_test = (y_pred_test > 0.5).astype(\"int32\")\n",
        "\n",
        "# Calculamos las métricas de evaluación del modelo para train\n",
        "precision_train = precision_score(y_train, y_pred_train)\n",
        "recall_train = recall_score(y_train, y_pred_train)\n",
        "f1_train = f1_score(y_train, y_pred_train)\n",
        "\n",
        "# Calculamos las métricas de evaluación del modelo para test\n",
        "precision_test = precision_score(y_test, y_pred_test)\n",
        "recall_test = recall_score(y_test, y_pred_test)\n",
        "f1_test = f1_score(y_test, y_pred_test)\n",
        "\n",
        "print(f\"--- Train Set Metrics ---\")\n",
        "print(f\"Precisión: {precision_train:.4f}\")\n",
        "print(f\"Recall: {recall_train:.4f}\")\n",
        "print(f\"F1 Score: {f1_train:.4f}\")\n",
        "\n",
        "print(f\"\\n--- Test Set Metrics ---\")\n",
        "print(f\"Precisión: {precision_test:.4f}\")\n",
        "print(f\"Recall: {recall_test:.4f}\")\n",
        "print(f\"F1 Score: {f1_test:.4f}\")\n",
        "\n",
        "# Nota la predicción en train se realiza sólo como referencia"
      ],
      "metadata": {
        "colab": {
          "base_uri": "https://localhost:8080/"
        },
        "id": "62FmAOL7boTd",
        "outputId": "f3447806-001a-49a7-a900-977d4e62c057"
      },
      "execution_count": 35,
      "outputs": [
        {
          "output_type": "stream",
          "name": "stdout",
          "text": [
            "\u001b[1m123/123\u001b[0m \u001b[32m━━━━━━━━━━━━━━━━━━━━\u001b[0m\u001b[37m\u001b[0m \u001b[1m10s\u001b[0m 83ms/step\n",
            "\u001b[1m31/31\u001b[0m \u001b[32m━━━━━━━━━━━━━━━━━━━━\u001b[0m\u001b[37m\u001b[0m \u001b[1m2s\u001b[0m 72ms/step\n",
            "--- Train Set Metrics ---\n",
            "Precisión: 0.9332\n",
            "Recall: 0.9010\n",
            "F1 Score: 0.9168\n",
            "\n",
            "--- Test Set Metrics ---\n",
            "Precisión: 0.7643\n",
            "Recall: 0.6968\n",
            "F1 Score: 0.7290\n"
          ]
        }
      ]
    },
    {
      "cell_type": "code",
      "source": [
        "import matplotlib.pyplot as plt\n",
        "import seaborn as sns\n",
        "from sklearn.metrics import confusion_matrix\n",
        "\n",
        "# Obtenemos las predicciones\n",
        "y_pred_prob = model.predict(X_test_pad)\n",
        "\n",
        "# Asignamos el umbral\n",
        "y_pred = (y_pred_prob > 0.5).astype(\"int32\")\n",
        "\n",
        "# Generamos la matriz de confusión\n",
        "cm = confusion_matrix(y_test, y_pred)\n",
        "\n",
        "plt.figure(figsize=(6, 4))\n",
        "sns.heatmap(cm, annot=True, fmt='g', cmap='Blues', xticklabels=[\"Clase 0\", \"Clase 1\"], yticklabels=[\"Clase 0\", \"Clase 1\"])\n",
        "plt.xlabel(\"Predicciones\")\n",
        "plt.ylabel(\"Etiquetas verdaderas\")\n",
        "plt.title(\"Matriz de Confusión\")\n",
        "plt.show()\n"
      ],
      "metadata": {
        "colab": {
          "base_uri": "https://localhost:8080/",
          "height": 427
        },
        "id": "DXS-PisPcAys",
        "outputId": "9b67bd59-bbbf-4060-df4a-cd161b52fd9f"
      },
      "execution_count": 36,
      "outputs": [
        {
          "output_type": "stream",
          "name": "stdout",
          "text": [
            "\u001b[1m31/31\u001b[0m \u001b[32m━━━━━━━━━━━━━━━━━━━━\u001b[0m\u001b[37m\u001b[0m \u001b[1m1s\u001b[0m 38ms/step\n"
          ]
        },
        {
          "output_type": "display_data",
          "data": {
            "text/plain": [
              "<Figure size 600x400 with 2 Axes>"
            ],
            "image/png": "[encoded data removed]"
          },
          "metadata": {}
        }
      ]
    },
    {
      "cell_type": "code",
      "source": [
        "# Conclusiones del modelo:\n",
        "# 1. El modelo obtiene un buen accuracy pero está sobreajustado (los resultados son significativamente mejores en train que en test)\n",
        "# 2. El modelo ha aprendido patrones específicos de train y no generalizza tan bien\n",
        "# 3. Posibles siguientes iteraciones para mejorar el modelo:\n",
        "#       3.1. Aumentar el dataset ya que disponemos de registros no usados\n",
        "#       3.2. Disminuir la complejidad del modelo\n",
        "#       3.3. Aplicar técnicas de regularización\n",
        "# 4. En cualquier caso, la evaluación en test no es mala (aunque claramente mejorable)\n",
        "#       4.1. Precisión 76% -> De todas las predicciones positivas, el 76% fue correcto\n",
        "#       4.2. Recall 70% -> Identificamos el 70% de las verdades instancias positivas\n",
        "# 5. Podemos valores que el 76% en accuracy en test en un modelo balanceado es un resultado correcto."
      ],
      "metadata": {
        "id": "-vj0aHSshcXX"
      },
      "execution_count": null,
      "outputs": []
    },
    {
      "cell_type": "code",
      "source": [
        "################################################################################################################################\n",
        "############################## CONCLUSIONES ####################################################################################\n",
        "################################################################################################################################"
      ],
      "metadata": {
        "id": "7Ln2sSI66LmF"
      },
      "execution_count": null,
      "outputs": []
    },
    {
      "cell_type": "code",
      "source": [
        "# ¿Qué modelo seleccionar?\n",
        "# En este caso los resultados obtenidos son parejos, aunque el modelo de DL requiere de un trabajo extra para evitar el sobreajuste.\n",
        "# Si el scope del proyecto es el \"resuelto\" en esta practica me quedaría con el de ML, pero en un contexto corporativo\n",
        "# donde asumo que la clasificación binaria de las \"reviews\" es un primer paso de muchos otros, creo que sería conveniente\n",
        "# terminar de ajustar el modelo de DL para tener una herramienta con mucho más potencial y así poder encarar requisitos\n",
        "# futuros como:\n",
        "# - detectar matices... como la ironía o el sarcasmo\n",
        "# - generar textos... como resumenes de las reviews\n",
        "# - desarrollar chatbots\n",
        "# Además podríamos aprovechar aprendizajes de modelos creados con grandes corpus."
      ],
      "metadata": {
        "id": "KE_17McJOMgj"
      },
      "execution_count": null,
      "outputs": []
    }
  ]
}